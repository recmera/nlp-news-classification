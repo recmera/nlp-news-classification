{
 "cells": [
  {
   "cell_type": "markdown",
   "id": "d7f650f8",
   "metadata": {
    "scrolled": false
   },
   "source": [
    "# TAL aplicado al análisis del discurso de los medios de prensa 📰🤓🔥\n",
    "\n",
    "\n",
    "El proyecto consiste en entrenar y evaluar varios modelos de clasificación supervisada capaz de clasificar una noticia.\n"
   ]
  },
  {
   "cell_type": "markdown",
   "id": "172a8e0a",
   "metadata": {},
   "source": [
    "- Hito Unidad 1 (29 de septiembre): Datasets de entrenamiento y test + primer modelo baseline\n",
    "\n",
    "\n",
    "\n",
    "### índex\n",
    "\n",
    "1. [Importación del dataset](a)\n",
    "2. [Extracción de tópicos vía RE en URLs](b)\n",
    "3. [Extracción de términos clave de columnas title+text](b)\n",
    "4. [Clasificación del dataset de entrenamiento](c)\n",
    "\n",
    "## Generando dataset de entrenamiento\n",
    "El dataset se clasificará en función de las siguientes etiquetas:\n",
    "- mundo = 0 \n",
    "- economía = 1 \n",
    "- política y conflictos = 2 \n",
    "- ciencia y tecnología = 3\n",
    "- catástrofes y accidentes = 4 \n",
    "- cultura y arte = 5 \n",
    "- deporte = 6 \n",
    "- ecología y planeta = 7\n",
    "- crimen, delitos y justicia = 8 \n",
    "- salud = 9"
   ]
  },
  {
   "cell_type": "code",
   "execution_count": 1,
   "id": "22cb9fba",
   "metadata": {},
   "outputs": [
    {
     "name": "stdout",
     "output_type": "stream",
     "text": [
      "versión de Spacy:  3.1.3\n"
     ]
    }
   ],
   "source": [
    "import warnings\n",
    "warnings.filterwarnings('ignore')\n",
    "\n",
    "# Data manipulation\n",
    "import re\n",
    "import multiprocessing\n",
    "import pandas as pd\n",
    "pd.set_option(\"display.max_rows\", None)\n",
    "import numpy as np\n",
    "\n",
    "# NLP\n",
    "import gensim\n",
    "import gensim.corpora as corpora\n",
    "from gensim.utils import simple_preprocess\n",
    "from gensim.models import Word2Vec, CoherenceModel\n",
    "#import pyLDAvis\n",
    "#import pyLDAvis.gensim_models  # don't skip this\n",
    "import nltk \n",
    "#nltk.download('stopwords') \n",
    "import spacy\n",
    "from spacy.matcher import Matcher\n",
    "nlp = spacy.load(\"es_core_news_sm\")\n",
    "print(\"versión de Spacy: \", spacy.__version__)\n",
    "\n"
   ]
  },
  {
   "cell_type": "markdown",
   "id": "f5fcb00f",
   "metadata": {},
   "source": [
    "### 1. Importación de dataset <a name=\"a\"></a>"
   ]
  },
  {
   "cell_type": "code",
   "execution_count": 2,
   "id": "786b14a1",
   "metadata": {
    "scrolled": true
   },
   "outputs": [
    {
     "name": "stdout",
     "output_type": "stream",
     "text": [
      "Largo de dataset:  69702\n"
     ]
    }
   ],
   "source": [
    "frames = [pd.read_csv(\"data/chile_2020-09.csv\"), pd.read_csv(\"data/chile_2020-10.csv\"),pd.read_csv(\"data/chile_2020-11.csv\"), pd.read_csv(\"data/chile_2020-12.csv\"), pd.read_csv(\"data/chile_2021-01.csv\"), pd.read_csv(\"data/chile_2021-02.csv\"), pd.read_csv(\"data/chile_2021-03.csv\"), pd.read_csv(\"data/chile_2021-04.csv\")]\n",
    "dataset = pd.concat(frames)\n",
    "dataset['content'] = dataset['title'] + \" \" + dataset['text'] \n",
    "\n",
    "print(\"Largo de dataset: \", len(dataset))\n",
    "dataset= dataset[dataset['text'].notna()]\n",
    "        \n",
    "dataset.drop(columns=['country','year','date','id', 'id_journalist'], inplace=True)\n",
    "dataset['topic'] = \"\""
   ]
  },
  {
   "cell_type": "markdown",
   "id": "d15176f7",
   "metadata": {},
   "source": [
    "### 2.  Extracción de tópicos vía RE en URL <a name=\"b\"></a>"
   ]
  },
  {
   "cell_type": "code",
   "execution_count": 3,
   "id": "ff0bce3a",
   "metadata": {},
   "outputs": [
    {
     "data": {
      "text/plain": [
       "{'ahoranoticiasmega',\n",
       " 'biobiochile',\n",
       " 'elciudadano',\n",
       " 'elmostrador',\n",
       " 'emol',\n",
       " 'horas24',\n",
       " 'latercera'}"
      ]
     },
     "execution_count": 3,
     "metadata": {},
     "output_type": "execute_result"
    }
   ],
   "source": [
    "#identicando fuentes fuentes\n",
    "set(dataset[\"media_outlet\"])"
   ]
  },
  {
   "cell_type": "code",
   "execution_count": 4,
   "id": "14b7a43d",
   "metadata": {},
   "outputs": [
    {
     "name": "stdout",
     "output_type": "stream",
     "text": [
      "268    https://www.meganoticias.cl/nacional/312353-si...\n",
      "269    https://www.meganoticias.cl/nacional/312350-cy...\n",
      "Name: url, dtype: object\n",
      "0    https://www.24horas.cl/coronavirus/tia-pikachu...\n",
      "3    https://www.24horas.cl/nacional/rm-alcanza-sus...\n",
      "Name: url, dtype: object\n",
      "205    https://www.elciudadano.com/chile/el-avance-de...\n",
      "206    https://www.elciudadano.com/latinoamerica/colo...\n",
      "Name: url, dtype: object\n",
      "29    https://www.biobiochile.cl/noticias/nacional/c...\n",
      "30    https://www.biobiochile.cl/noticias/nacional/r...\n",
      "Name: url, dtype: object\n",
      "228    https://www.elmostrador.cl/noticias/pais/2020/...\n",
      "230    https://www.elmostrador.cl/dia/2020/09/01/dipu...\n",
      "Name: url, dtype: object\n",
      "496    https://www.emol.com/noticias/Economia/2020/09...\n",
      "497    https://www.emol.com/noticias/Economia/2020/09...\n",
      "Name: url, dtype: object\n",
      "209    https://www.latercera.com/politica/noticia/el-...\n",
      "210    https://www.latercera.com/politica/noticia/cam...\n",
      "Name: url, dtype: object\n"
     ]
    }
   ],
   "source": [
    "print(dataset[dataset.media_outlet==\"ahoranoticiasmega\"][\"url\"].head(2))\n",
    "print(dataset[dataset.media_outlet==\"horas24\"][\"url\"].head(2))\n",
    "print(dataset[dataset.media_outlet==\"elciudadano\"][\"url\"].head(2))\n",
    "print(dataset[dataset.media_outlet==\"biobiochile\"][\"url\"].head(2))\n",
    "print(dataset[dataset.media_outlet==\"elmostrador\"][\"url\"].head(2))\n",
    "print(dataset[dataset.media_outlet==\"emol\"][\"url\"].head(2))\n",
    "print(dataset[dataset.media_outlet==\"latercera\"][\"url\"].head(2))"
   ]
  },
  {
   "cell_type": "markdown",
   "id": "4a38db2f",
   "metadata": {},
   "source": [
    "Las urls de _Ahoranoticiasmega, Horas24 y El Ciudadano_ son similares.\n",
    "La url de _La Tercera_ posee dos tópicos, sin embargo, el segundo tópico es irrelevante."
   ]
  },
  {
   "cell_type": "code",
   "execution_count": 5,
   "id": "5a659396",
   "metadata": {},
   "outputs": [],
   "source": [
    "#Generamos df1 concatenando ahoranoticiasmega, horas24 y elciudadano\n",
    "medios = [dataset.loc[dataset['media_outlet']==\"ahoranoticiasmega\"],\n",
    "          dataset.loc[dataset['media_outlet']==\"horas24\"],\n",
    "          dataset.loc[dataset['media_outlet']==\"elciudadano\"],\n",
    "          dataset.loc[dataset['media_outlet']==\"latercera\"]]\n",
    "df1 = pd.concat(medios)\n",
    "for index, row in df1.iterrows():\n",
    "    url=row['url']\n",
    "    obj = re.findall('(\\w+)://([\\w\\-\\.]+)/([\\w\\-]+).([\\w\\-]+)', url) \n",
    "    topic=obj[0][2]\n",
    "    df1.loc[index,'topic'] = topic.lower()"
   ]
  },
  {
   "cell_type": "markdown",
   "id": "efc8a6ac",
   "metadata": {},
   "source": [
    "Las urls de _Biobiochile, El Mostrador, Emol_ poseen dos columnas de tópicos. La primera columna entrega información irrelevante. "
   ]
  },
  {
   "cell_type": "code",
   "execution_count": 6,
   "id": "88547a4d",
   "metadata": {
    "scrolled": true
   },
   "outputs": [],
   "source": [
    "medios2 = [dataset.loc[dataset['media_outlet']==\"biobiochile\"],\n",
    "           dataset.loc[dataset['media_outlet']==\"elmostrador\"],\n",
    "           dataset.loc[dataset['media_outlet']==\"emol\"]] \n",
    "df2 = pd.concat(medios2)\n",
    "for index, row in df2.iterrows():\n",
    "    url=row['url']\n",
    "    obj = re.findall('(\\w+)://([\\w\\-\\.]+)/([\\w\\-]+).([\\w\\-]+)', url)\n",
    "    topic = obj[0][3]\n",
    "    df2.loc[index,'topic'] = topic.lower()"
   ]
  },
  {
   "cell_type": "code",
   "execution_count": 7,
   "id": "23f43571",
   "metadata": {},
   "outputs": [
    {
     "data": {
      "text/plain": [
       "array(['2020', '2021', 'actualidad', 'animal', 'artes', 'autos',\n",
       "       'calidad-de-vida', 'cartas-ciudadanas', 'chile',\n",
       "       'ciencia-tecnologia', 'ciudadanos-al-poder', 'columnas',\n",
       "       'conversacioneslt', 'coronavirus', 'culto', 'data', 'deportes',\n",
       "       'derechos-humanos', 'destacados-cultura', 'economia', 'educacion',\n",
       "       'el-deportivo', 'especiales', 'espectaculos', 'genero',\n",
       "       'internacional', 'justicia', 'la-tercera-domingo', 'la-tercera-pm',\n",
       "       'la-tercera-tv', 'latinoamerica', 'mapuche', 'masdeco',\n",
       "       'medio-ambiente', 'mexico', 'mineria', 'mouse', 'multimedia',\n",
       "       'mundo', 'nacional', 'noticiasbbc', 'opinion', 'pais', 'paula',\n",
       "       'peru', 'plebiscito-chile-elige', 'politica', 'portada',\n",
       "       'portada-tv', 'proceso-constituyente', 'programas', 'pueblos',\n",
       "       'pulso', 'pulso-trader', 'que-pasa', 'reconstitucion',\n",
       "       'redes-sociales', 'regiones', 'reportaje-investigacion',\n",
       "       'revista-que-pasa', 'salud', 'sociedad', 'tecnologia',\n",
       "       'tecnologia-2', 'tendencias', 'tesirve', 'trabajo', 'wires'],\n",
       "      dtype=object)"
      ]
     },
     "execution_count": 7,
     "metadata": {},
     "output_type": "execute_result"
    }
   ],
   "source": [
    "df = pd.concat([df1,df2])\n",
    "np.sort(df['topic'].unique())"
   ]
  },
  {
   "cell_type": "code",
   "execution_count": 8,
   "id": "5d752e7e",
   "metadata": {},
   "outputs": [
    {
     "data": {
      "text/plain": [
       "     34315\n",
       "0     9913\n",
       "6     9609\n",
       "3     5689\n",
       "2     5020\n",
       "1     1774\n",
       "8      428\n",
       "9      244\n",
       "5      179\n",
       "7      168\n",
       "Name: label, dtype: int64"
      ]
     },
     "metadata": {},
     "output_type": "display_data"
    }
   ],
   "source": [
    "df['label'] = \"\"\n",
    "# mundo\n",
    "df.loc[df['topic'] == 'mundo',                  'label'] = 0\n",
    "df.loc[df['topic'] == 'noticiasbbc',            'label'] = 0\n",
    "df.loc[df['topic'] == 'internacional',          'label'] = 0\n",
    "# economia\n",
    "df.loc[df['topic'] == 'economia',               'label'] = 1\n",
    "df.loc[df['topic'] == 'pulso-trader',           'label'] = 1\n",
    "# política y conflictos\n",
    "df.loc[df['topic'] == 'politica',               'label'] = 2\n",
    "df.loc[df['topic'] == 'plebiscito-chile-elige', 'label'] = 2\n",
    "df.loc[df['topic'] == 'ciudadanos-al-poder',    'label'] = 2\n",
    "df.loc[df['topic'] == 'proceso-constituyente',  'label'] = 2\n",
    "# ciencia y tecnologia\n",
    "df.loc[df['topic'] == 'tecnologia',             'label'] = 3\n",
    "df.loc[df['topic'] == 'tecnologia-2',           'label'] = 3\n",
    "df.loc[df['topic'] == 'ciencia-tecnologia',     'label'] = 3\n",
    "df.loc[df['topic'] == 'mouse',                  'label'] = 3\n",
    "df.loc[df['topic'] == 'redes-sociales',         'label'] = 3\n",
    "# accidentes \n",
    "df.loc[df['topic'] == 'accidentes',             'label'] = 4\n",
    "# arte y cultura\n",
    "df.loc[df['topic'] == 'cultura',                'label'] = 5\n",
    "df.loc[df['topic'] == 'artes',                  'label'] = 5\n",
    "# deportes\n",
    "df.loc[df['topic'] == 'deportes',               'label'] = 6\n",
    "df.loc[df['topic'] == 'el-deportivo',           'label'] = 6\n",
    "# ecologia y planeta\n",
    "df.loc[df['topic'] == 'medio-ambiente',         'label'] = 7\n",
    "df.loc[df['topic'] == 'animal',                 'label'] = 7\n",
    "# crimen, delitos y justicia\n",
    "df.loc[df['topic'] == 'justicia',               'label'] = 8\n",
    "df.loc[df['topic'] == 'reportaje-investigacion','label'] = 8\n",
    "# salud\n",
    "df.loc[df['topic'] == 'salud',                  'label'] = 9\n",
    "df.loc[df['topic'] == 'calidad-de-vida',        'label'] = 9\n",
    "df.loc[df['topic'] == 'coronavirus',            'label'] = 9\n",
    "\n",
    "display(df['label'].value_counts())\n",
    "# nos quedamos sólo con las noticias etiquetadas. para clasificar df1 utilizaremos otro metodo\n",
    "df1 = df.loc[df['label']==''] \n",
    "df = df[df['label']!='']"
   ]
  },
  {
   "cell_type": "markdown",
   "id": "53c5733e",
   "metadata": {},
   "source": [
    "Tenemos muchas noticias no clasificadas, por lo que es necesario utilizar otro mecanísmo para clasificar las noticias restantes."
   ]
  },
  {
   "cell_type": "markdown",
   "id": "45ab702c",
   "metadata": {},
   "source": [
    "### 3.  Extracción de términos clave de columna title+text <a name=\"b\"></a>"
   ]
  },
  {
   "cell_type": "code",
   "execution_count": null,
   "id": "e6eb9634",
   "metadata": {},
   "outputs": [],
   "source": [
    "matcher = Matcher(nlp.vocab)\n",
    "\n",
    "# Pattern 1: NOUN de NOUN\n",
    "pattern_1 = [{\"POS\": \"NOUN\"},{\"LOWER\": \"de\"}, {\"POS\": \"NOUN\"}]\n",
    "matcher.add(\"NOUN-de-NOUN\", [pattern_1])\n",
    "\n",
    "# Pattern 2: NOUN ADJ\n",
    "pattern_2 = [{\"POS\": \"NOUN\"}, {\"POS\": \"ADJ\"}]\n",
    "matcher.add(\"NOUN-ADJ\", [pattern_2])\n",
    "\n",
    "# Pattern 3: \n",
    "pattern_3 = [{\"POS\": \"NOUN\"}]\n",
    "matcher.add(\"NOUN\", [pattern_3])"
   ]
  },
  {
   "cell_type": "markdown",
   "id": "8a110d7e",
   "metadata": {},
   "source": [
    "    Bloque de alto coste computacional ⬇️"
   ]
  },
  {
   "cell_type": "code",
   "execution_count": null,
   "id": "f3e12b1d",
   "metadata": {},
   "outputs": [],
   "source": [
    "df1['terms'] = \"\"\n",
    "for index, row in df1.iterrows():\n",
    "    doc = nlp(row['content'].lower())\n",
    "\n",
    "    matches = matcher(doc)\n",
    "    categories = \"\"\n",
    "    for match_id, start, end in matches:\n",
    "        string_id = nlp.vocab.strings[match_id]  # Get string representation\n",
    "        span = doc[start:end]  # The matched span\n",
    "        categories = categories + span.text + \"; \"\n",
    "    \n",
    "    row['terms'] = categories\n",
    "    \n",
    "display(df1.head(3))"
   ]
  },
  {
   "cell_type": "code",
   "execution_count": null,
   "id": "13c423a6",
   "metadata": {
    "scrolled": true
   },
   "outputs": [],
   "source": [
    "from collections import Counter\n",
    "df1[\"most_common\"] = \"\"\n",
    "df1[\"second_common\"] = \"\"\n",
    "\n",
    "for index, row in df1.iterrows():\n",
    "    split_it = row['terms'].split(\"; \")\n",
    "    counter = Counter(split_it)\n",
    "    row['most_common'] = counter.most_common()[0][0]\n",
    "    try:\n",
    "        row['second_common'] = counter.most_common()[1][0]\n",
    "    except IndexError:\n",
    "        row['second_common'] = counter.most_common()[0][0]\n",
    "\n",
    "display(df1.head(3))"
   ]
  },
  {
   "cell_type": "markdown",
   "id": "ea663178",
   "metadata": {},
   "source": [
    "**Para no ejecutar siempre la celda de alto costo computacional, almacenamos la data procesada en un nuevo csv con los términos claves y luego solo importamos el csv**"
   ]
  },
  {
   "cell_type": "code",
   "execution_count": null,
   "id": "7e96d78e",
   "metadata": {},
   "outputs": [],
   "source": [
    "df1.to_csv(\"keysTerms.csv\", index=False) "
   ]
  },
  {
   "cell_type": "code",
   "execution_count": 9,
   "id": "b4462753",
   "metadata": {},
   "outputs": [],
   "source": [
    "df2=pd.read_csv(\"keysTerms.csv\")\n",
    "df2.replace(np.nan,\"\", inplace=True)"
   ]
  },
  {
   "cell_type": "markdown",
   "id": "f15222f1",
   "metadata": {},
   "source": [
    "Etiquetamos los términos más comunes que pertenezcan a una de las categorías"
   ]
  },
  {
   "cell_type": "code",
   "execution_count": 10,
   "id": "31890cfb",
   "metadata": {},
   "outputs": [],
   "source": [
    "df2.loc[df2['most_common'] == 'trump',                  'label'] = 0\n",
    "df2.loc[df2['most_common'] == 'putin',                  'label'] = 0\n",
    "df2.loc[df2['most_common'] == 'mundo',                  'label'] = 0\n",
    "df2.loc[df2['most_common'] == 'dólar',                  'label'] = 1\n",
    "df2.loc[df2['most_common'] == 'economía',               'label'] = 1\n",
    "df2.loc[df2['most_common'] == 'retiro',               'label'] = 1\n",
    "df2.loc[df2['most_common'] == 'presidente',             'label'] = 2\n",
    "df2.loc[df2['most_common'] == 'ministro',               'label'] = 2\n",
    "df2.loc[df2['most_common'] == 'diputado',               'label'] = 2\n",
    "df2.loc[df2['most_common'] == 'elecciones',               'label'] = 2\n",
    "df2.loc[df2['most_common'] == 'plebiscito',               'label'] = 2\n",
    "df2.loc[df2['most_common'] == 'diputados',              'label'] = 2\n",
    "df2.loc[df2['most_common'] == 'diputado',              'label'] = 2\n",
    "df2.loc[df2['most_common'] == 'gobierno',               'label'] = 2\n",
    "df2.loc[df2['most_common'] == 'constitución',           'label'] = 2\n",
    "df2.loc[df2['most_common'] == 'senador',                'label'] = 2\n",
    "df2.loc[df2['most_common'] == 'convención',             'label'] = 2\n",
    "df2.loc[df2['most_common'] == 'servel',                 'label'] = 2\n",
    "df2.loc[df2['most_common'] == 'votos',                 'label'] = 2\n",
    "df2.loc[df2['most_common'] == 'primarias',                 'label'] = 2\n",
    "df2.loc[df2['most_common'] == 'candidato',                 'label'] = 2\n",
    "df2.loc[df2['most_common'] == 'primarias',                 'label'] = 2\n",
    "df2.loc[df2['most_common'] == 'accidente',                 'label'] = 4\n",
    "df2.loc[df2['most_common'] == 'incendio',                 'label'] = 4\n",
    "df2.loc[df2['most_common'] == 'sismo',                 'label'] = 4\n",
    "df2.loc[df2['most_common'] == 'grammy',                 'label'] = 5\n",
    "df2.loc[df2['most_common'] == 'película',                 'label'] = 5 #no estoy seguro\n",
    "df2.loc[df2['most_common'] == 'actor',                 'label'] = 5 #no estoy seguro\n",
    "df2.loc[df2['most_common'] == 'cantante',                 'label'] = 5 #no estoy seguro\n",
    "df2.loc[df2['most_common'] == 'canción',                 'label'] = 5 #no estoy seguro\n",
    "df2.loc[df2['most_common'] == 'monumento',                 'label'] = 5 #no estoy seguro\n",
    "df2.loc[df2['most_common'] == 'evento',                 'label'] = 5 #no estoy seguro\n",
    "df2.loc[df2['most_common'] == 'gol',                'label'] = 6\n",
    "df2.loc[df2['most_common'] == 'fútbol',                'label'] = 6\n",
    "df2.loc[df2['most_common'] == 'bosques',                'label'] = 7 #quizas no vaya (puede estar relacionado a noticias de quema de bosques)\n",
    "df2.loc[df2['most_common'] == 'agua',                'label'] = 7\n",
    "df2.loc[df2['most_common'] == 'eclipse',                'label'] = 7\n",
    "df2.loc[df2['most_common'] == 'mar',                'label'] = 7\n",
    "df2.loc[df2['most_common'] == 'violencia',              'label'] = 8\n",
    "df2.loc[df2['most_common'] == 'carabineros',            'label'] = 8\n",
    "df2.loc[df2['most_common'] == 'camioneros',             'label'] = 8\n",
    "df2.loc[df2['most_common'] == 'acusación',              'label'] = 8\n",
    "df2.loc[df2['most_common'] == 'fiscal',                 'label'] = 8\n",
    "df2.loc[df2['most_common'] == 'robo',                   'label'] = 8\n",
    "df2.loc[df2['most_common'] == 'ley',                    'label'] = 8\n",
    "df2.loc[df2['most_common'] == 'prisión',                    'label'] = 8\n",
    "df2.loc[df2['most_common'] == 'imputado',               'label'] = 8\n",
    "df2.loc[df2['most_common'] == 'homicidio',              'label'] = 8\n",
    "df2.loc[df2['most_common'] == 'ataque',              'label'] = 8\n",
    "df2.loc[df2['most_common'] == 'droga',                  'label'] = 8\n",
    "df2.loc[df2['most_common'] == 'femicidio',              'label'] = 8\n",
    "df2.loc[df2['most_common'] == 'amenazas',              'label'] = 8\n",
    "df2.loc[df2['most_common'] == 'salud',                  'label'] = 9\n",
    "df2.loc[df2['most_common'] == 'dosis',                  'label'] = 9\n",
    "df2.loc[df2['most_common'] == 'vacuna',                 'label'] = 9\n",
    "df2.loc[df2['most_common'] == 'pacientes',                 'label'] = 9\n",
    "df2.loc[df2['most_common'] == 'vacunas',                 'label'] = 9\n",
    "df2.loc[df2['most_common'] == 'casos',                  'label'] = 9\n",
    "df2.loc[df2['most_common'] == 'cáncer',                 'label'] = 9\n",
    "df2.loc[df2['most_common'] == 'virus',                 'label'] = 9\n",
    "df2.loc[df2['most_common'] == 'contagios',                 'label'] = 9\n",
    "df2.loc[df2['second_common'] == 'gobierno'              'label'] = 2\n",
    "df2.loc[df2['second_common'] == 'paro'                  'label'] = 2\n",
    "df2.loc[df2['second_common'] == 'presidente'                 'label'] = 2\n",
    "df2.loc[df2['second_common'] == 'elecciones'                 'label'] = 2\n",
    "df2.loc[df2['second_common'] == 'primarias'                 'label'] = 2\n",
    "df2.loc[df2['second_common'] == 'oposición'                 'label'] = 2\n",
    "df2.loc[df2['second_common'] == 'fondos'                 'label'] = 1\n",
    "df2.loc[df2['second_common'] == 'incendio'                 'label'] = 4\n",
    "df2.loc[df2['second_common'] == 'sismo'                 'label'] = 4\n",
    "df2.loc[df2['second_common'] == 'accidente'                 'label'] = 4\n",
    "df2.loc[df2['second_common'] == 'actriz'                 'label'] = 5\n",
    "df2.loc[df2['second_common'] == 'eclipse'                 'label'] = 7\n",
    "df2.loc[df2['second_common'] == 'violencia'                 'label'] = 8\n",
    "df2.loc[df2['second_common'] == 'prisión'                 'label'] = 8\n",
    "df2.loc[df2['second_common'] == 'droga'                 'label'] = 8\n",
    "df2.loc[df2['second_common'] == 'prisión preventiva'                 'label'] = 8\n",
    "df2.loc[df2['second_common'] == 'salud'                 'label'] = 9\n",
    "df2.loc[df2['second_common'] == 'vacuna'                 'label'] = 9\n",
    "df2.loc[df2['second_common'] == 'seremi'                 'label'] = 9\n",
    "\n",
    "# agregar mas...\n"
   ]
  },
  {
   "cell_type": "code",
   "execution_count": 11,
   "id": "23a88962",
   "metadata": {},
   "outputs": [
    {
     "data": {
      "text/plain": [
       "     27954\n",
       "0     9957\n",
       "6     9705\n",
       "2     6422\n",
       "3     5689\n",
       "9     2249\n",
       "1     2138\n",
       "8     2037\n",
       "4      416\n",
       "7      394\n",
       "5      378\n",
       "Name: label, dtype: int64"
      ]
     },
     "execution_count": 11,
     "metadata": {},
     "output_type": "execute_result"
    }
   ],
   "source": [
    "df = pd.concat([df,df2])\n",
    "df.drop(columns=['most_common','second_common','terms'], inplace=True)\n",
    "df['label'].value_counts()"
   ]
  },
  {
   "cell_type": "markdown",
   "id": "570dc573",
   "metadata": {},
   "source": [
    "### 4. Identificar subtópicos relacionados a los tópicos faltantes."
   ]
  },
  {
   "cell_type": "markdown",
   "id": "506cf087",
   "metadata": {},
   "source": [
    "Para obtener un dataset balanceado, falta identificar noticias de:\n",
    "* catástrofes y accidentes (4)\n",
    "* ecología y planeta (7)\n",
    "* cultura y arte (5)\n",
    "* economía (1)\n",
    "\n",
    "El título de una noticia representa información valiosa para conocer de que trata la noticia, por lo tanto, asociamos una palabra específica dentro del título con un tópico específico. Por ejemplo la palabra temblor, se asocia directamente con el tópico catástrofes y accidentes (4)"
   ]
  },
  {
   "cell_type": "code",
   "execution_count": 12,
   "id": "408b5c5e",
   "metadata": {},
   "outputs": [
    {
     "data": {
      "text/plain": [
       "0        Temblor de menor intensidad afecta nuevamente ...\n",
       "8        \"Con mucho susto\": Alcalde de Huasco por segui...\n",
       "10       Fuerte temblor de 6,3 grados afecta a la regió...\n",
       "12                     Nuevo temblor se registra en Huasco\n",
       "14             Temblor se registra en la región de Atacama\n",
       "32       SHOA descarta riesgo de tsunami tras nuevo tem...\n",
       "33       Imágenes revelan el daño que provocaron los te...\n",
       "35       Onemi llama a la tranquilidad luego de los tem...\n",
       "36       Nuevo temblor se registra en la zona norte del...\n",
       "37       Revisa los videos de los temblores que afectar...\n",
       "38       Temblor magnitud 7.0 afectó a la zona norte de...\n",
       "63        Temblor afecta nuevamente a la Región de Atacama\n",
       "64       De nube tóxica a fenómeno por temblor en el no...\n",
       "101                    Nuevo temblor se registra en Huasco\n",
       "104                  Temblor afecta a la región de Atacama\n",
       "110      Nuevo temblor se registra en la región de Atacama\n",
       "246                 Temblor afecta a la región de Coquimbo\n",
       "336              Temblor afecta a la región de Antofagasta\n",
       "377      Más de una decena de temblores se han registra...\n",
       "381      Cámara registra desde altura cómo se vivió el ...\n",
       "382      SHOA descarta riesgo de tsunami en las costas ...\n",
       "383            Temblor 6.3 afecta a la zona norte del país\n",
       "385                 Temblor afecta a la Región de Coquimbo\n",
       "457        Temblor se registra en la región de Antofagasta\n",
       "615      Temblor de mediana magnitud se percibe en la z...\n",
       "707       Temblor afecta a la región de Arica y Parinacota\n",
       "742          Temblor se registra en la zona norte del país\n",
       "785              Temblor afecta a la región de Antofagasta\n",
       "989        Temblor se registra en la zona central del país\n",
       "1023     SHOA descarta tsunami en costas de Chile tras ...\n",
       "1162     Shoa descarta tsunami en costas de Chile tras ...\n",
       "1219     SHOA descarta tsunami en Chile tras temblor ma...\n",
       "1290     SHOA descarta riesgo de tsunami en las costas ...\n",
       "1349     Temblor de 3.7 de magnitud afecta a la Región ...\n",
       "1352     Temblor 4.2 de magnitud afecta a la Región de ...\n",
       "1395     Temblor de leve intensidad se registra en la z...\n",
       "1440     Temblor de 4.6 de magnitud se percibió en la R...\n",
       "1484     Temblor de mediana magnitud se percibió en la ...\n",
       "1491         Temblor se registra en la zona norte del país\n",
       "1536       Temblor se registra en la zona central del país\n",
       "1706                Temblor afecta a la región de Coquimbo\n",
       "1732     Temblor 3.9 de magnitud afecta a la Región del...\n",
       "1749          Nuevo temblor afecta a la región de Tarapacá\n",
       "1752                Temblor afecta a la región de Tarapacá\n",
       "1802         Temblor se registra en la zona norte del país\n",
       "1838         Temblor se registra en la zona norte de Chile\n",
       "1841              Temblor afecta al extremo norte de Chile\n",
       "1928     Nuevos temblores afectan a la zona norte del país\n",
       "1930                Temblor afecta a la región de Tarapacá\n",
       "2016                Temblor afecta a la región de Coquimbo\n",
       "2047     Temblor se registra en la zona centro sur del ...\n",
       "2050     Cámara registra el momento exacto en que comie...\n",
       "2063     \"A mirmir\": Revisa los memes que dejó el tembl...\n",
       "2076         Temblor se registra en la zona norte del país\n",
       "2099     SHOA descarta tsunami en Chile tras temblor ma...\n",
       "2151     SHOA descarta tsunami en Chile tras fuerte tem...\n",
       "2203     Temblor de mediana magnitud se registra en el ...\n",
       "2247     Temblor 6.0 de magnitud afecta a la región de ...\n",
       "2259     SHOA descarta tsunami en las costas de Chile t...\n",
       "2261                   Temblor afecta a la región de Aysén\n",
       "2274         Temblor se registra en la zona norte del país\n",
       "2352     Temblor de magnitud 4.6 afecta a la región de ...\n",
       "2483          Temblor se registra en la región de Coquimbo\n",
       "2484             Temblor afecta a la región de Antofagasta\n",
       "2529                Temblor afecta a la región de Coquimbo\n",
       "2631          Temblor se registra en la región de Tarapacá\n",
       "2651             Temblor afecta a la región de Antofagasta\n",
       "2661     SHOA descarta riesgo de tsunami en las costas ...\n",
       "2663     Temblor de mediana magnitud se percibe en la z...\n",
       "2694           Temblor se registra en la zona sur del país\n",
       "2700     Temblor 4.5 de magnitud afecta a la región de ...\n",
       "2870     Revisa los registros que dejó el temblor 5.6 e...\n",
       "2881     Temblor de mediana magnitud se percibe en la z...\n",
       "2883     Temblor de mediana intensidad se percibe en la...\n",
       "2912     Temblor de mediana magnitud se registra en la ...\n",
       "2957     Temblor de magnitud 4.4 afecta a la región de ...\n",
       "2962     Temblor de menor magnitud afecta al extremo su...\n",
       "2982     Temblor se registra en la zona centro sur del ...\n",
       "3173             Temblor afecta a la región de Antofagasta\n",
       "3183         Temblor se registra en la zona norte del país\n",
       "3291     Temblor de mediana magnitud se registró en la ...\n",
       "3310       Temblores se perciben en la zona norte del país\n",
       "3346         Temblor se siente en la zona central del país\n",
       "3347              Temblor afecta al extremo norte de Chile\n",
       "3392     Temblor de mediana intensidad se registra en l...\n",
       "3452              Temblor afecta al extremo norte de Chile\n",
       "3499       Temblor se registra en la zona central del país\n",
       "3500           Temblor se percibe en la Región de Tarapacá\n",
       "3512               Temblor se percibe en el norte del país\n",
       "3532         Temblor se registra en la zona norte del país\n",
       "3586             Temblor afecta a la región de Antofagasta\n",
       "3601          Temblor se registra en la región de Coquimbo\n",
       "3612              Temblor afecta a la región de Valparaíso\n",
       "3690              Temblor afecta a la región de Valparaíso\n",
       "3720     Temblor de magnitud 5,2 se registró en la zona...\n",
       "3728     SHOA descarta riesgo de tsunami en las costas ...\n",
       "3767     Temblor de magnitud 4.2 afecta a la Región Met...\n",
       "3797       Temblor se registra en la zona central del país\n",
       "3802              Temblor afecta a la región de Valparaíso\n",
       "3832     Temblor de mediana magnitud se percibe en la z...\n",
       "3848     Temblor de mediana intensidad se registra en e...\n",
       "3869     Continúa seguidilla de temblores en la Región ...\n",
       "3877     Fuerte temblor se registra en la zona sur de C...\n",
       "3881     Temblor de mediana magnitud se registró en la ...\n",
       "3890     Temblor de mediana magnitud se registró en la ...\n",
       "3926     Nuevo temblor afecta al país: Epicentro ahora ...\n",
       "3927                Temblor afecta a la región de Los Ríos\n",
       "3956            Temblor afecta a la región de La Araucanía\n",
       "3960       Temblor se registra en la zona central del país\n",
       "3975      Temblor afecta a la región de Arica y Parinacota\n",
       "4076     Temblor de mediana magnitud se registró en el ...\n",
       "4193                Temblor afecta a la región de Coquimbo\n",
       "4195        Temblor se registra en la región de Valparaíso\n",
       "4233         Temblor se registra en la zona norte del país\n",
       "4268                Temblor afecta a la región de Coquimbo\n",
       "4330                 Temblor afecta a la zona sur del país\n",
       "4403     Onemi reporta temblor de magnitud 5.3° en las ...\n",
       "4411     Temblor de mediana intensidad de percibe en la...\n",
       "4413         Temblor se registra en la zona norte del país\n",
       "4523               Temblor afecta a la zona norte del país\n",
       "4621             Temblor afecta a la región de Antofagasta\n",
       "4627     Usuarios tras temblor en la zona centro norte ...\n",
       "4715             Temblor afecta a la región de Antofagasta\n",
       "4786     Fuerte temblor afecta a la zona central del pa...\n",
       "4828     Fuerte temblor afecta a la zona central del pa...\n",
       "4837                Temblor afecta a la región de Coquimbo\n",
       "4838     Aumento de temblores en Chile: Año 2020 tuvo u...\n",
       "4850                Temblor afecta a la región de Coquimbo\n",
       "4878     SHOA descarta tsunami en las costas de Chile t...\n",
       "4879     Captan momento exacto en que comienza fuerte t...\n",
       "4912     SHOA descarta tsunami en las costas de Chile t...\n",
       "4954               Temblor afecta a la zona norte de Chile\n",
       "4967     SHOA descarta tsunami en Chile tras temblor 7....\n",
       "5109     Temblor de mediana magnitud se registró en la ...\n",
       "5148     Temblor de mediana magnitud afecta a la región...\n",
       "5305     Derrumbes y mercadería destruida: los daños en...\n",
       "5308     Videos revelan magnitud de fuerte temblor en e...\n",
       "7220                Temblor se registra en la zona central\n",
       "8793     Director de Onemi llama a habitantes de Atacam...\n",
       "14484    ¿Hubo algún vínculo entre los temblores de la ...\n",
       "14787    Seguidilla de temblores se registran cerca de ...\n",
       "19542    La Moneda busca superar los \"temblores grado s...\n",
       "25407    Registran temblor entre regiones de Coquimbo y...\n",
       "25417    Registran temblor entre regiones de Coquimbo y...\n",
       "28444    Ministro Monckeberg y relación con Chile Vamos...\n",
       "29675    Zona sur del país registra seguidilla de répli...\n",
       "34004    Sismología afirma que seguidilla de temblores ...\n",
       "Name: title, dtype: object"
      ]
     },
     "execution_count": 12,
     "metadata": {},
     "output_type": "execute_result"
    }
   ],
   "source": [
    "df2[df2['title'].str.contains(\"(?i)temblor\")]['title']"
   ]
  },
  {
   "cell_type": "code",
   "execution_count": 13,
   "id": "5b0d6b08",
   "metadata": {},
   "outputs": [
    {
     "data": {
      "text/plain": [
       "     24876\n",
       "4     1399\n",
       "8      703\n",
       "9      449\n",
       "7      249\n",
       "1      141\n",
       "5      137\n",
       "Name: label, dtype: int64"
      ]
     },
     "execution_count": 13,
     "metadata": {},
     "output_type": "execute_result"
    }
   ],
   "source": [
    "df2 = df.loc[df['label']=='']\n",
    "df = df[df['label']!='']\n",
    "\n",
    "df2.loc[df2['title'].str.contains(\"(?i)temblor|erupción|incendio|catástrofe|accidente|herido|muert\"), 'label'] = 4 #muert/o/e/os/es\n",
    "df2.loc[df2['title'].str.contains(\"(?i)ecología|planeta|contaminación|atmósfera|eclipse|tierra|reciclaje|vegetación|paisaje|animal|verdes\"), 'label'] = 7\n",
    "df2.loc[df2['title'].str.contains(\"(?i)cultura|pintura|museo|música\"), 'label'] = 5 #arte no por que toma otras palabras como valuarte, etc\n",
    "\n",
    "df2.loc[df2['title'].str.contains(\"(?i)economía|bolsa|dinero\"), 'label'] = 1 \n",
    "df2.loc[df2['title'].str.contains(\"(?i)crimen|delito|asesin|justicia\"), 'label'] = 8 \n",
    "df2.loc[df2['title'].str.contains(\"(?i)salud|medicamentos\"), 'label'] = 9 \n",
    "\n",
    "df2.dropna(subset = [\"label\"], inplace=True)\n",
    "df2['label'].value_counts()"
   ]
  },
  {
   "cell_type": "code",
   "execution_count": 14,
   "id": "aaa56557",
   "metadata": {},
   "outputs": [
    {
     "data": {
      "text/plain": [
       "     24876\n",
       "0     9957\n",
       "6     9705\n",
       "2     6422\n",
       "3     5689\n",
       "8     2740\n",
       "9     2698\n",
       "1     2279\n",
       "4     1815\n",
       "7      643\n",
       "5      515\n",
       "Name: label, dtype: int64"
      ]
     },
     "execution_count": 14,
     "metadata": {},
     "output_type": "execute_result"
    }
   ],
   "source": [
    "df = pd.concat([df,df2])\n",
    "df['label'].value_counts()"
   ]
  },
  {
   "cell_type": "code",
   "execution_count": 15,
   "id": "dd1fe519",
   "metadata": {},
   "outputs": [],
   "source": [
    "df.replace(\"\", np.nan, inplace=True)\n",
    "df.dropna(subset = [\"label\"], inplace=True)\n",
    "\n",
    "df = df.astype({\"label\": str})\n",
    "df.replace(\"0.0\",\"mundo\", inplace=True)\n",
    "df.replace(\"1.0\",\"economía\", inplace=True)\n",
    "df.replace(\"2.0\",\"política y conflictos\", inplace=True)\n",
    "df.replace(\"3.0\",\"ciencia y tecnología\", inplace=True)\n",
    "df.replace(\"4.0\",\"catástrofes y accidentes\", inplace=True)\n",
    "df.replace(\"5.0\",\"cultura y arte\", inplace=True)\n",
    "df.replace(\"6.0\",\"deporte\", inplace=True)\n",
    "df.replace(\"7.0\",\"ecología y planeta\", inplace=True)\n",
    "df.replace(\"8.0\",\"crimen, delitos y justicia\", inplace=True)\n",
    "df.replace(\"9.0\",\"salud\", inplace=True)"
   ]
  },
  {
   "cell_type": "code",
   "execution_count": 16,
   "id": "bb9d93da",
   "metadata": {},
   "outputs": [
    {
     "data": {
      "text/plain": [
       "mundo                         9957\n",
       "deporte                       9705\n",
       "política y conflictos         6422\n",
       "ciencia y tecnología          5689\n",
       "crimen, delitos y justicia    2740\n",
       "salud                         2698\n",
       "economía                      2279\n",
       "catástrofes y accidentes      1815\n",
       "ecología y planeta             643\n",
       "cultura y arte                 515\n",
       "Name: label, dtype: int64"
      ]
     },
     "execution_count": 16,
     "metadata": {},
     "output_type": "execute_result"
    }
   ],
   "source": [
    "df.to_csv(\"dataEtiquetada.csv\", index=False) \n",
    "df['label'].value_counts()"
   ]
  },
  {
   "cell_type": "code",
   "execution_count": null,
   "id": "1235ca96",
   "metadata": {},
   "outputs": [],
   "source": []
  }
 ],
 "metadata": {
  "kernelspec": {
   "display_name": "Python 3 (ipykernel)",
   "language": "python",
   "name": "python3"
  },
  "language_info": {
   "codemirror_mode": {
    "name": "ipython",
    "version": 3
   },
   "file_extension": ".py",
   "mimetype": "text/x-python",
   "name": "python",
   "nbconvert_exporter": "python",
   "pygments_lexer": "ipython3",
   "version": "3.8.10"
  }
 },
 "nbformat": 4,
 "nbformat_minor": 5
}

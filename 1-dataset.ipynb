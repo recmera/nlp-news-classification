{
 "cells": [
  {
   "cell_type": "markdown",
   "id": "d7f650f8",
   "metadata": {
    "scrolled": false
   },
   "source": [
    "# TAL aplicado al análisis del discurso de los medios de prensa 📰🤓🔥\n",
    "\n",
    "\n",
    "El proyecto consiste en entrenar y evaluar varios modelos de clasificación supervisada capaz de clasificar una noticia.\n"
   ]
  },
  {
   "cell_type": "markdown",
   "id": "172a8e0a",
   "metadata": {},
   "source": [
    "- Hito Unidad 1 (29 de septiembre): Datasets de entrenamiento y test + primer modelo baseline\n",
    "\n",
    "\n",
    "\n",
    "### índex\n",
    "\n",
    "1. [Importación del dataset](a)\n",
    "2. [Extracción de tópicos vía RE en URLs](b)\n",
    "3. [Extracción de términos clave de columnas title+text](b)\n",
    "4. [Clasificación del dataset de entrenamiento](c)\n",
    "\n",
    "## Generando dataset de entrenamiento\n",
    "El dataset se clasificará en función de las siguientes etiquetas:\n",
    "- mundo = 0 \n",
    "- economía = 1 \n",
    "- política y conflictos = 2 \n",
    "- ciencia y tecnología = 3\n",
    "- catástrofes y accidentes = 4 \n",
    "- cultura y arte = 5 \n",
    "- deporte = 6 \n",
    "- ecología y planeta = 7\n",
    "- crimen, delitos y justicia = 8 \n",
    "- salud = 9"
   ]
  },
  {
   "cell_type": "code",
   "execution_count": 3,
   "id": "22cb9fba",
   "metadata": {},
   "outputs": [
    {
     "name": "stdout",
     "output_type": "stream",
     "text": [
      "versión de Spacy:  3.1.3\n"
     ]
    }
   ],
   "source": [
    "import warnings\n",
    "warnings.filterwarnings('ignore')\n",
    "\n",
    "# Data manipulation\n",
    "import re\n",
    "import pandas as pd\n",
    "pd.set_option(\"display.max_rows\", None)\n",
    "import numpy as np\n",
    "\n",
    "# NLP\n",
    "import spacy\n",
    "from spacy.matcher import Matcher\n",
    "nlp = spacy.load(\"es_core_news_sm\")\n",
    "print(\"versión de Spacy: \", spacy.__version__)"
   ]
  },
  {
   "cell_type": "markdown",
   "id": "f5fcb00f",
   "metadata": {},
   "source": [
    "### 1. Importación de dataset <a name=\"a\"></a>"
   ]
  },
  {
   "cell_type": "code",
   "execution_count": 2,
   "id": "786b14a1",
   "metadata": {
    "scrolled": true
   },
   "outputs": [
    {
     "name": "stdout",
     "output_type": "stream",
     "text": [
      "Largo de dataset:  69702\n"
     ]
    }
   ],
   "source": [
    "frames = [pd.read_csv(\"data/chile_2020-09.csv\"), pd.read_csv(\"data/chile_2020-10.csv\"),pd.read_csv(\"data/chile_2020-11.csv\"), pd.read_csv(\"data/chile_2020-12.csv\"), pd.read_csv(\"data/chile_2021-01.csv\"), pd.read_csv(\"data/chile_2021-02.csv\"), pd.read_csv(\"data/chile_2021-03.csv\"), pd.read_csv(\"data/chile_2021-04.csv\")]\n",
    "dataset = pd.concat(frames)\n",
    "dataset['content'] = dataset['title'] + \" \" + dataset['text'] \n",
    "\n",
    "print(\"Largo de dataset: \", len(dataset))\n",
    "dataset= dataset[dataset['text'].notna()]\n",
    "        \n",
    "dataset.drop(columns=['country','year','date','id', 'id_journalist'], inplace=True)\n",
    "dataset['topic'] = \"\""
   ]
  },
  {
   "cell_type": "markdown",
   "id": "d15176f7",
   "metadata": {},
   "source": [
    "### 2.  Extracción de tópicos vía RE en URL <a name=\"b\"></a>"
   ]
  },
  {
   "cell_type": "code",
   "execution_count": 3,
   "id": "ff0bce3a",
   "metadata": {},
   "outputs": [
    {
     "data": {
      "text/plain": [
       "{'ahoranoticiasmega',\n",
       " 'biobiochile',\n",
       " 'elciudadano',\n",
       " 'elmostrador',\n",
       " 'emol',\n",
       " 'horas24',\n",
       " 'latercera'}"
      ]
     },
     "execution_count": 3,
     "metadata": {},
     "output_type": "execute_result"
    }
   ],
   "source": [
    "#identicando fuentes fuentes\n",
    "set(dataset[\"media_outlet\"])"
   ]
  },
  {
   "cell_type": "code",
   "execution_count": 4,
   "id": "14b7a43d",
   "metadata": {},
   "outputs": [
    {
     "name": "stdout",
     "output_type": "stream",
     "text": [
      "268    https://www.meganoticias.cl/nacional/312353-si...\n",
      "269    https://www.meganoticias.cl/nacional/312350-cy...\n",
      "Name: url, dtype: object\n",
      "0    https://www.24horas.cl/coronavirus/tia-pikachu...\n",
      "3    https://www.24horas.cl/nacional/rm-alcanza-sus...\n",
      "Name: url, dtype: object\n",
      "205    https://www.elciudadano.com/chile/el-avance-de...\n",
      "206    https://www.elciudadano.com/latinoamerica/colo...\n",
      "Name: url, dtype: object\n",
      "29    https://www.biobiochile.cl/noticias/nacional/c...\n",
      "30    https://www.biobiochile.cl/noticias/nacional/r...\n",
      "Name: url, dtype: object\n",
      "228    https://www.elmostrador.cl/noticias/pais/2020/...\n",
      "230    https://www.elmostrador.cl/dia/2020/09/01/dipu...\n",
      "Name: url, dtype: object\n",
      "496    https://www.emol.com/noticias/Economia/2020/09...\n",
      "497    https://www.emol.com/noticias/Economia/2020/09...\n",
      "Name: url, dtype: object\n",
      "209    https://www.latercera.com/politica/noticia/el-...\n",
      "210    https://www.latercera.com/politica/noticia/cam...\n",
      "Name: url, dtype: object\n"
     ]
    }
   ],
   "source": [
    "print(dataset[dataset.media_outlet==\"ahoranoticiasmega\"][\"url\"].head(2))\n",
    "print(dataset[dataset.media_outlet==\"horas24\"][\"url\"].head(2))\n",
    "print(dataset[dataset.media_outlet==\"elciudadano\"][\"url\"].head(2))\n",
    "print(dataset[dataset.media_outlet==\"biobiochile\"][\"url\"].head(2))\n",
    "print(dataset[dataset.media_outlet==\"elmostrador\"][\"url\"].head(2))\n",
    "print(dataset[dataset.media_outlet==\"emol\"][\"url\"].head(2))\n",
    "print(dataset[dataset.media_outlet==\"latercera\"][\"url\"].head(2))"
   ]
  },
  {
   "cell_type": "markdown",
   "id": "4a38db2f",
   "metadata": {},
   "source": [
    "Las urls de _Ahoranoticiasmega, Horas24 y El Ciudadano_ son similares.\n",
    "La url de _La Tercera_ posee dos tópicos, sin embargo, el segundo tópico es irrelevante."
   ]
  },
  {
   "cell_type": "code",
   "execution_count": 5,
   "id": "5a659396",
   "metadata": {},
   "outputs": [],
   "source": [
    "#Generamos df1 concatenando ahoranoticiasmega, horas24 y elciudadano\n",
    "medios = [dataset.loc[dataset['media_outlet']==\"ahoranoticiasmega\"],\n",
    "          dataset.loc[dataset['media_outlet']==\"horas24\"],\n",
    "          dataset.loc[dataset['media_outlet']==\"elciudadano\"],\n",
    "          dataset.loc[dataset['media_outlet']==\"latercera\"]]\n",
    "df1 = pd.concat(medios)\n",
    "for index, row in df1.iterrows():\n",
    "    url=row['url']\n",
    "    obj = re.findall('(\\w+)://([\\w\\-\\.]+)/([\\w\\-]+).([\\w\\-]+)', url) \n",
    "    topic=obj[0][2]\n",
    "    row['topic']=topic.lower()"
   ]
  },
  {
   "cell_type": "markdown",
   "id": "efc8a6ac",
   "metadata": {},
   "source": [
    "Las urls de _Biobiochile, El Mostrador, Emol_ poseen dos columnas de tópicos. La primera columna entrega información irrelevante. "
   ]
  },
  {
   "cell_type": "code",
   "execution_count": 6,
   "id": "88547a4d",
   "metadata": {
    "scrolled": true
   },
   "outputs": [],
   "source": [
    "medios2 = [dataset.loc[dataset['media_outlet']==\"biobiochile\"],\n",
    "           dataset.loc[dataset['media_outlet']==\"elmostrador\"],\n",
    "           dataset.loc[dataset['media_outlet']==\"emol\"]] \n",
    "df2 = pd.concat(medios2)\n",
    "for index, row in df2.iterrows():\n",
    "    url=row['url']\n",
    "    obj = re.findall('(\\w+)://([\\w\\-\\.]+)/([\\w\\-]+).([\\w\\-]+)', url)\n",
    "    topic = obj[0][3]\n",
    "    row['topic']=topic.lower()"
   ]
  },
  {
   "cell_type": "code",
   "execution_count": 7,
   "id": "23f43571",
   "metadata": {},
   "outputs": [
    {
     "data": {
      "text/plain": [
       "array(['2020', '2021', 'actualidad', 'animal', 'artes', 'autos',\n",
       "       'calidad-de-vida', 'cartas-ciudadanas', 'chile',\n",
       "       'ciencia-tecnologia', 'ciudadanos-al-poder', 'columnas',\n",
       "       'conversacioneslt', 'coronavirus', 'culto', 'data', 'deportes',\n",
       "       'derechos-humanos', 'destacados-cultura', 'eclipse-2020',\n",
       "       'economia', 'editorial', 'educacion', 'el-deportivo',\n",
       "       'entrevistas', 'especiales', 'espectaculos', 'genero',\n",
       "       'internacional', 'justicia', 'la-tercera-domingo', 'la-tercera-pm',\n",
       "       'la-tercera-tv', 'latinoamerica', 'mapuche', 'masdeco',\n",
       "       'medio-ambiente', 'mexico', 'mineria', 'mouse', 'multimedia',\n",
       "       'mundo', 'nacional', 'negocios', 'noticiasbbc', 'opinion', 'pais',\n",
       "       'paula', 'peru', 'plebiscito-chile-elige', 'podcast', 'politica',\n",
       "       'portada', 'portada-tv', 'primarias-2020', 'proceso-constituyente',\n",
       "       'programas', 'pueblos', 'pulso', 'pulso-trader', 'que-pasa',\n",
       "       'reconstitucion', 'redes-sociales', 'regiones',\n",
       "       'reportaje-investigacion', 'revista-que-pasa', 'salud',\n",
       "       'sin-editar', 'sociedad', 'tecnologia', 'tecnologia-2',\n",
       "       'tendencias', 'tesirve', 'trabajo', 'turismo', 'wires'],\n",
       "      dtype=object)"
      ]
     },
     "execution_count": 7,
     "metadata": {},
     "output_type": "execute_result"
    }
   ],
   "source": [
    "df = pd.concat([df1,df2])\n",
    "np.sort(df['topic'].unique())"
   ]
  },
  {
   "cell_type": "code",
   "execution_count": 8,
   "id": "5d752e7e",
   "metadata": {},
   "outputs": [
    {
     "data": {
      "text/plain": [
       "     43190\n",
       "0     8564\n",
       "6     7994\n",
       "2     3329\n",
       "1     2670\n",
       "8      537\n",
       "9      362\n",
       "3      292\n",
       "5      239\n",
       "7      162\n",
       "Name: label, dtype: int64"
      ]
     },
     "metadata": {},
     "output_type": "display_data"
    }
   ],
   "source": [
    "df['label'] = \"\"\n",
    "# mundo\n",
    "df.loc[df['topic'] == 'mundo',                  'label'] = 0\n",
    "df.loc[df['topic'] == 'internacional',          'label'] = 0\n",
    "# economia\n",
    "df.loc[df['topic'] == 'economia',               'label'] = 1\n",
    "df.loc[df['topic'] == 'pulso-trader',           'label'] = 1\n",
    "# política y conflictos\n",
    "df.loc[df['topic'] == 'politica',               'label'] = 2\n",
    "df.loc[df['topic'] == 'data',                   'label'] = 2\n",
    "df.loc[df['topic'] == 'plebiscito-chile-elige', 'label'] = 2\n",
    "df.loc[df['topic'] == 'primarias-2020',         'label'] = 2\n",
    "df.loc[df['topic'] == 'proceso-constituyente',  'label'] = 2\n",
    "df.loc[df['topic'] == 'pulso',                  'label'] = 2\n",
    "df.loc[df['topic'] == 'reconstitucion',         'label'] = 2\n",
    "# ciencia y tecnologia\n",
    "df.loc[df['topic'] == 'tecnologia',             'label'] = 3\n",
    "df.loc[df['topic'] == 'tecnologia-2',           'label'] = 3\n",
    "df.loc[df['topic'] == 'ciencia-tecnologia',     'label'] = 3\n",
    "df.loc[df['topic'] == 'redes-sociales',         'label'] = 3\n",
    "# accidentes \n",
    "# arte y cultura\n",
    "df.loc[df['topic'] == 'artes',                  'label'] = 5\n",
    "df.loc[df['topic'] == 'destacados-cultura',     'label'] = 5\n",
    "df.loc[df['topic'] == 'educacion',              'label'] = 5\n",
    "df.loc[df['topic'] == 'espectaculos',           'label'] = 5\n",
    "df.loc[df['topic'] == 'turismo',                'label'] = 5\n",
    "# deportes\n",
    "df.loc[df['topic'] == 'deportes',               'label'] = 6\n",
    "df.loc[df['topic'] == 'el-deportivo',           'label'] = 6\n",
    "# ecologia y planeta\n",
    "df.loc[df['topic'] == 'medio-ambiente',         'label'] = 7\n",
    "df.loc[df['topic'] == 'animal',                 'label'] = 7\n",
    "df.loc[df['topic'] == 'eclipse-2020',           'label'] = 7\n",
    "# crimen, delitos y justicia\n",
    "df.loc[df['topic'] == 'justicia',               'label'] = 8\n",
    "df.loc[df['topic'] == 'reportaje-investigacion','label'] = 8\n",
    "df.loc[df['topic'] == 'trabajo',                'label'] = 8\n",
    "# salud\n",
    "df.loc[df['topic'] == 'salud',                  'label'] = 9\n",
    "df.loc[df['topic'] == 'calidad-de-vida',        'label'] = 9\n",
    "\n",
    "display(df['label'].value_counts())\n",
    "# nos quedamos sólo con las noticias etiquetadas. para clasificar df1 utilizaremos otro metodo\n",
    "df1 = df.loc[df['label']==''] \n",
    "df = df[df['label']!='']"
   ]
  },
  {
   "cell_type": "markdown",
   "id": "53c5733e",
   "metadata": {},
   "source": [
    "Tenemos muchas noticias no clasificadas, por lo que es necesario utilizar otro mecanísmo para clasificar las noticias restantes."
   ]
  },
  {
   "cell_type": "markdown",
   "id": "45ab702c",
   "metadata": {},
   "source": [
    "### 3.  Extracción de términos clave de columna title+text <a name=\"b\"></a>"
   ]
  },
  {
   "cell_type": "code",
   "execution_count": 9,
   "id": "e6eb9634",
   "metadata": {},
   "outputs": [],
   "source": [
    "matcher = Matcher(nlp.vocab)\n",
    "\n",
    "# Pattern 1: NOUN de NOUN\n",
    "pattern_1 = [{\"POS\": \"NOUN\"},{\"LOWER\": \"de\"}, {\"POS\": \"NOUN\"}]\n",
    "matcher.add(\"NOUN-de-NOUN\", [pattern_1])\n",
    "\n",
    "# Pattern 2: NOUN ADJ\n",
    "pattern_2 = [{\"POS\": \"NOUN\"}, {\"POS\": \"ADJ\"}]\n",
    "matcher.add(\"NOUN-ADJ\", [pattern_2])"
   ]
  },
  {
   "cell_type": "markdown",
   "id": "8a110d7e",
   "metadata": {},
   "source": [
    "    Bloque de alto coste computacional ⬇️"
   ]
  },
  {
   "cell_type": "code",
   "execution_count": 10,
   "id": "f3e12b1d",
   "metadata": {},
   "outputs": [
    {
     "data": {
      "text/html": [
       "<div>\n",
       "<style scoped>\n",
       "    .dataframe tbody tr th:only-of-type {\n",
       "        vertical-align: middle;\n",
       "    }\n",
       "\n",
       "    .dataframe tbody tr th {\n",
       "        vertical-align: top;\n",
       "    }\n",
       "\n",
       "    .dataframe thead th {\n",
       "        text-align: right;\n",
       "    }\n",
       "</style>\n",
       "<table border=\"1\" class=\"dataframe\">\n",
       "  <thead>\n",
       "    <tr style=\"text-align: right;\">\n",
       "      <th></th>\n",
       "      <th>media_outlet</th>\n",
       "      <th>url</th>\n",
       "      <th>title</th>\n",
       "      <th>text</th>\n",
       "      <th>content</th>\n",
       "      <th>topic</th>\n",
       "      <th>label</th>\n",
       "      <th>terms</th>\n",
       "    </tr>\n",
       "  </thead>\n",
       "  <tbody>\n",
       "    <tr>\n",
       "      <th>268</th>\n",
       "      <td>ahoranoticiasmega</td>\n",
       "      <td>https://www.meganoticias.cl/nacional/312353-si...</td>\n",
       "      <td>Temblor de menor intensidad afecta nuevamente ...</td>\n",
       "      <td>La noche de este martes 01 de septiembre, a la...</td>\n",
       "      <td>Temblor de menor intensidad afecta nuevamente ...</td>\n",
       "      <td>nacional</td>\n",
       "      <td></td>\n",
       "      <td>sismo de magnitud; zona norte; centro sismológ...</td>\n",
       "    </tr>\n",
       "    <tr>\n",
       "      <th>269</th>\n",
       "      <td>ahoranoticiasmega</td>\n",
       "      <td>https://www.meganoticias.cl/nacional/312350-cy...</td>\n",
       "      <td>CyberDay 2020: Consolas y videojuegos son los ...</td>\n",
       "      <td>En la presente edición del CyberDay, el rubro ...</td>\n",
       "      <td>CyberDay 2020: Consolas y videojuegos son los ...</td>\n",
       "      <td>nacional</td>\n",
       "      <td></td>\n",
       "      <td>costo de producción; consumidores chilenos; ru...</td>\n",
       "    </tr>\n",
       "    <tr>\n",
       "      <th>270</th>\n",
       "      <td>ahoranoticiasmega</td>\n",
       "      <td>https://www.meganoticias.cl/nacional/312347-on...</td>\n",
       "      <td>Sismos en el norte: Expertos aclaran que exist...</td>\n",
       "      <td>La Oficina Nacional de Emergencia del Minister...</td>\n",
       "      <td>Sismos en el norte: Expertos aclaran que exist...</td>\n",
       "      <td>nacional</td>\n",
       "      <td></td>\n",
       "      <td>energía acumulada; centro sismológico; región ...</td>\n",
       "    </tr>\n",
       "  </tbody>\n",
       "</table>\n",
       "</div>"
      ],
      "text/plain": [
       "          media_outlet                                                url  \\\n",
       "268  ahoranoticiasmega  https://www.meganoticias.cl/nacional/312353-si...   \n",
       "269  ahoranoticiasmega  https://www.meganoticias.cl/nacional/312350-cy...   \n",
       "270  ahoranoticiasmega  https://www.meganoticias.cl/nacional/312347-on...   \n",
       "\n",
       "                                                 title  \\\n",
       "268  Temblor de menor intensidad afecta nuevamente ...   \n",
       "269  CyberDay 2020: Consolas y videojuegos son los ...   \n",
       "270  Sismos en el norte: Expertos aclaran que exist...   \n",
       "\n",
       "                                                  text  \\\n",
       "268  La noche de este martes 01 de septiembre, a la...   \n",
       "269  En la presente edición del CyberDay, el rubro ...   \n",
       "270  La Oficina Nacional de Emergencia del Minister...   \n",
       "\n",
       "                                               content     topic label  \\\n",
       "268  Temblor de menor intensidad afecta nuevamente ...  nacional         \n",
       "269  CyberDay 2020: Consolas y videojuegos son los ...  nacional         \n",
       "270  Sismos en el norte: Expertos aclaran que exist...  nacional         \n",
       "\n",
       "                                                 terms  \n",
       "268  sismo de magnitud; zona norte; centro sismológ...  \n",
       "269  costo de producción; consumidores chilenos; ru...  \n",
       "270  energía acumulada; centro sismológico; región ...  "
      ]
     },
     "metadata": {},
     "output_type": "display_data"
    }
   ],
   "source": [
    "df1['terms'] = \"\"\n",
    "for index, row in df1.iterrows():\n",
    "    doc = nlp(row['content'].lower())\n",
    "\n",
    "    matches = matcher(doc)\n",
    "    categories = \"\"\n",
    "    for match_id, start, end in matches:\n",
    "        string_id = nlp.vocab.strings[match_id]  # Get string representation\n",
    "        span = doc[start:end]  # The matched span\n",
    "        categories = categories + span.text + \"; \"\n",
    "    \n",
    "    row['terms'] = categories\n",
    "    \n",
    "display(df1.head(3))"
   ]
  },
  {
   "cell_type": "code",
   "execution_count": 11,
   "id": "13c423a6",
   "metadata": {
    "scrolled": true
   },
   "outputs": [
    {
     "data": {
      "text/html": [
       "<div>\n",
       "<style scoped>\n",
       "    .dataframe tbody tr th:only-of-type {\n",
       "        vertical-align: middle;\n",
       "    }\n",
       "\n",
       "    .dataframe tbody tr th {\n",
       "        vertical-align: top;\n",
       "    }\n",
       "\n",
       "    .dataframe thead th {\n",
       "        text-align: right;\n",
       "    }\n",
       "</style>\n",
       "<table border=\"1\" class=\"dataframe\">\n",
       "  <thead>\n",
       "    <tr style=\"text-align: right;\">\n",
       "      <th></th>\n",
       "      <th>media_outlet</th>\n",
       "      <th>url</th>\n",
       "      <th>title</th>\n",
       "      <th>text</th>\n",
       "      <th>content</th>\n",
       "      <th>topic</th>\n",
       "      <th>label</th>\n",
       "      <th>terms</th>\n",
       "      <th>most_common</th>\n",
       "      <th>second_common</th>\n",
       "    </tr>\n",
       "  </thead>\n",
       "  <tbody>\n",
       "    <tr>\n",
       "      <th>268</th>\n",
       "      <td>ahoranoticiasmega</td>\n",
       "      <td>https://www.meganoticias.cl/nacional/312353-si...</td>\n",
       "      <td>Temblor de menor intensidad afecta nuevamente ...</td>\n",
       "      <td>La noche de este martes 01 de septiembre, a la...</td>\n",
       "      <td>Temblor de menor intensidad afecta nuevamente ...</td>\n",
       "      <td>nacional</td>\n",
       "      <td></td>\n",
       "      <td>sismo de magnitud; zona norte; centro sismológ...</td>\n",
       "      <td>región de atacama</td>\n",
       "      <td>hora local</td>\n",
       "    </tr>\n",
       "    <tr>\n",
       "      <th>269</th>\n",
       "      <td>ahoranoticiasmega</td>\n",
       "      <td>https://www.meganoticias.cl/nacional/312350-cy...</td>\n",
       "      <td>CyberDay 2020: Consolas y videojuegos son los ...</td>\n",
       "      <td>En la presente edición del CyberDay, el rubro ...</td>\n",
       "      <td>CyberDay 2020: Consolas y videojuegos son los ...</td>\n",
       "      <td>nacional</td>\n",
       "      <td></td>\n",
       "      <td>costo de producción; consumidores chilenos; ru...</td>\n",
       "      <td>costo de producción</td>\n",
       "      <td>consumidores chilenos</td>\n",
       "    </tr>\n",
       "    <tr>\n",
       "      <th>270</th>\n",
       "      <td>ahoranoticiasmega</td>\n",
       "      <td>https://www.meganoticias.cl/nacional/312347-on...</td>\n",
       "      <td>Sismos en el norte: Expertos aclaran que exist...</td>\n",
       "      <td>La Oficina Nacional de Emergencia del Minister...</td>\n",
       "      <td>Sismos en el norte: Expertos aclaran que exist...</td>\n",
       "      <td>nacional</td>\n",
       "      <td></td>\n",
       "      <td>energía acumulada; centro sismológico; región ...</td>\n",
       "      <td>energía acumulada</td>\n",
       "      <td>centro sismológico</td>\n",
       "    </tr>\n",
       "  </tbody>\n",
       "</table>\n",
       "</div>"
      ],
      "text/plain": [
       "          media_outlet                                                url  \\\n",
       "268  ahoranoticiasmega  https://www.meganoticias.cl/nacional/312353-si...   \n",
       "269  ahoranoticiasmega  https://www.meganoticias.cl/nacional/312350-cy...   \n",
       "270  ahoranoticiasmega  https://www.meganoticias.cl/nacional/312347-on...   \n",
       "\n",
       "                                                 title  \\\n",
       "268  Temblor de menor intensidad afecta nuevamente ...   \n",
       "269  CyberDay 2020: Consolas y videojuegos son los ...   \n",
       "270  Sismos en el norte: Expertos aclaran que exist...   \n",
       "\n",
       "                                                  text  \\\n",
       "268  La noche de este martes 01 de septiembre, a la...   \n",
       "269  En la presente edición del CyberDay, el rubro ...   \n",
       "270  La Oficina Nacional de Emergencia del Minister...   \n",
       "\n",
       "                                               content     topic label  \\\n",
       "268  Temblor de menor intensidad afecta nuevamente ...  nacional         \n",
       "269  CyberDay 2020: Consolas y videojuegos son los ...  nacional         \n",
       "270  Sismos en el norte: Expertos aclaran que exist...  nacional         \n",
       "\n",
       "                                                 terms          most_common  \\\n",
       "268  sismo de magnitud; zona norte; centro sismológ...    región de atacama   \n",
       "269  costo de producción; consumidores chilenos; ru...  costo de producción   \n",
       "270  energía acumulada; centro sismológico; región ...    energía acumulada   \n",
       "\n",
       "             second_common  \n",
       "268             hora local  \n",
       "269  consumidores chilenos  \n",
       "270     centro sismológico  "
      ]
     },
     "metadata": {},
     "output_type": "display_data"
    }
   ],
   "source": [
    "from collections import Counter\n",
    "df1[\"most_common\"] = \"\"\n",
    "df1[\"second_common\"] = \"\"\n",
    "\n",
    "for index, row in df1.iterrows():\n",
    "    split_it = row['terms'].split(\"; \")\n",
    "    counter = Counter(split_it)\n",
    "    row['most_common'] = counter.most_common()[0][0]\n",
    "    try:\n",
    "        row['second_common'] = counter.most_common()[1][0]\n",
    "    except IndexError:\n",
    "        row['second_common'] = counter.most_common()[0][0]\n",
    "\n",
    "display(df1.head(3))"
   ]
  },
  {
   "cell_type": "markdown",
   "id": "ea663178",
   "metadata": {},
   "source": [
    "**Para no ejecutar siempre la celda de alto costo computacional, almacenamos la data procesada en un nuevo csv con los términos claves y luego solo importamos el csv**"
   ]
  },
  {
   "cell_type": "code",
   "execution_count": 12,
   "id": "7e96d78e",
   "metadata": {},
   "outputs": [],
   "source": [
    "df1.to_csv(\"keysTerms.csv\", index=False) "
   ]
  },
  {
   "cell_type": "code",
   "execution_count": 13,
   "id": "b4462753",
   "metadata": {},
   "outputs": [],
   "source": [
    "df2=pd.read_csv(\"keysTerms.csv\")\n",
    "df2.replace(np.nan,\"\", inplace=True)"
   ]
  },
  {
   "cell_type": "markdown",
   "id": "f15222f1",
   "metadata": {},
   "source": [
    "Etiquetamos los términos más comunes que pertenezcan a una de las categorías"
   ]
  },
  {
   "cell_type": "code",
   "execution_count": 14,
   "id": "31890cfb",
   "metadata": {},
   "outputs": [],
   "source": [
    "#4 catastrofes y accidentes(0)\n",
    "df2.loc[df2['most_common'] == 'incendio forestal',                  'label'] = 4\n",
    "df2.loc[df2['most_common'] == 'accidente de tránsito',              'label'] = 4\n",
    "df2.loc[df2['most_common'] == 'incendios forestales',               'label'] = 4\n",
    "df2.loc[df2['most_common'] == 'centro sismológico',                 'label'] = 4\n",
    "df2.loc[df2['most_common'] == 'movimiento telúrico',                'label'] = 4\n",
    "df2.loc[df2['most_common'] == 'víctimas fatales'                    'label'] = 4\n",
    "df2.loc[df2['second_common'] == 'tormentas eléctricas'              'label'] = 4\n",
    "df2.loc[df2['second_common'] == 'descarga eléctrica'                'label'] = 4\n",
    "df2.loc[df2['second_common'] == 'centro sismológico'                'label'] = 4\n",
    "df2.loc[df2['second_common'] == 'accidente de tránsito'             'label'] = 4\n",
    "df2.loc[df2['second_common'] == 'movimiento telúrico'               'label'] = 4\n",
    "df2.loc[df2['second_common'] == 'incendio forestal'                 'label'] = 4\n",
    "df2.loc[df2['second_common'] == 'sismo de magnitud'                 'label'] = 4\n",
    "df2.loc[df2['second_common'] == 'víctima fatal'                     'label'] = 4\n",
    "df2.loc[df2['second_common'] == 'accidentes de tránsito'            'label'] = 4\n",
    "#5 cultura y arte(179)\n",
    "df2.loc[df2['most_common'] == 'consulta indígena',                  'label'] = 5\n",
    "df2.loc[df2['second_common'] == 'pueblos originarios',              'label'] = 5\n",
    "#7 ecología y planeta(168)\n",
    "df2.loc[df2['most_common'] == 'cambio climático',                   'label'] = 7\n",
    "df2.loc[df2['most_common'] == 'eclipse solar',                      'label'] = 7\n",
    "df2.loc[df2['most_common'] == 'agua potable',                       'label'] = 7\n",
    "df2.loc[df2['most_common'] == 'eclipse total',                      'label'] = 7\n",
    "df2.loc[df2['most_common'] == 'aguas andinas',                      'label'] = 7\n",
    "df2.loc[df2['most_common'] == 'áreas verdes',                       'label'] = 7\n",
    "df2.loc[df2['most_common'] == 'evaluación ambiental',               'label'] = 7\n",
    "df2.loc[df2['most_common'] == 'sistema solar',                      'label'] = 7\n",
    "df2.loc[df2['most_common'] == 'territorio antártico',               'label'] = 7\n",
    "df2.loc[df2['second_common'] == 'cambio climático',                 'label'] = 7\n",
    "df2.loc[df2['second_common'] == 'eclipse solar',                    'label'] = 7\n",
    "df2.loc[df2['second_common'] == 'agua potable',                     'label'] = 7\n",
    "#8 crimen, delitos y justicia\n",
    "df2.loc[df2['most_common'] == 'prisión preventiva',                 'label'] = 8\n",
    "df2.loc[df2['most_common'] == 'acusación constitucional',           'label'] = 8 #no estoy seguro\n",
    "df2.loc[df2['most_common'] == 'corte de apelaciones',               'label'] = 8\n",
    "df2.loc[df2['most_common'] == 'años de cárcel',                     'label'] = 8\n",
    "df2.loc[df2['most_common'] == 'ataque incendiario',                 'label'] = 8\n",
    "df2.loc[df2['most_common'] == 'abuso sexual',                       'label'] = 8\n",
    "df2.loc[df2['most_common'] == 'brigada de homicidios',              'label'] = 8\n",
    "df2.loc[df2['most_common'] == 'hechos de violencia',                'label'] = 8\n",
    "df2.loc[df2['most_common'] == 'armas de fuego',                     'label'] = 8\n",
    "df2.loc[df2['most_common'] == 'crimen organizado',                  'label'] = 8\n",
    "df2.loc[df2['most_common'] == 'arma de fuego',                      'label'] = 8\n",
    "df2.loc[df2['most_common'] == 'homicidio frustrado',                'label'] = 8\n",
    "df2.loc[df2['most_common'] == 'acoso sexual',                       'label'] = 8\n",
    "df2.loc[df2['most_common'] == 'juicio oral',                        'label'] = 8\n",
    "df2.loc[df2['most_common'] == 'femicidio frustrado',                'label'] = 8\n",
    "\n",
    "#9 salud\n",
    "df2.loc[df2['most_common'] == 'casos activos',                      'label'] = 9\n",
    "df2.loc[df2['most_common'] == 'seremi de salud',                    'label'] = 9\n",
    "df2.loc[df2['most_common'] == 'salud pública',                      'label'] = 9\n",
    "df2.loc[df2['most_common'] == 'colegio médico',                     'label'] = 9\n",
    "df2.loc[df2['most_common'] == 'medidas sanitarias',                 'label'] = 9\n",
    "df2.loc[df2['most_common'] == 'proceso de vacunación',              'label'] = 9\n",
    "df2.loc[df2['most_common'] == 'ensayos clínicos',                   'label'] = 9\n",
    "df2.loc[df2['most_common'] == 'autoridad sanitaria',                'label'] = 9\n",
    "df2.loc[df2['most_common'] == 'casos confirmados',                  'label'] = 9\n",
    "df2.loc[df2['most_common'] == 'salud mental',                       'label'] = 9\n",
    "df2.loc[df2['most_common'] == 'contactos estrechos',                'label'] = 9\n",
    "df2.loc[df2['most_common'] == 'informe epidemiológico',             'label'] = 9\n",
    "df2.loc[df2['most_common'] == 'estado de salud',                    'label'] = 9\n",
    "df2.loc[df2['most_common'] == 'vacunación masiva',                  'label'] = 9\n",
    "df2.loc[df2['second_common'] == 'salud pública',                    'label'] = 9\n",
    "df2.loc[df2['second_common'] == 'colegio médico',                   'label'] = 9\n",
    "df2.loc[df2['second_common'] == '',                                 'label'] = 9\n",
    "df2.loc[df2['second_common'] == '',                                 'label'] = 9\n",
    "#1 economia(1772)\n",
    "df2.loc[df2['most_common'] == 'retiro de fondos',                   'label'] = 1\n",
    "df2.loc[df2['most_common'] == 'fondos de pensiones',                'label'] = 1\n",
    "df2.loc[df2['most_common'] == 'millones de euros',                  'label'] = 1\n",
    "df2.loc[df2['most_common'] == 'fondos previsionales',               'label'] = 1\n",
    "df2.loc[df2['most_common'] == 'salario mínimo',                     'label'] = 1\n",
    "df2.loc[df2['most_common'] == 'pago de impuestos',                  'label'] = 1\n",
    "df2.loc[df2['most_common'] == 'crisis económica',                   'label'] = 1\n",
    "df2.loc[df2['most_common'] == 'economía chilena',                   'label'] = 1\n",
    "df2.loc[df2['most_common'] == 'metal rojo',                         'label'] = 1\n",
    "df2.loc[df2['most_common'] == 'mercado laboral',                    'label'] = 1\n",
    "df2.loc[df2['second_common'] == 'impuestos internos',               'label'] = 1\n",
    "\n"
   ]
  },
  {
   "cell_type": "code",
   "execution_count": null,
   "id": "6c5fbc3a",
   "metadata": {},
   "outputs": [],
   "source": []
  },
  {
   "cell_type": "code",
   "execution_count": 15,
   "id": "23a88962",
   "metadata": {},
   "outputs": [
    {
     "data": {
      "text/plain": [
       "     39198\n",
       "0     8564\n",
       "6     7994\n",
       "2     3329\n",
       "1     2932\n",
       "8     2144\n",
       "9     1928\n",
       "7      414\n",
       "5      306\n",
       "3      292\n",
       "4      238\n",
       "Name: label, dtype: int64"
      ]
     },
     "execution_count": 15,
     "metadata": {},
     "output_type": "execute_result"
    }
   ],
   "source": [
    "df = pd.concat([df,df2])\n",
    "#df.drop(columns=['most_common','second_common','terms'], inplace=True)\n",
    "df['label'].value_counts()"
   ]
  },
  {
   "cell_type": "markdown",
   "id": "570dc573",
   "metadata": {},
   "source": [
    "### 4. Identificar subtópicos relacionados a los tópicos faltantes."
   ]
  },
  {
   "cell_type": "markdown",
   "id": "506cf087",
   "metadata": {},
   "source": [
    "Para obtener un dataset balanceado, falta identificar noticias de:\n",
    "* catástrofes y accidentes (4)\n",
    "* ecología y planeta (7)\n",
    "* cultura y arte (5)\n",
    "* economía (1)\n",
    "\n",
    "El título de una noticia representa información valiosa para conocer de que trata la noticia, por lo tanto, asociamos una palabra específica dentro del título con un tópico específico. Por ejemplo la palabra temblor, se asocia directamente con el tópico catástrofes y accidentes (4)"
   ]
  },
  {
   "cell_type": "code",
   "execution_count": 16,
   "id": "408b5c5e",
   "metadata": {},
   "outputs": [
    {
     "data": {
      "text/plain": [
       "0        Temblor de menor intensidad afecta nuevamente ...\n",
       "8        \"Con mucho susto\": Alcalde de Huasco por segui...\n",
       "10       Fuerte temblor de 6,3 grados afecta a la regió...\n",
       "12                     Nuevo temblor se registra en Huasco\n",
       "14             Temblor se registra en la región de Atacama\n",
       "32       SHOA descarta riesgo de tsunami tras nuevo tem...\n",
       "33       Imágenes revelan el daño que provocaron los te...\n",
       "36       Onemi llama a la tranquilidad luego de los tem...\n",
       "37       Nuevo temblor se registra en la zona norte del...\n",
       "38       Revisa los videos de los temblores que afectar...\n",
       "39       Temblor magnitud 7.0 afectó a la zona norte de...\n",
       "73        Temblor afecta nuevamente a la Región de Atacama\n",
       "74       De nube tóxica a fenómeno por temblor en el no...\n",
       "112                    Nuevo temblor se registra en Huasco\n",
       "117                  Temblor afecta a la región de Atacama\n",
       "125      Nuevo temblor se registra en la región de Atacama\n",
       "210      Temblor en la región de Coquimbo: Revisa regis...\n",
       "211      SHOA descarta riesgo de tsunami en las costas ...\n",
       "212      Temblor de mediana magnitud se registró en la ...\n",
       "338                 Temblor afecta a la región de Coquimbo\n",
       "394              Temblor afecta a la región de Antofagasta\n",
       "399      Temblor afecta a Base Prat en la Antártica: SH...\n",
       "440              Temblor afecta a la región de Antofagasta\n",
       "517      Más de una decena de temblores se han registra...\n",
       "521      Cámara registra desde altura cómo se vivió el ...\n",
       "522      Revisa los videos que dejó el temblor 6.3 en l...\n",
       "523      SHOA descarta riesgo de tsunami en las costas ...\n",
       "524            Temblor 6.3 afecta a la zona norte del país\n",
       "526                 Temblor afecta a la Región de Coquimbo\n",
       "606        Temblor se registra en la región de Antofagasta\n",
       "612                  Temblor afecta a la región de Atacama\n",
       "707      SHOA descarta posibilidad de tsunami tras temb...\n",
       "709      Temblor de 5,1 grados afecta a la región de Co...\n",
       "730      Temblor de 4.3 de magnitud afecta a la Región ...\n",
       "759           Temblor se registra en la región de Coquimbo\n",
       "760              Temblor afecta a la región de Antofagasta\n",
       "852      Temblor de mediana magnitud se percibe en la z...\n",
       "864      SHOA descarta riesgo de tsunami tras temblor e...\n",
       "866      Temblor de mediana intensidad se percibe en la...\n",
       "867      Temblor de menor intensidad afecta al norte de...\n",
       "909      Nuevo temblor de mediana magnitud se percibe e...\n",
       "960       Temblor afecta a la región de Arica y Parinacota\n",
       "993      Temblor de mediana magnitud afecta a la región...\n",
       "1020         Temblor se registra en la zona norte del país\n",
       "1050             Temblor afecta a la región de Antofagasta\n",
       "1301       Temblor se registra en la zona central del país\n",
       "1360       Temblor se registra en la zona central del país\n",
       "1395     SHOA descarta tsunami en costas de Chile tras ...\n",
       "1459     Temblor de mediana magnitud se sintió en la zo...\n",
       "1531     SHOA descarta tsunami en Chile por temblor 5.8...\n",
       "1642     Shoa descarta tsunami en costas de Chile tras ...\n",
       "1701        Temblor se percibe en la región de Antofagasta\n",
       "1717     SHOA descarta tsunami en Chile tras temblor ma...\n",
       "1728     Nuevo temblor de 4.4 de magnitud afecta a la R...\n",
       "1729     SHOA descarta tsunami en costas de Chile tras ...\n",
       "1730     Temblor de 4.8 de magnitud afecta a la Región ...\n",
       "1799     Temblor de 4.7 de magnitud afecta a la Región ...\n",
       "1855     SHOA descarta riesgo de tsunami en las costas ...\n",
       "1859     Temblor de 4.1 de magnitud afecta a la Región ...\n",
       "1862     Temblor de 4.3 de magnitud afecta a la Región ...\n",
       "1907     Temblor de 3.7 de magnitud afecta a la Región ...\n",
       "1910     Temblor 4.2 de magnitud afecta a la Región de ...\n",
       "1949     Temblor de leve intensidad se registra en la z...\n",
       "2004     Temblor de 4.6 de magnitud se percibió en la R...\n",
       "2049     Temblor de mediana magnitud se percibió en la ...\n",
       "2056         Temblor se registra en la zona norte del país\n",
       "2099     Temblor de 5.0 de magnitud que afectó a Argent...\n",
       "2108       Temblor se registra en la zona central del país\n",
       "2141     Temblor de 3.8 de magnitud afecta a la Región ...\n",
       "2168     Temblor de menor intensidad afecta a la región...\n",
       "2239           Temblor se registra en la región de Atacama\n",
       "2296     Temblor de mediana intensidad se percibe en la...\n",
       "2373                Temblor afecta a la región de Coquimbo\n",
       "2381             Temblor afecta a la región de Antofagasta\n",
       "2383     Shoa descarta tsunami en costas de Chile tras ...\n",
       "2414     Temblor 3.9 de magnitud afecta a la Región del...\n",
       "2436          Nuevo temblor afecta a la región de Tarapacá\n",
       "2439                Temblor afecta a la región de Tarapacá\n",
       "2509         Temblor se registra en la zona norte del país\n",
       "2529         Temblor se registra en la zona norte del país\n",
       "2558         Temblor se registra en la zona norte de Chile\n",
       "2561              Temblor afecta al extremo norte de Chile\n",
       "2675     SHOA descarta tsunami en las costas del país t...\n",
       "2726     Nuevos temblores afectan a la zona norte del país\n",
       "2728                Temblor afecta a la región de Tarapacá\n",
       "2886                Temblor afecta a la región de Coquimbo\n",
       "2924     Temblor se registra en la zona centro norte de...\n",
       "2936     Temblor se registra en la zona centro sur del ...\n",
       "2939     Cámara registra el momento exacto en que comie...\n",
       "2940     SHOA descarta riesgo de tsunami en las costas ...\n",
       "2941     Temblor 5.5 de magnitud afecta a la región del...\n",
       "2956     \"A mirmir\": Revisa los memes que dejó el tembl...\n",
       "2972         Temblor se registra en la zona norte del país\n",
       "2995     SHOA descarta tsunami en Chile tras temblor ma...\n",
       "3043     SHOA descarta tsunami en Chile tras fuerte tem...\n",
       "3095     Temblor de mediana magnitud se registra en el ...\n",
       "3151     SHOA descarta tsunami en Chile tras fuerte tem...\n",
       "3152     Temblor 6.0 de magnitud afecta a la región de ...\n",
       "3176     Temblor de mediana magnitud afecta a la región...\n",
       "3201             Temblor afecta a la región de Antofagasta\n",
       "3205     SHOA descarta tsunami en las costas de Chile t...\n",
       "3207                   Temblor afecta a la región de Aysén\n",
       "3227         Temblor se registra en la zona norte del país\n",
       "3336     Temblor de magnitud 4.6 afecta a la región de ...\n",
       "3370             Temblor afecta a la región de Antofagasta\n",
       "3542          Temblor se registra en la región de Coquimbo\n",
       "3543             Temblor afecta a la región de Antofagasta\n",
       "3627                Temblor afecta a la región de Coquimbo\n",
       "3731              Temblor afecta a la región de Magallanes\n",
       "3733                Temblor afecta a la región de Coquimbo\n",
       "3800          Temblor se registra en la región de Tarapacá\n",
       "3825             Temblor afecta a la región de Antofagasta\n",
       "3835     SHOA descarta riesgo de tsunami en las costas ...\n",
       "3837     Temblor de mediana magnitud se percibe en la z...\n",
       "3840       Temblor se registra en las cercanías de Iquique\n",
       "3866                 Temblor afecta a la región de Atacama\n",
       "3877       Temblor se registra en la zona central del país\n",
       "3885           Temblor se registra en la zona sur del país\n",
       "3891     Temblor 4.5 de magnitud afecta a la región de ...\n",
       "4006     Temblor de magnitud 4.3 afecta a la región de ...\n",
       "4105     SHOA descarta riesgo de tsunami en las costas ...\n",
       "4106     Temblor de magnitud 5.6 afecta a la región de ...\n",
       "4167     Reportan saturación de líneas telefónicas tras...\n",
       "4169     SHOA descarta tsunami en las costas de Chile t...\n",
       "4170     Fuerte temblor se registra en la zona central ...\n",
       "4189     Revisa los registros que dejó el temblor 5.6 e...\n",
       "4214     Temblor de mediana magnitud se registra en la ...\n",
       "4229     Temblor de mediana magnitud se percibe en la z...\n",
       "4231     Temblor de mediana intensidad se percibe en la...\n",
       "4258     Temblor de mediana magnitud se registra en la ...\n",
       "4367     Temblor de magnitud 4.4 afecta a la región de ...\n",
       "4372     Temblor de menor magnitud afecta al extremo su...\n",
       "4392     Temblor se registra en la zona centro sur del ...\n",
       "4604     Temblor de mediana intensidad afecta al norte ...\n",
       "4689             Temblor afecta a la región de Antofagasta\n",
       "4739         Temblor se registra en la zona norte del país\n",
       "4907      Nuevo temblor se percibe en la Región de Atacama\n",
       "4909     Temblor de mediana magnitud se registró en la ...\n",
       "4931       Temblores se perciben en la zona norte del país\n",
       "4932     SHOA indica que temblor en la Antártica no reú...\n",
       "4966     SHOA descarta riesgo de tsunami en las costas ...\n",
       "4967     Temblor de magnitud 6,1 se registra en el nort...\n",
       "4999         Temblor se siente en la zona central del país\n",
       "5000              Temblor afecta al extremo norte de Chile\n",
       "5057     Temblor de mediana magnitud se percibe en el n...\n",
       "5070     Temblor de mediana intensidad se registra en l...\n",
       "5086                 Temblor afecta a la región de Atacama\n",
       "5106         Temblor se registra en la zona norte del país\n",
       "5109        Temblor afecta a la zona centro norte del país\n",
       "5159           Temblor se registra en la zona sur del país\n",
       "5202              Temblor afecta al extremo norte de Chile\n",
       "5273       Temblor se registra en la zona central del país\n",
       "5274           Temblor se percibe en la Región de Tarapacá\n",
       "5294               Temblor se percibe en el norte del país\n",
       "5342             Temblor afecta a la región de Antofagasta\n",
       "5354         Temblor se registra en la zona norte del país\n",
       "5426     Más de 30 mil temblores en tres meses: Reporta...\n",
       "5443             Temblor afecta a la región de Antofagasta\n",
       "5483          Temblor se registra en la región de Coquimbo\n",
       "5485     Temblor magnitud 5,6 se percibe en el norte de...\n",
       "5505              Temblor afecta a la región de Valparaíso\n",
       "5609              Temblor afecta a la región de Valparaíso\n",
       "5649     Temblor de magnitud 5,2 se registró en la zona...\n",
       "5657     SHOA descarta riesgo de tsunami en las costas ...\n",
       "5658     Temblor de mediana magnitud se produjo en la z...\n",
       "5682               Temblor se percibe en el norte del país\n",
       "5741     Temblor de magnitud 4.2 afecta a la Región Met...\n",
       "5788       Temblor se registra en la zona central del país\n",
       "5793              Temblor afecta a la región de Valparaíso\n",
       "5884     Temblor de mediana magnitud se percibe en la z...\n",
       "5896             Temblor afecta a la región de Antofagasta\n",
       "5929     Temblor de mediana intensidad se registra en e...\n",
       "5932     Temblor de mediana magnitud se registra en la ...\n",
       "5947     Temblor de menor intensidad se registra en la ...\n",
       "5969               Temblor afecta a la zona norte de Chile\n",
       "5988     Continúa seguidilla de temblores en la Región ...\n",
       "6010     SHOA descarta riesgo de tsunami en costas de C...\n",
       "6011     Fuerte temblor se registra en la zona sur de C...\n",
       "6015     Temblor de mediana magnitud se registró en la ...\n",
       "6024     Temblor de mediana magnitud se registró en la ...\n",
       "6073     Nuevo temblor afecta al país: Epicentro ahora ...\n",
       "6074                Temblor afecta a la región de Los Ríos\n",
       "6112            Temblor afecta a la región de La Araucanía\n",
       "6116       Temblor se registra en la zona central del país\n",
       "6137      Temblor afecta a la región de Arica y Parinacota\n",
       "6192     Temblor se registra en la zona centro norte de...\n",
       "6224             Temblor afecta a la región de Antofagasta\n",
       "6278     Temblor de mediana magnitud se registró en el ...\n",
       "6312     Temblor de mediana magnitud se registró en cer...\n",
       "6329     Temblor de mediana intensidad se percibe en la...\n",
       "6331     Temblor de mediana intensidad se registra en e...\n",
       "6369     Temblor de mediana magnitud se registró en Ari...\n",
       "6461                Temblor afecta a la región de Coquimbo\n",
       "6463        Temblor se registra en la región de Valparaíso\n",
       "6532         Temblor se registra en la zona norte del país\n",
       "6589          Temblor se registra en la región de Coquimbo\n",
       "6593                Temblor afecta a la región de Coquimbo\n",
       "6613                Temblor afecta a la región de Coquimbo\n",
       "6648                 Temblor afecta a la zona sur del país\n",
       "6710                 Temblor afecta a la zona sur del país\n",
       "6806     Se descarta tsunami: Temblor de mediana magnit...\n",
       "6808     Temblor de mediana magnitud se registró en la ...\n",
       "6814     Onemi reporta temblor de magnitud 5.3° en las ...\n",
       "6822     Temblor de mediana intensidad de percibe en la...\n",
       "6824         Temblor se registra en la zona norte del país\n",
       "6851     Se descarta tsunami: Temblor de mediana magnit...\n",
       "6853     Temblor de mediana magnitud se registró en la ...\n",
       "6859     Onemi reporta temblor de magnitud 5.3° en las ...\n",
       "6866     Temblor de mediana intensidad de percibe en la...\n",
       "6868         Temblor se registra en la zona norte del país\n",
       "6876     SHOA descarta tsunami en costas de Chile tras ...\n",
       "6938     SHOA descarta tsunami en costas de Chile tras ...\n",
       "6985         Temblor se registra en la zona norte del país\n",
       "6987               Temblor afecta a la zona norte del país\n",
       "7050         Temblor se registra en la zona norte del país\n",
       "7052               Temblor afecta a la zona norte del país\n",
       "7082             Temblor afecta a la región de Antofagasta\n",
       "7141             Temblor afecta a la región de Antofagasta\n",
       "7171     Usuarios tras temblor en la zona centro norte ...\n",
       "7236     Usuarios tras temblor en la zona centro norte ...\n",
       "7295             Temblor afecta a la región de Antofagasta\n",
       "7367     SHOA descarta tsunami en las costas de Chile t...\n",
       "7368     Temblor de mediana intensidad se registra en l...\n",
       "7420     Temblores de mediana magnitud afectan a la mis...\n",
       "7424     Fuerte temblor afecta a la zona central del pa...\n",
       "7433                Temblor afecta a la región de Coquimbo\n",
       "7436     Aumento de temblores en Chile: Año 2020 tuvo u...\n",
       "7464                Temblor afecta a la región de Coquimbo\n",
       "7500     Fuerte temblor afecta a la zona central del pa...\n",
       "7509                Temblor afecta a la región de Coquimbo\n",
       "7510     Aumento de temblores en Chile: Año 2020 tuvo u...\n",
       "7538                Temblor afecta a la región de Coquimbo\n",
       "7567     SHOA descarta tsunami en las costas de Chile t...\n",
       "7568     Captan momento exacto en que comienza fuerte t...\n",
       "7626     SHOA descarta tsunami en las costas de Chile t...\n",
       "7627     Captan momento exacto en que comienza fuerte t...\n",
       "7725               Temblor afecta a la zona norte de Chile\n",
       "7738     SHOA descarta tsunami en Chile tras temblor 7....\n",
       "7782               Temblor afecta a la zona norte de Chile\n",
       "7795     SHOA descarta tsunami en Chile tras temblor 7....\n",
       "7903     Temblor de magnitud 5.8 afecta a la zona centr...\n",
       "7947     Temblor de magnitud 5.8 afecta a la zona centr...\n",
       "7983     Temblor de mediana magnitud se vuelve a sentir...\n",
       "7988     Temblor de mediana intensidad se registra en l...\n",
       "8016     Mensaje erróneo de la Onemi y temblor en la zo...\n",
       "8032     Temblor de mediana magnitud se vuelve a sentir...\n",
       "8035     Temblor de mediana intensidad se registra en l...\n",
       "8048     Temblor de mediana magnitud se registró en la ...\n",
       "8115     Temblor de mediana magnitud se registró en la ...\n",
       "8146     Temblor de mediana magnitud afecta a la región...\n",
       "8171         Temblor se registra en la zona norte del país\n",
       "8218     Temblor de mediana magnitud afecta a la región...\n",
       "8244         Temblor se registra en la zona norte del país\n",
       "8447     Derrumbes y mercadería destruida: los daños en...\n",
       "8450     Videos revelan magnitud de fuerte temblor en e...\n",
       "10186    Leve temblor se registra en la zona centro del...\n",
       "10236               Temblor se registra en la zona central\n",
       "12187    Director de Onemi llama a habitantes de Atacam...\n",
       "20385    ¿Hubo algún vínculo entre los temblores de la ...\n",
       "20849    Seguidilla de temblores se registran cerca de ...\n",
       "26394    La Moneda busca superar los \"temblores grado s...\n",
       "29675    Seguidilla de temblores en el norte: Onemi adv...\n",
       "34224    Registran temblor entre regiones de Coquimbo y...\n",
       "34234    Registran temblor entre regiones de Coquimbo y...\n",
       "37324    Ministro Monckeberg y relación con Chile Vamos...\n",
       "38559    Zona sur del país registra seguidilla de répli...\n",
       "42879    Sismología afirma que seguidilla de temblores ...\n",
       "Name: title, dtype: object"
      ]
     },
     "execution_count": 16,
     "metadata": {},
     "output_type": "execute_result"
    }
   ],
   "source": [
    "df2[df2['title'].str.contains(\"(?i)temblor\")]['title']"
   ]
  },
  {
   "cell_type": "code",
   "execution_count": 17,
   "id": "5b0d6b08",
   "metadata": {},
   "outputs": [
    {
     "data": {
      "text/plain": [
       "     37259\n",
       "4     1106\n",
       "7      403\n",
       "3      231\n",
       "5      199\n",
       "Name: label, dtype: int64"
      ]
     },
     "execution_count": 17,
     "metadata": {},
     "output_type": "execute_result"
    }
   ],
   "source": [
    "df2 = df.loc[df['label']=='']\n",
    "df = df[df['label']!='']\n",
    "\n",
    "df2.loc[df2['title'].str.contains(\"(?i)temblor|erupción|incendio|catástrofe|accidente\"), 'label'] = 4 \n",
    "df2.loc[df2['title'].str.contains(\"(?i)tecnol|científic|ciencia\"), 'label'] = 3 \n",
    "df2.loc[df2['title'].str.contains(\"(?i)ecología|planeta|contamina|atmósfera|eclipse|tierra|reciclaje|vegetación|paisaje|animal|verdes\"), 'label'] = 7\n",
    "df2.loc[df2['title'].str.contains(\"(?i)cultura|pintura|museo|música|patrimonio|literatura|arqueólogo|arqueología|termopolio|geólogo\"), 'label'] = 5 #arte no por que toma otras palabras como valuarte, etc\n",
    "\n",
    "df2.dropna(subset = [\"label\"], inplace=True)\n",
    "df2['label'].value_counts()"
   ]
  },
  {
   "cell_type": "code",
   "execution_count": 18,
   "id": "aaa56557",
   "metadata": {},
   "outputs": [
    {
     "data": {
      "text/plain": [
       "     37259\n",
       "0     8564\n",
       "6     7994\n",
       "2     3329\n",
       "1     2932\n",
       "8     2144\n",
       "9     1928\n",
       "4     1344\n",
       "7      817\n",
       "3      523\n",
       "5      505\n",
       "Name: label, dtype: int64"
      ]
     },
     "execution_count": 18,
     "metadata": {},
     "output_type": "execute_result"
    }
   ],
   "source": [
    "df = pd.concat([df,df2])\n",
    "df['label'].value_counts()"
   ]
  },
  {
   "cell_type": "code",
   "execution_count": 19,
   "id": "dd1fe519",
   "metadata": {},
   "outputs": [],
   "source": [
    "df.replace(\"\", np.nan, inplace=True)\n",
    "df.dropna(subset = [\"label\"], inplace=True)\n",
    "\n",
    "df = df.astype({\"label\": str})\n",
    "df.replace(\"0.0\",\"mundo\", inplace=True)\n",
    "df.replace(\"1.0\",\"economía\", inplace=True)\n",
    "df.replace(\"2.0\",\"política y conflictos\", inplace=True)\n",
    "df.replace(\"3.0\",\"ciencia y tecnología\", inplace=True)\n",
    "df.replace(\"4.0\",\"catástrofes y accidentes\", inplace=True)\n",
    "df.replace(\"5.0\",\"cultura y arte\", inplace=True)\n",
    "df.replace(\"6.0\",\"deporte\", inplace=True)\n",
    "df.replace(\"7.0\",\"ecología y planeta\", inplace=True)\n",
    "df.replace(\"8.0\",\"crimen, delitos y justicia\", inplace=True)\n",
    "df.replace(\"9.0\",\"salud\", inplace=True)"
   ]
  },
  {
   "cell_type": "code",
   "execution_count": 20,
   "id": "bb9d93da",
   "metadata": {},
   "outputs": [
    {
     "data": {
      "text/plain": [
       "mundo                         8564\n",
       "deporte                       7994\n",
       "política y conflictos         3329\n",
       "economía                      2932\n",
       "crimen, delitos y justicia    2144\n",
       "salud                         1928\n",
       "catástrofes y accidentes      1344\n",
       "ecología y planeta             817\n",
       "ciencia y tecnología           523\n",
       "cultura y arte                 505\n",
       "Name: label, dtype: int64"
      ]
     },
     "execution_count": 20,
     "metadata": {},
     "output_type": "execute_result"
    }
   ],
   "source": [
    "df.to_csv(\"dataEtiquetada.csv\", index=False) \n",
    "df['label'].value_counts()"
   ]
  },
  {
   "cell_type": "code",
   "execution_count": null,
   "id": "1235ca96",
   "metadata": {},
   "outputs": [],
   "source": []
  },
  {
   "cell_type": "code",
   "execution_count": null,
   "id": "32cccab2",
   "metadata": {},
   "outputs": [],
   "source": [
    "# Duplicación de noticias"
   ]
  },
  {
   "cell_type": "code",
   "execution_count": 4,
   "id": "148e3908",
   "metadata": {},
   "outputs": [
    {
     "data": {
      "text/plain": [
       "mundo                         8564\n",
       "deporte                       7994\n",
       "política y conflictos         3329\n",
       "economía                      2932\n",
       "crimen, delitos y justicia    2144\n",
       "salud                         1928\n",
       "catástrofes y accidentes      1344\n",
       "ecología y planeta             817\n",
       "ciencia y tecnología           523\n",
       "cultura y arte                 505\n",
       "Name: label, dtype: int64"
      ]
     },
     "execution_count": 4,
     "metadata": {},
     "output_type": "execute_result"
    }
   ],
   "source": [
    "df = pd.read_csv(\"dataEtiquetada.csv\")\n",
    "df['label'].value_counts()"
   ]
  },
  {
   "cell_type": "code",
   "execution_count": 5,
   "id": "6a5df1ed",
   "metadata": {},
   "outputs": [
    {
     "data": {
      "text/plain": [
       "catástrofes y accidentes      2060\n",
       "ciencia y tecnología          2060\n",
       "crimen, delitos y justicia    2060\n",
       "deporte                       2060\n",
       "ecología y planeta            2060\n",
       "economía                      2060\n",
       "mundo                         2060\n",
       "política y conflictos         2060\n",
       "cultura y arte                2020\n",
       "salud                         1928\n",
       "Name: label, dtype: int64"
      ]
     },
     "execution_count": 5,
     "metadata": {},
     "output_type": "execute_result"
    }
   ],
   "source": [
    "df7 = df.loc[df['label']=='ecología y planeta']\n",
    "df5 = df.loc[df['label']=='cultura y arte']\n",
    "df4 = df.loc[df['label']=='catástrofes y accidentes']\n",
    "df3 = df.loc[df['label']=='ciencia y tecnología']\n",
    "df = pd.concat([df,df7,df3,df5,df7,df3,df5,df7,df5,df4,df3])\n",
    "def sampling_k_elements(group, k=2060):\n",
    "    if len(group) < k:\n",
    "        return group\n",
    "    return group.sample(k)\n",
    "\n",
    "df = df.groupby('label').apply(sampling_k_elements).reset_index(drop=True)\n",
    "df['label'].value_counts()"
   ]
  },
  {
   "cell_type": "code",
   "execution_count": 6,
   "id": "f9684367",
   "metadata": {},
   "outputs": [],
   "source": [
    "df.to_csv(\"dataEtiquetada.csv\", index=False)"
   ]
  }
 ],
 "metadata": {
  "kernelspec": {
   "display_name": "Python 3 (ipykernel)",
   "language": "python",
   "name": "python3"
  },
  "language_info": {
   "codemirror_mode": {
    "name": "ipython",
    "version": 3
   },
   "file_extension": ".py",
   "mimetype": "text/x-python",
   "name": "python",
   "nbconvert_exporter": "python",
   "pygments_lexer": "ipython3",
   "version": "3.9.7"
  }
 },
 "nbformat": 4,
 "nbformat_minor": 5
}

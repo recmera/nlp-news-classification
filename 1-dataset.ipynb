{
 "cells": [
  {
   "cell_type": "markdown",
   "id": "d7f650f8",
   "metadata": {
    "scrolled": false
   },
   "source": [
    "# TAL aplicado al análisis del discurso de los medios de prensa 📰🤓🔥\n",
    "\n",
    "\n",
    "El proyecto consiste en entrenar y evaluar varios modelos de clasificación supervisada capaz de clasificar una noticia.\n"
   ]
  },
  {
   "cell_type": "markdown",
   "id": "172a8e0a",
   "metadata": {},
   "source": [
    "- Hito Unidad 1 (29 de septiembre): Datasets de entrenamiento y test + primer modelo baseline\n",
    "\n",
    "\n",
    "\n",
    "### índex\n",
    "\n",
    "1. [Importación del dataset](a)\n",
    "2. [Extracción de tópicos vía RE en URLs](b)\n",
    "3. [Extracción de términos clave de columnas title+text](b)\n",
    "4. [Clasificación del dataset de entrenamiento](c)\n",
    "\n",
    "## Generando dataset de entrenamiento\n",
    "El dataset se clasificará en función de las siguientes etiquetas:\n",
    "- mundo = 0 \n",
    "- economía = 1 \n",
    "- política y conflictos = 2 \n",
    "- ciencia y tecnología = 3\n",
    "- catástrofes y accidentes = 4 \n",
    "- cultura y arte = 5 \n",
    "- deporte = 6 \n",
    "- ecología y planeta = 7\n",
    "- crimen, delitos y justicia = 8 \n",
    "- salud = 9"
   ]
  },
  {
   "cell_type": "code",
   "execution_count": 1,
   "id": "22cb9fba",
   "metadata": {},
   "outputs": [
    {
     "name": "stdout",
     "output_type": "stream",
     "text": [
      "versión de Spacy:  3.1.2\n"
     ]
    }
   ],
   "source": [
    "import warnings\n",
    "warnings.filterwarnings('ignore')\n",
    "\n",
    "# Data manipulation\n",
    "import re\n",
    "import multiprocessing\n",
    "import pandas as pd\n",
    "pd.set_option(\"display.max_rows\", None)\n",
    "import numpy as np\n",
    "\n",
    "# NLP\n",
    "import gensim\n",
    "import gensim.corpora as corpora\n",
    "from gensim.utils import simple_preprocess\n",
    "from gensim.models import Word2Vec, CoherenceModel\n",
    "#import pyLDAvis\n",
    "#import pyLDAvis.gensim_models  # don't skip this\n",
    "import nltk \n",
    "#nltk.download('stopwords') \n",
    "import spacy\n",
    "from spacy.matcher import Matcher\n",
    "nlp = spacy.load(\"es_core_news_sm\")\n",
    "print(\"versión de Spacy: \", spacy.__version__)\n",
    "\n"
   ]
  },
  {
   "cell_type": "markdown",
   "id": "f5fcb00f",
   "metadata": {},
   "source": [
    "### 1. Importación de dataset <a name=\"a\"></a>"
   ]
  },
  {
   "cell_type": "code",
   "execution_count": 2,
   "id": "786b14a1",
   "metadata": {
    "scrolled": true
   },
   "outputs": [
    {
     "name": "stdout",
     "output_type": "stream",
     "text": [
      "Largo de dataset:  69702\n"
     ]
    }
   ],
   "source": [
    "frames = [pd.read_csv(\"data/chile_2020-09.csv\"), pd.read_csv(\"data/chile_2020-10.csv\"),pd.read_csv(\"data/chile_2020-11.csv\"), pd.read_csv(\"data/chile_2020-12.csv\"), pd.read_csv(\"data/chile_2021-01.csv\"), pd.read_csv(\"data/chile_2021-02.csv\"), pd.read_csv(\"data/chile_2021-03.csv\"), pd.read_csv(\"data/chile_2021-04.csv\")]\n",
    "dataset = pd.concat(frames)\n",
    "#dataset = dataset[:2000]  #para reducir el coste computacional en desarrollo\n",
    "dataset['content'] = dataset['title'] + \" \" + dataset['text'] \n",
    "\n",
    "print(\"Largo de dataset: \", len(dataset))\n",
    "dataset= dataset[dataset['text'].notna()]\n",
    "        \n",
    "dataset.drop(columns=['country','year','date','id', 'id_journalist','title'], inplace=True)\n",
    "dataset['topic'] = \"\""
   ]
  },
  {
   "cell_type": "markdown",
   "id": "d15176f7",
   "metadata": {},
   "source": [
    "### 2.  Extracción de tópicos vía RE en URL <a name=\"b\"></a>"
   ]
  },
  {
   "cell_type": "code",
   "execution_count": 3,
   "id": "ff0bce3a",
   "metadata": {},
   "outputs": [
    {
     "data": {
      "text/plain": [
       "{'ahoranoticiasmega',\n",
       " 'biobiochile',\n",
       " 'elciudadano',\n",
       " 'elmostrador',\n",
       " 'emol',\n",
       " 'horas24',\n",
       " 'latercera'}"
      ]
     },
     "execution_count": 3,
     "metadata": {},
     "output_type": "execute_result"
    }
   ],
   "source": [
    "#identicando fuentes fuentes\n",
    "set(dataset[\"media_outlet\"])"
   ]
  },
  {
   "cell_type": "code",
   "execution_count": 4,
   "id": "14b7a43d",
   "metadata": {},
   "outputs": [
    {
     "name": "stdout",
     "output_type": "stream",
     "text": [
      "268    https://www.meganoticias.cl/nacional/312353-si...\n",
      "269    https://www.meganoticias.cl/nacional/312350-cy...\n",
      "Name: url, dtype: object\n",
      "0    https://www.24horas.cl/coronavirus/tia-pikachu...\n",
      "3    https://www.24horas.cl/nacional/rm-alcanza-sus...\n",
      "Name: url, dtype: object\n",
      "205    https://www.elciudadano.com/chile/el-avance-de...\n",
      "206    https://www.elciudadano.com/latinoamerica/colo...\n",
      "Name: url, dtype: object\n",
      "29    https://www.biobiochile.cl/noticias/nacional/c...\n",
      "30    https://www.biobiochile.cl/noticias/nacional/r...\n",
      "Name: url, dtype: object\n",
      "228    https://www.elmostrador.cl/noticias/pais/2020/...\n",
      "230    https://www.elmostrador.cl/dia/2020/09/01/dipu...\n",
      "Name: url, dtype: object\n",
      "496    https://www.emol.com/noticias/Economia/2020/09...\n",
      "497    https://www.emol.com/noticias/Economia/2020/09...\n",
      "Name: url, dtype: object\n",
      "209    https://www.latercera.com/politica/noticia/el-...\n",
      "210    https://www.latercera.com/politica/noticia/cam...\n",
      "Name: url, dtype: object\n"
     ]
    }
   ],
   "source": [
    "print(dataset[dataset.media_outlet==\"ahoranoticiasmega\"][\"url\"].head(2))\n",
    "print(dataset[dataset.media_outlet==\"horas24\"][\"url\"].head(2))\n",
    "print(dataset[dataset.media_outlet==\"elciudadano\"][\"url\"].head(2))\n",
    "print(dataset[dataset.media_outlet==\"biobiochile\"][\"url\"].head(2))\n",
    "print(dataset[dataset.media_outlet==\"elmostrador\"][\"url\"].head(2))\n",
    "print(dataset[dataset.media_outlet==\"emol\"][\"url\"].head(2))\n",
    "print(dataset[dataset.media_outlet==\"latercera\"][\"url\"].head(2))"
   ]
  },
  {
   "cell_type": "markdown",
   "id": "4a38db2f",
   "metadata": {},
   "source": [
    "Las urls de _Ahoranoticiasmega, Horas24 y El Ciudadano_ son similares.\n",
    "La url de _La Tercera_ posee dos tópicos, sin embargo, el segundo tópico es irrelevante."
   ]
  },
  {
   "cell_type": "code",
   "execution_count": 5,
   "id": "5a659396",
   "metadata": {},
   "outputs": [],
   "source": [
    "#Generamos df1 concatenando ahoranoticiasmega, horas24 y elciudadano\n",
    "medios = [dataset.loc[dataset['media_outlet']==\"ahoranoticiasmega\"],\n",
    "          dataset.loc[dataset['media_outlet']==\"horas24\"],\n",
    "          dataset.loc[dataset['media_outlet']==\"elciudadano\"],\n",
    "          dataset.loc[dataset['media_outlet']==\"latercera\"]]\n",
    "df1 = pd.concat(medios)\n",
    "for index, row in df1.iterrows():\n",
    "    url=row['url']\n",
    "    obj = re.findall('(\\w+)://([\\w\\-\\.]+)/([\\w\\-]+).([\\w\\-]+)', url) \n",
    "    topic=obj[0][2]\n",
    "    df1.loc[index,'topic'] = topic.lower()"
   ]
  },
  {
   "cell_type": "markdown",
   "id": "efc8a6ac",
   "metadata": {},
   "source": [
    "Las urls de _Biobiochile, El Mostrador, Emol_ poseen dos columnas de tópicos. La primera columna entrega información irrelevante. "
   ]
  },
  {
   "cell_type": "code",
   "execution_count": 6,
   "id": "88547a4d",
   "metadata": {
    "scrolled": true
   },
   "outputs": [],
   "source": [
    "medios2 = [dataset.loc[dataset['media_outlet']==\"biobiochile\"],\n",
    "           dataset.loc[dataset['media_outlet']==\"elmostrador\"],\n",
    "           dataset.loc[dataset['media_outlet']==\"emol\"]] \n",
    "df2 = pd.concat(medios2)\n",
    "for index, row in df2.iterrows():\n",
    "    url=row['url']\n",
    "    obj = re.findall('(\\w+)://([\\w\\-\\.]+)/([\\w\\-]+).([\\w\\-]+)', url)\n",
    "    topic = obj[0][3]\n",
    "    df2.loc[index,'topic'] = topic.lower()"
   ]
  },
  {
   "cell_type": "code",
   "execution_count": 7,
   "id": "23f43571",
   "metadata": {},
   "outputs": [
    {
     "data": {
      "text/plain": [
       "array(['2020', '2021', 'actualidad', 'animal', 'artes', 'autos',\n",
       "       'calidad-de-vida', 'cartas-ciudadanas', 'chile',\n",
       "       'ciencia-tecnologia', 'ciudadanos-al-poder', 'columnas',\n",
       "       'conversacioneslt', 'coronavirus', 'culto', 'data', 'deportes',\n",
       "       'derechos-humanos', 'destacados-cultura', 'economia', 'educacion',\n",
       "       'el-deportivo', 'especiales', 'espectaculos', 'genero',\n",
       "       'internacional', 'justicia', 'la-tercera-domingo', 'la-tercera-pm',\n",
       "       'la-tercera-tv', 'latinoamerica', 'mapuche', 'masdeco',\n",
       "       'medio-ambiente', 'mexico', 'mineria', 'mouse', 'multimedia',\n",
       "       'mundo', 'nacional', 'noticiasbbc', 'opinion', 'pais', 'paula',\n",
       "       'peru', 'plebiscito-chile-elige', 'politica', 'portada',\n",
       "       'portada-tv', 'proceso-constituyente', 'programas', 'pueblos',\n",
       "       'pulso', 'pulso-trader', 'que-pasa', 'reconstitucion',\n",
       "       'redes-sociales', 'regiones', 'reportaje-investigacion',\n",
       "       'revista-que-pasa', 'salud', 'sociedad', 'tecnologia',\n",
       "       'tecnologia-2', 'tendencias', 'tesirve', 'trabajo', 'wires'],\n",
       "      dtype=object)"
      ]
     },
     "execution_count": 7,
     "metadata": {},
     "output_type": "execute_result"
    }
   ],
   "source": [
    "df = pd.concat([df1,df2])\n",
    "np.sort(df['topic'].unique())"
   ]
  },
  {
   "cell_type": "code",
   "execution_count": 8,
   "id": "5d752e7e",
   "metadata": {},
   "outputs": [
    {
     "data": {
      "text/plain": [
       "     34315\n",
       "0     9913\n",
       "6     9609\n",
       "3     5689\n",
       "2     5020\n",
       "1     1774\n",
       "8      428\n",
       "9      244\n",
       "5      179\n",
       "7      168\n",
       "Name: label, dtype: int64"
      ]
     },
     "metadata": {},
     "output_type": "display_data"
    }
   ],
   "source": [
    "df['label'] = \"\"\n",
    "# mundo\n",
    "df.loc[df['topic'] == 'mundo',                  'label'] = 0\n",
    "df.loc[df['topic'] == 'noticiasbbc',            'label'] = 0\n",
    "df.loc[df['topic'] == 'internacional',          'label'] = 0\n",
    "# economia\n",
    "df.loc[df['topic'] == 'economia',               'label'] = 1\n",
    "df.loc[df['topic'] == 'pulso-trader',           'label'] = 1\n",
    "# política y conflictos\n",
    "df.loc[df['topic'] == 'politica',               'label'] = 2\n",
    "df.loc[df['topic'] == 'plebiscito-chile-elige', 'label'] = 2\n",
    "df.loc[df['topic'] == 'ciudadanos-al-poder',    'label'] = 2\n",
    "df.loc[df['topic'] == 'proceso-constituyente',  'label'] = 2\n",
    "# ciencia y tecnologia\n",
    "df.loc[df['topic'] == 'tecnologia',             'label'] = 3\n",
    "df.loc[df['topic'] == 'tecnologia-2',           'label'] = 3\n",
    "df.loc[df['topic'] == 'ciencia-tecnologia',     'label'] = 3\n",
    "df.loc[df['topic'] == 'mouse',                  'label'] = 3\n",
    "df.loc[df['topic'] == 'redes-sociales',         'label'] = 3\n",
    "# accidentes \n",
    "df.loc[df['topic'] == 'accidentes',             'label'] = 4\n",
    "# arte y cultura\n",
    "df.loc[df['topic'] == 'cultura',                'label'] = 5\n",
    "df.loc[df['topic'] == 'artes',                  'label'] = 5\n",
    "# deportes\n",
    "df.loc[df['topic'] == 'deportes',               'label'] = 6\n",
    "df.loc[df['topic'] == 'el-deportivo',           'label'] = 6\n",
    "# ecologia y planeta\n",
    "df.loc[df['topic'] == 'medio-ambiente',         'label'] = 7\n",
    "df.loc[df['topic'] == 'animal',                 'label'] = 7\n",
    "# crimen, delitos y justicia\n",
    "df.loc[df['topic'] == 'justicia',               'label'] = 8\n",
    "df.loc[df['topic'] == 'reportaje-investigacion','label'] = 8\n",
    "# salud\n",
    "df.loc[df['topic'] == 'salud',                  'label'] = 9\n",
    "df.loc[df['topic'] == 'calidad-de-vida',        'label'] = 9\n",
    "df.loc[df['topic'] == 'coronavirus',            'label'] = 9\n",
    "\n",
    "display(df['label'].value_counts())\n",
    "# nos quedamos sólo con las noticias etiquetadas. para clasificar df1 utilizaremos otro metodo\n",
    "df1 = df.loc[df['label']==''] \n",
    "df = df[df['label']!='']"
   ]
  },
  {
   "cell_type": "markdown",
   "id": "53c5733e",
   "metadata": {},
   "source": [
    "Tenemos muchas noticias no clasificadas, por lo que es necesario utilizar otro mecanísmo para clasificar las noticias restantes."
   ]
  },
  {
   "cell_type": "markdown",
   "id": "45ab702c",
   "metadata": {},
   "source": [
    "### 3.  Extracción de términos clave de columna title+text <a name=\"b\"></a>"
   ]
  },
  {
   "cell_type": "code",
   "execution_count": 9,
   "id": "e6eb9634",
   "metadata": {},
   "outputs": [],
   "source": [
    "matcher = Matcher(nlp.vocab)\n",
    "\n",
    "# Pattern 1: NOUN de NOUN\n",
    "pattern_1 = [{\"POS\": \"NOUN\"},{\"LOWER\": \"de\"}, {\"POS\": \"NOUN\"}]\n",
    "matcher.add(\"NOUN-de-NOUN\", [pattern_1])\n",
    "\n",
    "# Pattern 2: NOUN ADJ\n",
    "pattern_2 = [{\"POS\": \"NOUN\"}, {\"POS\": \"ADJ\"}]\n",
    "matcher.add(\"NOUN-ADJ\", [pattern_2])\n",
    "\n",
    "# Pattern 3: \n",
    "pattern_3 = [{\"POS\": \"NOUN\"}]\n",
    "matcher.add(\"NOUN\", [pattern_3])"
   ]
  },
  {
   "cell_type": "markdown",
   "id": "8a110d7e",
   "metadata": {},
   "source": [
    "    Bloque de alto coste computacional ⬇️"
   ]
  },
  {
   "cell_type": "code",
   "execution_count": 10,
   "id": "f3e12b1d",
   "metadata": {},
   "outputs": [
    {
     "data": {
      "text/html": [
       "<div>\n",
       "<style scoped>\n",
       "    .dataframe tbody tr th:only-of-type {\n",
       "        vertical-align: middle;\n",
       "    }\n",
       "\n",
       "    .dataframe tbody tr th {\n",
       "        vertical-align: top;\n",
       "    }\n",
       "\n",
       "    .dataframe thead th {\n",
       "        text-align: right;\n",
       "    }\n",
       "</style>\n",
       "<table border=\"1\" class=\"dataframe\">\n",
       "  <thead>\n",
       "    <tr style=\"text-align: right;\">\n",
       "      <th></th>\n",
       "      <th>media_outlet</th>\n",
       "      <th>url</th>\n",
       "      <th>text</th>\n",
       "      <th>content</th>\n",
       "      <th>topic</th>\n",
       "      <th>label</th>\n",
       "      <th>terms</th>\n",
       "    </tr>\n",
       "  </thead>\n",
       "  <tbody>\n",
       "    <tr>\n",
       "      <th>268</th>\n",
       "      <td>ahoranoticiasmega</td>\n",
       "      <td>https://www.meganoticias.cl/nacional/312353-si...</td>\n",
       "      <td>La noche de este martes 01 de septiembre, a la...</td>\n",
       "      <td>Temblor de menor intensidad afecta nuevamente ...</td>\n",
       "      <td>nacional</td>\n",
       "      <td></td>\n",
       "      <td>temblor; intensidad; noche; martes; septiembre...</td>\n",
       "    </tr>\n",
       "    <tr>\n",
       "      <th>269</th>\n",
       "      <td>ahoranoticiasmega</td>\n",
       "      <td>https://www.meganoticias.cl/nacional/312350-cy...</td>\n",
       "      <td>En la presente edición del CyberDay, el rubro ...</td>\n",
       "      <td>CyberDay 2020: Consolas y videojuegos son los ...</td>\n",
       "      <td>nacional</td>\n",
       "      <td></td>\n",
       "      <td>cyberday; 2020; consolas; videojuegos; product...</td>\n",
       "    </tr>\n",
       "    <tr>\n",
       "      <th>270</th>\n",
       "      <td>ahoranoticiasmega</td>\n",
       "      <td>https://www.meganoticias.cl/nacional/312347-on...</td>\n",
       "      <td>La Oficina Nacional de Emergencia del Minister...</td>\n",
       "      <td>Sismos en el norte: Expertos aclaran que exist...</td>\n",
       "      <td>nacional</td>\n",
       "      <td></td>\n",
       "      <td>norte; expertos; energía; energía acumulada; z...</td>\n",
       "    </tr>\n",
       "  </tbody>\n",
       "</table>\n",
       "</div>"
      ],
      "text/plain": [
       "          media_outlet                                                url  \\\n",
       "268  ahoranoticiasmega  https://www.meganoticias.cl/nacional/312353-si...   \n",
       "269  ahoranoticiasmega  https://www.meganoticias.cl/nacional/312350-cy...   \n",
       "270  ahoranoticiasmega  https://www.meganoticias.cl/nacional/312347-on...   \n",
       "\n",
       "                                                  text  \\\n",
       "268  La noche de este martes 01 de septiembre, a la...   \n",
       "269  En la presente edición del CyberDay, el rubro ...   \n",
       "270  La Oficina Nacional de Emergencia del Minister...   \n",
       "\n",
       "                                               content     topic label  \\\n",
       "268  Temblor de menor intensidad afecta nuevamente ...  nacional         \n",
       "269  CyberDay 2020: Consolas y videojuegos son los ...  nacional         \n",
       "270  Sismos en el norte: Expertos aclaran que exist...  nacional         \n",
       "\n",
       "                                                 terms  \n",
       "268  temblor; intensidad; noche; martes; septiembre...  \n",
       "269  cyberday; 2020; consolas; videojuegos; product...  \n",
       "270  norte; expertos; energía; energía acumulada; z...  "
      ]
     },
     "metadata": {},
     "output_type": "display_data"
    }
   ],
   "source": [
    "df1['terms'] = \"\"\n",
    "for index, row in df1.iterrows():\n",
    "    doc = nlp(row['content'].lower())\n",
    "\n",
    "    matches = matcher(doc)\n",
    "    categories = \"\"\n",
    "    for match_id, start, end in matches:\n",
    "        string_id = nlp.vocab.strings[match_id]  # Get string representation\n",
    "        span = doc[start:end]  # The matched span\n",
    "        categories = categories + span.text + \"; \"\n",
    "    \n",
    "    row['terms'] = categories\n",
    "    \n",
    "display(df1.head(3))"
   ]
  },
  {
   "cell_type": "code",
   "execution_count": 11,
   "id": "13c423a6",
   "metadata": {
    "scrolled": false
   },
   "outputs": [
    {
     "data": {
      "text/html": [
       "<div>\n",
       "<style scoped>\n",
       "    .dataframe tbody tr th:only-of-type {\n",
       "        vertical-align: middle;\n",
       "    }\n",
       "\n",
       "    .dataframe tbody tr th {\n",
       "        vertical-align: top;\n",
       "    }\n",
       "\n",
       "    .dataframe thead th {\n",
       "        text-align: right;\n",
       "    }\n",
       "</style>\n",
       "<table border=\"1\" class=\"dataframe\">\n",
       "  <thead>\n",
       "    <tr style=\"text-align: right;\">\n",
       "      <th></th>\n",
       "      <th>media_outlet</th>\n",
       "      <th>url</th>\n",
       "      <th>text</th>\n",
       "      <th>content</th>\n",
       "      <th>topic</th>\n",
       "      <th>label</th>\n",
       "      <th>terms</th>\n",
       "      <th>most_common</th>\n",
       "      <th>second_common</th>\n",
       "    </tr>\n",
       "  </thead>\n",
       "  <tbody>\n",
       "    <tr>\n",
       "      <th>268</th>\n",
       "      <td>ahoranoticiasmega</td>\n",
       "      <td>https://www.meganoticias.cl/nacional/312353-si...</td>\n",
       "      <td>La noche de este martes 01 de septiembre, a la...</td>\n",
       "      <td>Temblor de menor intensidad afecta nuevamente ...</td>\n",
       "      <td>nacional</td>\n",
       "      <td></td>\n",
       "      <td>temblor; intensidad; noche; martes; septiembre...</td>\n",
       "      <td>intensidad</td>\n",
       "      <td>sismo</td>\n",
       "    </tr>\n",
       "    <tr>\n",
       "      <th>269</th>\n",
       "      <td>ahoranoticiasmega</td>\n",
       "      <td>https://www.meganoticias.cl/nacional/312350-cy...</td>\n",
       "      <td>En la presente edición del CyberDay, el rubro ...</td>\n",
       "      <td>CyberDay 2020: Consolas y videojuegos son los ...</td>\n",
       "      <td>nacional</td>\n",
       "      <td></td>\n",
       "      <td>cyberday; 2020; consolas; videojuegos; product...</td>\n",
       "      <td>consolas</td>\n",
       "      <td>precios</td>\n",
       "    </tr>\n",
       "    <tr>\n",
       "      <th>270</th>\n",
       "      <td>ahoranoticiasmega</td>\n",
       "      <td>https://www.meganoticias.cl/nacional/312347-on...</td>\n",
       "      <td>La Oficina Nacional de Emergencia del Minister...</td>\n",
       "      <td>Sismos en el norte: Expertos aclaran que exist...</td>\n",
       "      <td>nacional</td>\n",
       "      <td></td>\n",
       "      <td>norte; expertos; energía; energía acumulada; z...</td>\n",
       "      <td>réplicas</td>\n",
       "      <td>sismo</td>\n",
       "    </tr>\n",
       "  </tbody>\n",
       "</table>\n",
       "</div>"
      ],
      "text/plain": [
       "          media_outlet                                                url  \\\n",
       "268  ahoranoticiasmega  https://www.meganoticias.cl/nacional/312353-si...   \n",
       "269  ahoranoticiasmega  https://www.meganoticias.cl/nacional/312350-cy...   \n",
       "270  ahoranoticiasmega  https://www.meganoticias.cl/nacional/312347-on...   \n",
       "\n",
       "                                                  text  \\\n",
       "268  La noche de este martes 01 de septiembre, a la...   \n",
       "269  En la presente edición del CyberDay, el rubro ...   \n",
       "270  La Oficina Nacional de Emergencia del Minister...   \n",
       "\n",
       "                                               content     topic label  \\\n",
       "268  Temblor de menor intensidad afecta nuevamente ...  nacional         \n",
       "269  CyberDay 2020: Consolas y videojuegos son los ...  nacional         \n",
       "270  Sismos en el norte: Expertos aclaran que exist...  nacional         \n",
       "\n",
       "                                                 terms most_common  \\\n",
       "268  temblor; intensidad; noche; martes; septiembre...  intensidad   \n",
       "269  cyberday; 2020; consolas; videojuegos; product...    consolas   \n",
       "270  norte; expertos; energía; energía acumulada; z...    réplicas   \n",
       "\n",
       "    second_common  \n",
       "268         sismo  \n",
       "269       precios  \n",
       "270         sismo  "
      ]
     },
     "metadata": {},
     "output_type": "display_data"
    },
    {
     "data": {
      "text/plain": [
       "casos          889\n",
       "personas       654\n",
       "shared         627\n",
       "carabineros    562\n",
       "salud          460\n",
       "              ... \n",
       "phishing         1\n",
       "cadáver          1\n",
       "veredas          1\n",
       "críticos         1\n",
       "motel            1\n",
       "Name: most_common, Length: 4292, dtype: int64"
      ]
     },
     "metadata": {},
     "output_type": "display_data"
    },
    {
     "data": {
      "text/plain": [
       "personas                   514\n",
       "salud                      429\n",
       "años                       365\n",
       "casos                      346\n",
       "región                     310\n",
       "                          ... \n",
       "firmeza                      1\n",
       "subsecretario de redes       1\n",
       "condenados                   1\n",
       "cifra de hospitalizados      1\n",
       "caminos                      1\n",
       "Name: second_common, Length: 5812, dtype: int64"
      ]
     },
     "metadata": {},
     "output_type": "display_data"
    }
   ],
   "source": [
    "from collections import Counter\n",
    "df1[\"most_common\"] = \"\"\n",
    "df1[\"second_common\"] = \"\"\n",
    "\n",
    "for index, row in df1.iterrows():\n",
    "    split_it = row['terms'].split(\"; \")\n",
    "    counter = Counter(split_it)\n",
    "    row['most_common'] = counter.most_common()[0][0]\n",
    "    row['second_common'] = counter.most_common()[1][0]\n",
    "\n",
    "display(df1.head(3))\n",
    "#display(df1['most_common'].value_counts())\n",
    "#display(df1['second_common'].value_counts())\n"
   ]
  },
  {
   "cell_type": "code",
   "execution_count": 47,
   "id": "31890cfb",
   "metadata": {},
   "outputs": [],
   "source": [
    "df1.loc[df1['most_common'] == 'trump',                  'label'] = 0\n",
    "df1.loc[df1['most_common'] == 'putin',                  'label'] = 0\n",
    "df1.loc[df1['most_common'] == 'mundo',                  'label'] = 0\n",
    "\n",
    "df1.loc[df1['most_common'] == 'dólar',                  'label'] = 1\n",
    "df1.loc[df1['most_common'] == 'economía',               'label'] = 1\n",
    "\n",
    "df1.loc[df1['most_common'] == 'presidente',             'label'] = 2\n",
    "df1.loc[df1['most_common'] == 'ministro',               'label'] = 2\n",
    "df1.loc[df1['most_common'] == 'diputado',               'label'] = 2\n",
    "df1.loc[df1['most_common'] == 'diputados',              'label'] = 2\n",
    "df1.loc[df1['most_common'] == 'gobierno',               'label'] = 2\n",
    "df1.loc[df1['most_common'] == 'constitución',           'label'] = 2\n",
    "df1.loc[df1['most_common'] == 'senador',                'label'] = 2\n",
    "df1.loc[df1['most_common'] == 'convención',             'label'] = 2\n",
    "df1.loc[df1['most_common'] == 'servel',                 'label'] = 2\n",
    "\n",
    "df1.loc[df1['most_common'] == 'grammy',                 'label'] = 5\n",
    "\n",
    "df1.loc[df1['most_common'] == 'bosques',                'label'] = 7\n",
    "\n",
    "df1.loc[df1['most_common'] == 'violencia',              'label'] = 8\n",
    "df1.loc[df1['most_common'] == 'carabineros',            'label'] = 8\n",
    "df1.loc[df1['most_common'] == 'camioneros',             'label'] = 8\n",
    "df1.loc[df1['most_common'] == 'acusación',              'label'] = 8\n",
    "df1.loc[df1['most_common'] == 'fiscal',                 'label'] = 8\n",
    "df1.loc[df1['most_common'] == 'robo',                   'label'] = 8\n",
    "df1.loc[df1['most_common'] == 'ley',                    'label'] = 8\n",
    "df1.loc[df1['most_common'] == 'imputado',               'label'] = 8\n",
    "df1.loc[df1['most_common'] == 'homicidio',              'label'] = 8\n",
    "df1.loc[df1['most_common'] == 'droga',                  'label'] = 8\n",
    "df1.loc[df1['most_common'] == 'femicidio',              'label'] = 8\n",
    "\n",
    "df1.loc[df1['most_common'] == 'salud',                  'label'] = 9\n",
    "df1.loc[df1['most_common'] == 'dosis',                  'label'] = 9\n",
    "df1.loc[df1['most_common'] == 'vacuna',                 'label'] = 9\n",
    "df1.loc[df1['most_common'] == 'casos',                  'label'] = 9\n",
    "df1.loc[df1['most_common'] == 'cáncer',                 'label'] = 9\n",
    "\n",
    "df1.loc[df1['second_common'] == 'gobierno'              'label'] = 2\n",
    "df1.loc[df1['second_common'] == 'paro'                  'label'] = 2\n",
    "df1.loc[df1['second_common'] == 'salud'                 'label'] = 9\n",
    "\n",
    "# agregar mas...\n"
   ]
  },
  {
   "cell_type": "code",
   "execution_count": 55,
   "id": "23a88962",
   "metadata": {},
   "outputs": [
    {
     "data": {
      "text/plain": [
       "9.0    15221\n",
       "2.0    14140\n",
       "0.0    11417\n",
       "8.0    10700\n",
       "6.0     9609\n",
       "3.0     5689\n",
       "1.0     2134\n",
       "5.0      228\n",
       "7.0      175\n",
       "Name: label, dtype: int64"
      ]
     },
     "execution_count": 55,
     "metadata": {},
     "output_type": "execute_result"
    }
   ],
   "source": [
    "df = pd.concat([df,df1])\n",
    "df.drop(columns=['most_common','second_common','terms'], inplace=True)\n",
    "df.replace(\"\", np.nan, inplace=True)\n",
    "df.dropna(subset = [\"label\"], inplace=True)\n",
    "df['label'].value_counts()"
   ]
  },
  {
   "cell_type": "code",
   "execution_count": null,
   "id": "c6dff635",
   "metadata": {},
   "outputs": [],
   "source": [
    "df.to_csv(\"topics.csv\") # csv desbalanceado"
   ]
  },
  {
   "cell_type": "code",
   "execution_count": null,
   "id": "dc432bf3",
   "metadata": {},
   "outputs": [],
   "source": [
    "# TODO: Identificar subtópicos relacionados a los tópicos faltantes."
   ]
  },
  {
   "cell_type": "markdown",
   "id": "570dc573",
   "metadata": {},
   "source": [
    "### 4. Identificar subtópicos relacionados a los tópicos faltantes."
   ]
  },
  {
   "cell_type": "markdown",
   "id": "506cf087",
   "metadata": {},
   "source": [
    "Para obtener un dataset balanceado, falta identificar noticias de:\n",
    "* catástrofes y accidentes (4)\n",
    "* ecología y planeta (7)\n",
    "* cultura y arte (5)\n",
    "* economía (1)\n",
    "\n",
    "y para ello se realiza una búsqueda con las palabras claves dentro del contenido (columna content), por ejemplo la palabra temblor:"
   ]
  },
  {
   "cell_type": "code",
   "execution_count": 9,
   "id": "408b5c5e",
   "metadata": {},
   "outputs": [
    {
     "data": {
      "text/plain": [
       "268      Temblor de menor intensidad afecta nuevamente ...\n",
       "270      Sismos en el norte: Expertos aclaran que exist...\n",
       "276      \"Con mucho susto\": Alcalde de Huasco por segui...\n",
       "277      Shoa descarta tsunami en las costas de Chile t...\n",
       "278      Fuerte temblor de 6,3 grados afecta a la regió...\n",
       "280      Nuevo temblor se registra en Huasco Durante la...\n",
       "282      Temblor se registra en la región de Atacama Du...\n",
       "300      SHOA descarta riesgo de tsunami tras nuevo tem...\n",
       "301      Imágenes revelan el daño que provocaron los te...\n",
       "302      Seguidilla de réplicas afectan a Huasco durant...\n",
       "304      Onemi llama a la tranquilidad luego de los tem...\n",
       "305      Nuevo temblor se registra en la zona norte del...\n",
       "306      Revisa los videos de los temblores que afectar...\n",
       "307      Temblor magnitud 7.0 afectó a la zona norte de...\n",
       "491      Aumenta riesgo por Malaria debido al coronavir...\n",
       "852      Temblor afecta nuevamente a la Región de Ataca...\n",
       "853      De nube tóxica a fenómeno por temblor en el no...\n",
       "1379     Nuevo temblor se registra en Huasco Durante la...\n",
       "1384     Temblor afecta a la región de Atacama Durante ...\n",
       "1393     Nuevo temblor se registra en la región de Atac...\n",
       "2650     Sigue temblando en el norte de Chile: Dos sism...\n",
       "3537     Temblor afecta a la región de Coquimbo Durante...\n",
       "4648     Temblor afecta a la región de Antofagasta Dura...\n",
       "5248     Más de una decena de temblores se han registra...\n",
       "5252     Cámara registra desde altura cómo se vivió el ...\n",
       "5254     SHOA descarta riesgo de tsunami en las costas ...\n",
       "5255     Temblor 6.3 afecta a la zona norte del país La...\n",
       "5257     Temblor afecta a la Región de Coquimbo La madr...\n",
       "5371     \"No podía creer lo que veía\": Argentino revela...\n",
       "5675     Sismo de mediana intensidad se percibe en el n...\n",
       "6359     Temblor se registra en la región de Antofagast...\n",
       "8512     La orina puede alertar sobre la enfermedad de ...\n",
       "8673     Temblor de mediana magnitud se percibe en la z...\n",
       "9368     Temblor afecta a la región de Arica y Parinaco...\n",
       "9900     Temblor se registra en la zona norte del país ...\n",
       "10428    Temblor afecta a la región de Antofagasta Dura...\n",
       "13178    Temblor se registra en la zona central del paí...\n",
       "13693    SHOA descarta tsunami en costas de Chile tras ...\n",
       "1851     Shoa descarta tsunami en costas de Chile tras ...\n",
       "2436     SHOA descarta tsunami en Chile tras temblor ma...\n",
       "3603     SHOA descarta riesgo de tsunami en las costas ...\n",
       "4142     Temblor de 3.7 de magnitud afecta a la Región ...\n",
       "4145     Temblor 4.2 de magnitud afecta a la Región de ...\n",
       "4551     Temblor de leve intensidad se registra en la z...\n",
       "5093     Temblor de 4.6 de magnitud se percibió en la R...\n",
       "5536     Temblor de mediana magnitud se percibió en la ...\n",
       "5543     Temblor se registra en la zona norte del país ...\n",
       "6114     Temblor se registra en la zona central del paí...\n",
       "8425     Temblor afecta a la región de Coquimbo Durante...\n",
       "8468     Temblor 3.9 de magnitud afecta a la Región del...\n",
       "8988     Nuevo temblor afecta a la región de Tarapacá D...\n",
       "8992     Temblor afecta a la región de Tarapacá Durante...\n",
       "9571     Temblor se registra en la zona norte del país ...\n",
       "10135    Temblor se registra en la zona norte de Chile ...\n",
       "10138    Temblor afecta al extremo norte de Chile Duran...\n",
       "11461    Nuevos temblores afectan a la zona norte del p...\n",
       "11463    Temblor afecta a la región de Tarapacá Durante...\n",
       "12122    Los cuatros trastornos más comunes de la tiroi...\n",
       "12510    Temblor afecta a la región de Coquimbo La madr...\n",
       "13102    Temblor se registra en la zona centro sur del ...\n",
       "13105    Cámara registra el momento exacto en que comie...\n",
       "13256    \"A mirmir\": Revisa los memes que dejó el tembl...\n",
       "13669    Temblor se registra en la zona norte del país ...\n",
       "13693    SHOA descarta tsunami en Chile tras temblor ma...\n",
       "14253    SHOA descarta tsunami en Chile tras fuerte tem...\n",
       "14433    Khloé Kardashian ya no se oculta: Así celebra ...\n",
       "14682    Temblor de mediana magnitud se registra en el ...\n",
       "448      Temblor 6.0 de magnitud afecta a la región de ...\n",
       "1001     SHOA descarta tsunami en las costas de Chile t...\n",
       "1003     Temblor afecta a la región de Aysén Durante la...\n",
       "1023     Temblor se registra en la zona norte del país ...\n",
       "1164     Niña de cuatro años es rescatada con vida 91 h...\n",
       "2190     Temblor de magnitud 4.6 afecta a la región de ...\n",
       "4285     Temblor se registra en la región de Coquimbo L...\n",
       "4286     Temblor afecta a la región de Antofagasta Dura...\n",
       "4894     Temblor afecta a la región de Coquimbo Durante...\n",
       "6412     Temblor se registra en la región de Tarapacá L...\n",
       "6655     Temblor afecta a la región de Antofagasta Dura...\n",
       "6665     SHOA descarta riesgo de tsunami en las costas ...\n",
       "6667     Temblor de mediana magnitud se percibe en la z...\n",
       "7007     Temblor se registra en la zona sur del país Un...\n",
       "7013     Temblor 4.5 de magnitud afecta a la región de ...\n",
       "9564     Revisa los registros que dejó el temblor 5.6 e...\n",
       "9846     Temblor de mediana magnitud se percibe en la z...\n",
       "9848     Temblor de mediana intensidad se percibe en la...\n",
       "10195    Temblor de mediana magnitud se registra en la ...\n",
       "11248    Temblor de magnitud 4.4 afecta a la región de ...\n",
       "11253    Temblor de menor magnitud afecta al extremo su...\n",
       "11274    Temblor se registra en la zona centro sur del ...\n",
       "295      Temblor afecta a la región de Antofagasta La m...\n",
       "782      Temblor se registra en la zona norte del país ...\n",
       "2257     Temblor de mediana magnitud se registró en la ...\n",
       "2279     Temblores se perciben en la zona norte del paí...\n",
       "2896     Temblor se siente en la zona central del país ...\n",
       "2897     Temblor afecta al extremo norte de Chile Duran...\n",
       "3283     Temblor de mediana intensidad se registra en l...\n",
       "4700     Temblor afecta al extremo norte de Chile Duran...\n",
       "5104     Temblor se registra en la zona central del paí...\n",
       "5105     Temblor se percibe en la Región de Tarapacá La...\n",
       "5317     Temblor se percibe en el norte del país Un tem...\n",
       "5652     Temblor se registra en la zona norte del país ...\n",
       "6163     Temblor afecta a la región de Antofagasta La m...\n",
       "6634     Temblor se registra en la región de Coquimbo D...\n",
       "6656     Temblor afecta a la región de Valparaíso En la...\n",
       "7551     Temblor afecta a la región de Valparaíso La ma...\n",
       "7877     Temblor de magnitud 5,2 se registró en la zona...\n",
       "7885     SHOA descarta riesgo de tsunami en las costas ...\n",
       "8478     Temblor de magnitud 4.2 afecta a la Región Met...\n",
       "8988     Temblor se registra en la zona central del paí...\n",
       "8993     Temblor afecta a la región de Valparaíso La ma...\n",
       "9991     Temblor de mediana magnitud se percibe en la z...\n",
       "10323    Temblor de mediana intensidad se registra en e...\n",
       "10542    Continúa seguidilla de temblores en la Región ...\n",
       "10763    Réplicas afectan a la zona sur de Chile tras f...\n",
       "10764    Revisa los videos del fuerte sismo que se prod...\n",
       "10766    Fuerte temblor se registra en la zona sur de C...\n",
       "10770    Temblor de mediana magnitud se registró en la ...\n",
       "10779    Temblor de mediana magnitud se registró en la ...\n",
       "11059    Nuevo temblor afecta al país: Epicentro ahora ...\n",
       "11060    Temblor afecta a la región de Los Ríos La madr...\n",
       "11349    Temblor afecta a la región de La Araucanía Dur...\n",
       "11353    Temblor se registra en la zona central del paí...\n",
       "11367    SHOA descarta tsunami para Chile tras sismo 6....\n",
       "11374    Temblor afecta a la región de Arica y Parinaco...\n",
       "12       Temblor de mediana magnitud se registró en el ...\n",
       "793      Temblor afecta a la región de Coquimbo Durante...\n",
       "795      Temblor se registra en la región de Valparaíso...\n",
       "1122     Temblor se registra en la zona norte del país ...\n",
       "1488     Temblor afecta a la región de Coquimbo La madr...\n",
       "2034     Temblor afecta a la zona sur del país Durante ...\n",
       "2385     Onemi reporta temblor de magnitud 5.3° en las ...\n",
       "2393     Temblor de mediana intensidad de percibe en la...\n",
       "2395     Temblor se registra en la zona norte del país ...\n",
       "2953     Temblor afecta a la zona norte del país La mad...\n",
       "3540     Temblor afecta a la región de Antofagasta En l...\n",
       "3688     Usuarios tras temblor en la zona centro norte ...\n",
       "4219     Temblor afecta a la región de Antofagasta Dura...\n",
       "4714     Fuerte temblor afecta a la zona central del pa...\n",
       "4930     Fuerte temblor afecta a la zona central del pa...\n",
       "4939     Temblor afecta a la región de Coquimbo Durante...\n",
       "4940     Aumento de temblores en Chile: Año 2020 tuvo u...\n",
       "4968     Temblor afecta a la región de Coquimbo La madr...\n",
       "5107     SHOA descarta tsunami en las costas de Chile t...\n",
       "5108     Captan momento exacto en que comienza fuerte t...\n",
       "5311     SHOA descarta tsunami en las costas de Chile t...\n",
       "5800     Temblor afecta a la zona norte de Chile Durant...\n",
       "5813     SHOA descarta tsunami en Chile tras temblor 7....\n",
       "6896     Temblor de mediana magnitud se registró en la ...\n",
       "7083     \"Lo decretaste\": Vale Ortega 'vaticinó' que te...\n",
       "7251     Temblor de mediana magnitud afecta a la región...\n",
       "25       Derrumbes y mercadería destruida: los daños en...\n",
       "28       Videos revelan magnitud de fuerte temblor en e...\n",
       "3327     SHOA descarta que sismo 6,7 de Papúa Nueva Gui...\n",
       "5845     Sismo se registra en la zona central del país ...\n",
       "12812    SHOA descarta tsunami tras fuerte sismo en la ...\n",
       "12813    Nuevo sismo se registra en la zona norte y cen...\n",
       "12829    Sismo se percibe en la zona central del país D...\n",
       "8271     Temblor se registra en la zona central Durante...\n",
       "318      Nuevo sismo se registró en el norte del país: ...\n",
       "337      Sismo de 7,0 grados y serie de réplicas alerta...\n",
       "906      Director de Onemi llama a habitantes de Atacam...\n",
       "7013     Terremoto de Aysén de 2007, fallas corticales ...\n",
       "13119    Sismo de mediana intensidad se registró en el ...\n",
       "13129    Sismo de mediana intensidad se registra en zon...\n",
       "13762    La Nasa publica los sonidos más siniestros de ...\n",
       "13783    Paul Auster, Siri Hustvedt y Salman Rushdie li...\n",
       "14336    ¿Por qué el terremoto magnitud 7 en Turquía fu...\n",
       "1055     Sismo se registra en zona austral de Chile Un ...\n",
       "9580     Sismo “de mediana intensidad” se percibe en la...\n",
       "10347    WandaVision explorará el origen de los poderes...\n",
       "11864    Siri Hustvedt, escritora: “El populismo que al...\n",
       "13308    Sismo de 6,3 grados se registra en tres region...\n",
       "2982     10 señales que podrían decirte que la persona ...\n",
       "3298     Sismo de 5,2 grados se registra en zona centro...\n",
       "5371     Científicos ya entienden por qué los niños se ...\n",
       "6189     Indagan responsabilidades por grúa que se desp...\n",
       "5132     Fuerte sismo en Argentina es percibido en seis...\n",
       "6736     ¿Hubo algún vínculo entre los temblores de la ...\n",
       "7001     ¿Qué está pasando en la Antártica? Sismo Mw 7....\n",
       "7357     Estudio en 236 mil personas: Uno de ocho sobre...\n",
       "102      Más de 30 sismos se han registrado tras el 7.0...\n",
       "1212     Seguidilla de temblores se registran cerca de ...\n",
       "7240     Sismo de mediana magnitud se percibe en la reg...\n",
       "11854    Volcán Villarrica registra dos pulsos eruptivo...\n",
       "5054     Un sismo de 5,3 grados de magnitud sacudió al ...\n",
       "9415     Sismo de mediana magnitud se percibió esta mañ...\n",
       "11236    Sismo de mediana magnitud se registra en la re...\n",
       "14647    Madre es condenada a tres años de cárcel por a...\n",
       "774      Sismo de mediana magnitud se percibe en zona s...\n",
       "924      Así se recupera la niña que fue rescatada tras...\n",
       "3357     Sismo de menor intensidad se percibe en la Reg...\n",
       "5770     Sismo de ligera magnitud se percibe en región ...\n",
       "5832     La Moneda busca superar los \"temblores grado s...\n",
       "9436     Así se sintió el fuerte sismo que sacudió al p...\n",
       "13064    Sismo de fuerte magnitud se percibió en las re...\n",
       "2468     Sismo de fuerte magnitud sacude al norte de Ch...\n",
       "7809     Sismo de ligera magnitud se percibió en la reg...\n",
       "8047     Sismo de mediana magnitud sacude zona norte de...\n",
       "10946    Pánico y edificios dañados: sismo de magnitud ...\n",
       "14267    Terremoto en Grecia y Turquía: al menos 12 mue...\n",
       "1030     Rescatan a niña de cuatro años tras el sismo e...\n",
       "5413     Gobierno inicia misión de limar asperezas con ...\n",
       "6681     Registran temblor entre regiones de Coquimbo y...\n",
       "6722     Registran temblor entre regiones de Coquimbo y...\n",
       "520      Nuevo sismo de mediana intensidad se percibe e...\n",
       "543      Más de 40 réplicas se han registrado durante l...\n",
       "545      Onemi y réplicas tras sismo de magnitud 7 en A...\n",
       "2488     Sismo de mediana intensidad se percibe en la z...\n",
       "11640    Sismo de mediana intensidad se registra en la ...\n",
       "13315    Sismo de magnitud 5,8 se registró en el Norte ...\n",
       "5687     Ministro Monckeberg y relación con Chile Vamos...\n",
       "6245     Dos proyectos distintos, el mismo efecto polít...\n",
       "10842    Zona sur del país registra seguidilla de répli...\n",
       "10846    Sismo de magnitud 6,7 se percibe en las region...\n",
       "10856    Sismo de magnitud 5,2  se registró en la zona ...\n",
       "4970     Sismo con epicentro en Argentina se percibe en...\n",
       "6616     Director de Sismología: \"Sismos de la Antártic...\n",
       "6617     Sismo de mediana intensidad se percibe en la z...\n",
       "6801     Onemi defiende sistema de alerta temprana tras...\n",
       "6818     Mensajes por sismo: Delgado exige \"respuestas ...\n",
       "6819     Nuevo sismo en la Antártica: Fue magnitud 5,3 ...\n",
       "6829     Error en mensajes de alerta generó evacuacione...\n",
       "6830     Onemi insiste en que envío de mensajes fue un ...\n",
       "1229     Reportan cuatro sismos cerca de islas de Ocean...\n",
       "554      Sismo de magnitud 5,1 se percibe en regiones d...\n",
       "1654     El rechazo a la violencia contra personas de o...\n",
       "1655     Sismo de 7,2 en Japón activó alerta de tsunami...\n",
       "920      Subtel oficia a compañía de telecomunicaciones...\n",
       "1391     Sismología afirma que seguidilla de temblores ...\n",
       "1409     Sismo de magnitud 5,1 se registró en el centro...\n",
       "1418     Dos sismos de mediana intensidad se perciben e...\n",
       "1566     Sismo de magnitud 5,3 se registra en la zona c...\n",
       "Name: content, dtype: object"
      ]
     },
     "execution_count": 9,
     "metadata": {},
     "output_type": "execute_result"
    }
   ],
   "source": [
    "df2=df1\n",
    "df2[df2['content'].str.contains(\"(?i)temblor\")]['content']"
   ]
  },
  {
   "cell_type": "code",
   "execution_count": null,
   "id": "5b0d6b08",
   "metadata": {},
   "outputs": [],
   "source": [
    "df2.loc[df2['content'].str.contains(\"(?i)temblor|erupción|incendio|catástrofe|accidente|herido|muerte|muerto\"), 'label'] = 4\n",
    "df2.loc[df2['content'].str.contains(\"(?i)ecología|planeta|contaminación|atmósfera|eclipse|tierra|reciclaje|vegetación|paisaje\"), 'label'] = 7\n",
    "df2.loc[df2['content'].str.contains(\"(?i)cultura|pintura|museo\"), 'label'] = 5 #arte no por que toma otras palabras como valuarte, etc\n",
    "df2.loc[df2['content'].str.contains(\"(?i)economía|bolsa|dinero\"), 'label'] = 1 "
   ]
  },
  {
   "cell_type": "code",
   "execution_count": 15,
   "id": "aaa56557",
   "metadata": {},
   "outputs": [
    {
     "data": {
      "text/plain": [
       "     22780\n",
       "4     5237\n",
       "1     2780\n",
       "7     1920\n",
       "5     1598\n",
       "Name: label, dtype: int64"
      ]
     },
     "execution_count": 15,
     "metadata": {},
     "output_type": "execute_result"
    }
   ],
   "source": [
    "df2.dropna(subset = [\"label\"], inplace=True)\n",
    "df2['label'].value_counts()"
   ]
  },
  {
   "cell_type": "code",
   "execution_count": 49,
   "id": "1a5a634a",
   "metadata": {},
   "outputs": [
    {
     "ename": "AttributeError",
     "evalue": "'Series' object has no attribute 'len'",
     "output_type": "error",
     "traceback": [
      "\u001b[0;31m---------------------------------------------------------------------------\u001b[0m",
      "\u001b[0;31mAttributeError\u001b[0m                            Traceback (most recent call last)",
      "\u001b[0;32m/tmp/ipykernel_3627/692171050.py\u001b[0m in \u001b[0;36m<module>\u001b[0;34m\u001b[0m\n\u001b[0;32m----> 1\u001b[0;31m \u001b[0mdf2\u001b[0m\u001b[0;34m[\u001b[0m\u001b[0;34m'content'\u001b[0m\u001b[0;34m]\u001b[0m\u001b[0;34m.\u001b[0m\u001b[0mlen\u001b[0m\u001b[0;34m(\u001b[0m\u001b[0;34m)\u001b[0m\u001b[0;34m\u001b[0m\u001b[0;34m\u001b[0m\u001b[0m\n\u001b[0m",
      "\u001b[0;32m~/miniconda3/lib/python3.9/site-packages/pandas/core/generic.py\u001b[0m in \u001b[0;36m__getattr__\u001b[0;34m(self, name)\u001b[0m\n\u001b[1;32m   5485\u001b[0m         ):\n\u001b[1;32m   5486\u001b[0m             \u001b[0;32mreturn\u001b[0m \u001b[0mself\u001b[0m\u001b[0;34m[\u001b[0m\u001b[0mname\u001b[0m\u001b[0;34m]\u001b[0m\u001b[0;34m\u001b[0m\u001b[0;34m\u001b[0m\u001b[0m\n\u001b[0;32m-> 5487\u001b[0;31m         \u001b[0;32mreturn\u001b[0m \u001b[0mobject\u001b[0m\u001b[0;34m.\u001b[0m\u001b[0m__getattribute__\u001b[0m\u001b[0;34m(\u001b[0m\u001b[0mself\u001b[0m\u001b[0;34m,\u001b[0m \u001b[0mname\u001b[0m\u001b[0;34m)\u001b[0m\u001b[0;34m\u001b[0m\u001b[0;34m\u001b[0m\u001b[0m\n\u001b[0m\u001b[1;32m   5488\u001b[0m \u001b[0;34m\u001b[0m\u001b[0m\n\u001b[1;32m   5489\u001b[0m     \u001b[0;32mdef\u001b[0m \u001b[0m__setattr__\u001b[0m\u001b[0;34m(\u001b[0m\u001b[0mself\u001b[0m\u001b[0;34m,\u001b[0m \u001b[0mname\u001b[0m\u001b[0;34m:\u001b[0m \u001b[0mstr\u001b[0m\u001b[0;34m,\u001b[0m \u001b[0mvalue\u001b[0m\u001b[0;34m)\u001b[0m \u001b[0;34m->\u001b[0m \u001b[0;32mNone\u001b[0m\u001b[0;34m:\u001b[0m\u001b[0;34m\u001b[0m\u001b[0;34m\u001b[0m\u001b[0m\n",
      "\u001b[0;31mAttributeError\u001b[0m: 'Series' object has no attribute 'len'"
     ]
    }
   ],
   "source": [
    "df2[true,"
   ]
  },
  {
   "cell_type": "code",
   "execution_count": null,
   "id": "bb9d93da",
   "metadata": {},
   "outputs": [],
   "source": []
  }
 ],
 "metadata": {
  "kernelspec": {
   "display_name": "Python 3 (ipykernel)",
   "language": "python",
   "name": "python3"
  },
  "language_info": {
   "codemirror_mode": {
    "name": "ipython",
    "version": 3
   },
   "file_extension": ".py",
   "mimetype": "text/x-python",
   "name": "python",
   "nbconvert_exporter": "python",
   "pygments_lexer": "ipython3",
   "version": "3.9.5"
  }
 },
 "nbformat": 4,
 "nbformat_minor": 5
}

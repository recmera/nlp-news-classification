{
 "cells": [
  {
   "cell_type": "markdown",
   "id": "5d5830a5",
   "metadata": {
    "id": "5d5830a5"
   },
   "source": [
    "# TAL aplicado al análisis del discurso de los medios de prensa 📰🤓🔥\n",
    "\n",
    "El dataset se clasificará en función de las siguientes etiquetas:\n",
    "- mundo = 0 \n",
    "- economía = 1 \n",
    "- política y conflictos = 2 \n",
    "- ciencia y tecnología = 3\n",
    "- catástrofes y accidentes = 4 \n",
    "- cultura y arte = 5 \n",
    "- deporte = 6 \n",
    "- ecología y planeta = 7\n",
    "- crimen, delitos y justicia = 8 \n",
    "- salud = 9\n",
    "\n",
    "### Cronograma\n",
    "\n",
    "- Hito Unidad 2 (27 de octubre): Implementación y experimentos de varios modelos de clasificación\n",
    "\n",
    "- Hito Proyecto (15 de diciembre): Evaluación y comparación de los modelos de los distintos equipos + integración de los mejores modelos en la arquitectura Sophia2.\n"
   ]
  },
  {
   "cell_type": "code",
   "execution_count": 1,
   "id": "a0867b56",
   "metadata": {
    "id": "a0867b56"
   },
   "outputs": [],
   "source": [
    "import warnings\n",
    "warnings.filterwarnings('ignore')\n",
    "\n",
    "# Data manipulation\n",
    "import re\n",
    "import pandas as pd\n",
    "import numpy as np\n",
    "from sklearn.model_selection import train_test_split\n",
    "import matplotlib.pyplot as plt"
   ]
  },
  {
   "cell_type": "code",
   "execution_count": 2,
   "id": "11a71733",
   "metadata": {
    "colab": {
     "base_uri": "https://localhost:8080/",
     "height": 711
    },
    "id": "11a71733",
    "outputId": "ccbe91d1-0c2c-4960-97bf-69a592ae0d88"
   },
   "outputs": [
    {
     "data": {
      "text/plain": [
       "economía                      2060\n",
       "ciencia y tecnología          2060\n",
       "política y conflictos         2060\n",
       "crimen, delitos y justicia    2060\n",
       "deporte                       2060\n",
       "mundo                         2060\n",
       "ecología y planeta            2060\n",
       "catástrofes y accidentes      2060\n",
       "cultura y arte                2020\n",
       "salud                         1928\n",
       "Name: label, dtype: int64"
      ]
     },
     "execution_count": 2,
     "metadata": {},
     "output_type": "execute_result"
    }
   ],
   "source": [
    "df = pd.read_csv(\"dataEtiquetada.csv\")\n",
    "df['label'].value_counts()"
   ]
  },
  {
   "cell_type": "code",
   "execution_count": 3,
   "id": "e5ba7885",
   "metadata": {
    "id": "e5ba7885"
   },
   "outputs": [],
   "source": [
    "X_train, X_test, y_train, y_test = train_test_split(df['text'], df['label'], test_size=0.5)"
   ]
  },
  {
   "cell_type": "markdown",
   "id": "675de772",
   "metadata": {
    "id": "675de772"
   },
   "source": [
    "#### Preprocesamiento y representación vectorial"
   ]
  },
  {
   "cell_type": "code",
   "execution_count": 32,
   "id": "bebe97da",
   "metadata": {
    "colab": {
     "base_uri": "https://localhost:8080/"
    },
    "id": "bebe97da",
    "outputId": "c71f0626-f00e-44b4-a6de-24f771366efb"
   },
   "outputs": [
    {
     "name": "stdout",
     "output_type": "stream",
     "text": [
      "3.2.0\n"
     ]
    }
   ],
   "source": [
    "import spacy\n",
    "spacy.prefer_gpu()\n",
    "nlp = spacy.load(\"es_core_news_sm\")\n",
    "print(spacy.__version__)\n",
    "import string\n",
    "from spacy.lang.es.stop_words import STOP_WORDS\n",
    "from spacy.lang.es import Spanish\n",
    "from sklearn.model_selection import train_test_split\n",
    "from sklearn.feature_extraction.text import CountVectorizer,TfidfVectorizer\n",
    "from sklearn.base import TransformerMixin\n",
    "from sklearn.pipeline import Pipeline\n",
    "from sklearn import metrics\n",
    "from sklearn.linear_model import LogisticRegression # Regresion Logística\n",
    "\n",
    "# Create our list of punctuation marks\n",
    "punctuations = [\".\",\",\",\"!\",\"?\", \"#\",\"&\",\"(\",\"-\",\">\",\"<\",\")\",\"'\",\"¡\",\"...\",\"¿\", \"/\" ,'\"', '”', '“']\n",
    "\n",
    "# Create our list of stopwords\n",
    "stop_words= spacy.lang.es.stop_words.STOP_WORDS\n",
    "\n",
    "# Load English tokenizer, tagger, parser, NER and word vectors\n",
    "parser = Spanish()\n",
    "\n",
    "# Creating our tokenizer function\n",
    "def spacy_tokenizer(sentence):\n",
    "    # Creating our token object, which is used to create documents with linguistic annotations.\n",
    "    mytokens = parser(sentence)\n",
    "\n",
    "    # Lemmatizing each token and converting each token into lowercase\n",
    "    mytokens = [word.lower_ for word in mytokens]\n",
    "        \n",
    "    # Removing stop words\n",
    "    mytokens = [ word for word in mytokens if word not in stop_words and word not in punctuations]\n",
    "\n",
    "    # return preprocessed list of tokens\n",
    "    return mytokens\n",
    "  "
   ]
  },
  {
   "cell_type": "code",
   "execution_count": 33,
   "id": "f38005ba",
   "metadata": {
    "colab": {
     "base_uri": "https://localhost:8080/"
    },
    "id": "f38005ba",
    "outputId": "1a775b91-2886-43a6-c0b2-05c3112bf67a"
   },
   "outputs": [
    {
     "data": {
      "text/plain": [
       "CountVectorizer(tokenizer=<function spacy_tokenizer at 0x7f55c1851a60>)"
      ]
     },
     "execution_count": 33,
     "metadata": {},
     "output_type": "execute_result"
    }
   ],
   "source": [
    "bow_vector = CountVectorizer(tokenizer = spacy_tokenizer, ngram_range=(1,1))\n",
    "bow_vector"
   ]
  },
  {
   "cell_type": "code",
   "execution_count": 34,
   "id": "68ca5b69",
   "metadata": {
    "id": "68ca5b69"
   },
   "outputs": [],
   "source": [
    "tfidf_vector = TfidfVectorizer(tokenizer = spacy_tokenizer, ngram_range=(1,1))"
   ]
  },
  {
   "cell_type": "markdown",
   "id": "e1da280d",
   "metadata": {
    "id": "e1da280d"
   },
   "source": [
    "#### entrenamiento del modelo de clasificación"
   ]
  },
  {
   "cell_type": "code",
   "execution_count": 35,
   "id": "7c76b017",
   "metadata": {
    "colab": {
     "base_uri": "https://localhost:8080/"
    },
    "id": "7c76b017",
    "outputId": "8c73e553-14e7-4d7d-bfdd-ff85c73e3217"
   },
   "outputs": [
    {
     "data": {
      "text/plain": [
       "Pipeline(steps=[('preprocessing',\n",
       "                 CountVectorizer(tokenizer=<function spacy_tokenizer at 0x7f55c1851a60>)),\n",
       "                ('regression-ML', LogisticRegression())])"
      ]
     },
     "execution_count": 35,
     "metadata": {},
     "output_type": "execute_result"
    }
   ],
   "source": [
    "# Logistic Regression Classifier\n",
    "modelLR = LogisticRegression()\n",
    "\n",
    "# Create pipeline using Bag of Words\n",
    "model1 = Pipeline([('preprocessing', bow_vector),\n",
    "                ('regression-ML', modelLR)])\n",
    "# model generation\n",
    "model1.fit(X_train,y_train)"
   ]
  },
  {
   "cell_type": "code",
   "execution_count": 36,
   "id": "3d3f665d",
   "metadata": {
    "colab": {
     "base_uri": "https://localhost:8080/"
    },
    "id": "3d3f665d",
    "outputId": "51950ec5-bf3d-47ca-b19d-d7fe4a3afc12"
   },
   "outputs": [
    {
     "data": {
      "text/plain": [
       "Pipeline(steps=[('preprocessing',\n",
       "                 TfidfVectorizer(tokenizer=<function spacy_tokenizer at 0x7f55c1851a60>)),\n",
       "                ('regression-ML', LogisticRegression())])"
      ]
     },
     "execution_count": 36,
     "metadata": {},
     "output_type": "execute_result"
    }
   ],
   "source": [
    "# Logistic Regression Classifier\n",
    "modelLR = LogisticRegression()\n",
    "\n",
    "model2 = Pipeline([('preprocessing', tfidf_vector),\n",
    "                 ('regression-ML', modelLR)])\n",
    "\n",
    "# model generation\n",
    "model2.fit(X_train,y_train)"
   ]
  },
  {
   "cell_type": "markdown",
   "id": "cfff3ba5",
   "metadata": {
    "id": "cfff3ba5"
   },
   "source": [
    "#### Evaluación del modelo de clasificación"
   ]
  },
  {
   "cell_type": "code",
   "execution_count": 37,
   "id": "8fc1072d",
   "metadata": {
    "colab": {
     "base_uri": "https://localhost:8080/"
    },
    "id": "8fc1072d",
    "outputId": "366ea14a-ad82-4228-9468-128d9613a083"
   },
   "outputs": [
    {
     "name": "stdout",
     "output_type": "stream",
     "text": [
      "['crimen, delitos y justicia' 'salud' 'deporte' ... 'deporte'\n",
      " 'cultura y arte' 'ciencia y tecnología']\n",
      "Logistic Regression Accuracy: 0.9278441355002938\n",
      "Logistic Regression Precision: 0.9278441355002938\n",
      "Logistic Regression Recall: 0.9278441355002938\n"
     ]
    }
   ],
   "source": [
    "# Predicting with a test dataset\n",
    "predicted1 = model1.predict(X_test)\n",
    "print(predicted1)\n",
    "\n",
    "# Model Accuracy\n",
    "print(\"Logistic Regression Accuracy:\",metrics.accuracy_score(y_test, predicted1))\n",
    "print(\"Logistic Regression Precision:\",metrics.precision_score(y_test, predicted1, average='micro'))\n",
    "print(\"Logistic Regression Recall:\",metrics.recall_score(y_test, predicted1, average='micro'))"
   ]
  },
  {
   "cell_type": "code",
   "execution_count": 38,
   "id": "1RA5fTUp7gYJ",
   "metadata": {
    "colab": {
     "base_uri": "https://localhost:8080/"
    },
    "id": "1RA5fTUp7gYJ",
    "outputId": "d96061d7-1cb2-43c4-de1a-0bc82b6373ab"
   },
   "outputs": [
    {
     "name": "stdout",
     "output_type": "stream",
     "text": [
      "['crimen, delitos y justicia' 'salud' 'deporte' ... 'deporte'\n",
      " 'cultura y arte' 'ciencia y tecnología']\n",
      "Logistic Regression Accuracy: 0.9009203054630899\n",
      "Logistic Regression Precision: 0.9009203054630899\n",
      "Logistic Regression Recall: 0.9009203054630899\n"
     ]
    }
   ],
   "source": [
    "# Predicting with a test dataset\n",
    "predicted2 = model2.predict(X_test)\n",
    "print(predicted2)\n",
    "\n",
    "# Model Accuracy\n",
    "print(\"Logistic Regression Accuracy:\",metrics.accuracy_score(y_test, predicted2))\n",
    "print(\"Logistic Regression Precision:\",metrics.precision_score(y_test, predicted2, average='micro'))\n",
    "print(\"Logistic Regression Recall:\",metrics.recall_score(y_test, predicted2, average='micro'))"
   ]
  },
  {
   "cell_type": "code",
   "execution_count": 39,
   "id": "f5592d4c",
   "metadata": {
    "colab": {
     "base_uri": "https://localhost:8080/"
    },
    "id": "f5592d4c",
    "outputId": "e7450157-ef96-4567-cd31-9393409abc42"
   },
   "outputs": [
    {
     "data": {
      "image/png": "[encoded data removed]",
      "text/plain": [
       "<Figure size 504x504 with 1 Axes>"
      ]
     },
     "metadata": {
      "needs_background": "light"
     },
     "output_type": "display_data"
    },
    {
     "name": "stdout",
     "output_type": "stream",
     "text": [
      "                            precision    recall  f1-score   support\n",
      "\n",
      "  catástrofes y accidentes      0.950     0.953     0.951      1048\n",
      "      ciencia y tecnología      0.881     0.963     0.920       996\n",
      "crimen, delitos y justicia      0.911     0.900     0.906      1024\n",
      "            cultura y arte      0.951     0.971     0.961       984\n",
      "                   deporte      0.986     0.980     0.983      1044\n",
      "        ecología y planeta      0.951     0.936     0.944      1022\n",
      "                  economía      0.919     0.915     0.917      1033\n",
      "                     mundo      0.886     0.871     0.878      1045\n",
      "     política y conflictos      0.952     0.912     0.932      1061\n",
      "                     salud      0.892     0.877     0.884       957\n",
      "\n",
      "                  accuracy                          0.928     10214\n",
      "                 macro avg      0.928     0.928     0.928     10214\n",
      "              weighted avg      0.928     0.928     0.928     10214\n",
      "\n"
     ]
    }
   ],
   "source": [
    "from sklearn.metrics import confusion_matrix, classification_report\n",
    "\n",
    "def plot_confusion_matrix(cm, labels, cmap=plt.cm.Blues):\n",
    "    fig, ax = plt.subplots(figsize=(7, 7), tight_layout=True)\n",
    "    ax.imshow(cm, interpolation='nearest', cmap=cmap)\n",
    "    for i in range(cm.shape[1]):\n",
    "        for j in range(cm.shape[0]):\n",
    "            ax.text(j, i, \"{:,}\".format(cm[i, j]), \n",
    "                    horizontalalignment=\"center\", verticalalignment=\"center\",\n",
    "                    color=\"white\" if cm[i, j] > np.amax(cm)/2 else \"black\")\n",
    "    ax.set_title(\"Matriz de confusión\")\n",
    "    tick_marks = np.arange(len(labels))\n",
    "    plt.xticks(tick_marks, labels, rotation='vertical')\n",
    "    plt.yticks(tick_marks, labels)\n",
    "    plt.ylabel('Etiqueta real')\n",
    "    plt.xlabel('Predicción')\n",
    "    plt.show()\n",
    "\n",
    "cm = confusion_matrix(y_true=y_test, y_pred=predicted1)\n",
    "plot_confusion_matrix(cm, labels=list(df['label'].unique()))\n",
    "print(classification_report(y_test, predicted1, digits=3))"
   ]
  },
  {
   "cell_type": "code",
   "execution_count": 40,
   "id": "dc8d1762",
   "metadata": {
    "id": "dc8d1762"
   },
   "outputs": [],
   "source": [
    "def printNMostInformative(vectorizer, model, N):\n",
    "    feature_names = vectorizer.get_feature_names()\n",
    "    coefs_with_fns = sorted(zip(model.coef_[0], feature_names))\n",
    "    topClass1 = coefs_with_fns[:N]\n",
    "    topClass2 = coefs_with_fns[:-(N + 1):-1]\n",
    "    print(\"Class 1 best: \")\n",
    "    for feat in topClass1:\n",
    "        print(feat)\n",
    "    print(\"Class 2 best: \")\n",
    "    for feat in topClass2:\n",
    "        print(feat)"
   ]
  },
  {
   "cell_type": "code",
   "execution_count": 41,
   "id": "de085e8b",
   "metadata": {
    "colab": {
     "base_uri": "https://localhost:8080/"
    },
    "id": "de085e8b",
    "outputId": "9d2da58b-4863-4d41-9744-3e908295bbb0"
   },
   "outputs": [
    {
     "name": "stdout",
     "output_type": "stream",
     "text": [
      "Class 1 best: \n",
      "(-2.470446490013856, 'y')\n",
      "(-0.9224606712779984, 'casos')\n",
      "(-0.899920180775196, 'mundo')\n",
      "(-0.8790459752486831, 'eclipse')\n",
      "(-0.8627131558724607, 'salud')\n",
      "(-0.8065530193428556, 'ataque')\n",
      "(-0.7986498186026285, 'covid-19')\n",
      "(-0.7617137303804198, 'vacuna')\n",
      "(-0.7341638992590022, 'animales')\n",
      "(-0.7275241818717901, 'coronavirus')\n",
      "(-0.722424370637068, 'países')\n",
      "(-0.7170305290134311, 'partido')\n",
      "(-0.7130990334846915, 'unidos')\n",
      "(-0.7074444410883198, 'trabajadores')\n",
      "(-0.6913939914039012, 'grupo')\n",
      "(-0.6830131740585045, 'país')\n",
      "(-0.658119919634787, 'a')\n",
      "(-0.650575612916115, 'agua')\n",
      "(-0.6334274451292917, 'virus')\n",
      "(-0.6256327101352808, 'tierra')\n",
      "Class 2 best: \n",
      "(7.889131569527885, 'incendio')\n",
      "(5.637885398751756, 'accidente')\n",
      "(4.813336924077538, 'bomberos')\n",
      "(3.7063929330463017, 'tránsito')\n",
      "(3.014906047806828, 'catástrofe')\n",
      "(2.8824685759713735, 'siniestro')\n",
      "(2.8512932667638218, 'incendios')\n",
      "(2.8413710406233963, 'sismo')\n",
      "(2.3267526384839927, 'magnitud')\n",
      "(2.2910579466389147, 'accidentes')\n",
      "(2.25384250309911, 'onemi')\n",
      "(2.25073366575957, 'llamas')\n",
      "(2.2434660318720505, 'emergencia')\n",
      "(2.165910643608426, 'fuego')\n",
      "(2.137386964832754, 'conaf')\n",
      "(1.9414655324696384, 'temblor')\n",
      "(1.9196084974933552, 'región')\n",
      "(1.9036192603846231, 'kilómetros')\n",
      "(1.8108825873123775, 'km')\n",
      "(1.7879458394184853, 'forestales')\n"
     ]
    }
   ],
   "source": [
    "printNMostInformative(bow_vector, modelLR, 20)"
   ]
  },
  {
   "cell_type": "code",
   "execution_count": null,
   "id": "3199656a",
   "metadata": {},
   "outputs": [],
   "source": []
  }
 ],
 "metadata": {
  "colab": {
   "name": "2-implementation.ipynb",
   "provenance": []
  },
  "kernelspec": {
   "display_name": "Python 3 (ipykernel)",
   "language": "python",
   "name": "python3"
  },
  "language_info": {
   "codemirror_mode": {
    "name": "ipython",
    "version": 3
   },
   "file_extension": ".py",
   "mimetype": "text/x-python",
   "name": "python",
   "nbconvert_exporter": "python",
   "pygments_lexer": "ipython3",
   "version": "3.8.10"
  }
 },
 "nbformat": 4,
 "nbformat_minor": 5
}

{
 "cells": [
  {
   "cell_type": "markdown",
   "id": "5d5830a5",
   "metadata": {
    "id": "5d5830a5"
   },
   "source": [
    "# TAL aplicado al análisis del discurso de los medios de prensa 📰🤓🔥\n",
    "\n",
    "El dataset se clasificará en función de las siguientes etiquetas:\n",
    "- mundo = 0 \n",
    "- economía = 1 \n",
    "- política y conflictos = 2 \n",
    "- ciencia y tecnología = 3\n",
    "- catástrofes y accidentes = 4 \n",
    "- cultura y arte = 5 \n",
    "- deporte = 6 \n",
    "- ecología y planeta = 7\n",
    "- crimen, delitos y justicia = 8 \n",
    "- salud = 9\n",
    "\n",
    "### Cronograma\n",
    "\n",
    "- Hito Unidad 2 (27 de octubre): Implementación y experimentos de varios modelos de clasificación\n",
    "\n",
    "- Hito Proyecto (15 de diciembre): Evaluación y comparación de los modelos de los distintos equipos + integración de los mejores modelos en la arquitectura Sophia2.\n"
   ]
  },
  {
   "cell_type": "code",
   "execution_count": 1,
   "id": "a0867b56",
   "metadata": {
    "id": "a0867b56"
   },
   "outputs": [],
   "source": [
    "import warnings\n",
    "warnings.filterwarnings('ignore')\n",
    "\n",
    "# Data manipulation\n",
    "import re\n",
    "import pandas as pd\n",
    "import numpy as np\n",
    "from sklearn.model_selection import train_test_split\n",
    "import matplotlib.pyplot as plt"
   ]
  },
  {
   "cell_type": "code",
   "execution_count": 2,
   "id": "11a71733",
   "metadata": {
    "colab": {
     "base_uri": "https://localhost:8080/",
     "height": 711
    },
    "id": "11a71733",
    "outputId": "ccbe91d1-0c2c-4960-97bf-69a592ae0d88"
   },
   "outputs": [
    {
     "data": {
      "text/plain": [
       "economía                      2060\n",
       "ciencia y tecnología          2060\n",
       "política y conflictos         2060\n",
       "crimen, delitos y justicia    2060\n",
       "deporte                       2060\n",
       "mundo                         2060\n",
       "ecología y planeta            2060\n",
       "catástrofes y accidentes      2060\n",
       "cultura y arte                2020\n",
       "salud                         1928\n",
       "Name: label, dtype: int64"
      ]
     },
     "execution_count": 2,
     "metadata": {},
     "output_type": "execute_result"
    }
   ],
   "source": [
    "df = pd.read_csv(\"dataEtiquetada.csv\")\n",
    "df['label'].value_counts()"
   ]
  },
  {
   "cell_type": "code",
   "execution_count": 3,
   "id": "e5ba7885",
   "metadata": {
    "id": "e5ba7885"
   },
   "outputs": [],
   "source": [
    "X_train, X_test, y_train, y_test = train_test_split(df['text'], df['label'], test_size=0.5)"
   ]
  },
  {
   "cell_type": "markdown",
   "id": "675de772",
   "metadata": {
    "id": "675de772"
   },
   "source": [
    "#### Preprocesamiento y representación vectorial"
   ]
  },
  {
   "cell_type": "code",
   "execution_count": 22,
   "id": "bebe97da",
   "metadata": {
    "colab": {
     "base_uri": "https://localhost:8080/"
    },
    "id": "bebe97da",
    "outputId": "c71f0626-f00e-44b4-a6de-24f771366efb"
   },
   "outputs": [
    {
     "name": "stdout",
     "output_type": "stream",
     "text": [
      "3.2.0\n"
     ]
    }
   ],
   "source": [
    "import spacy\n",
    "spacy.prefer_gpu()\n",
    "nlp = spacy.load(\"es_core_news_sm\")\n",
    "print(spacy.__version__)\n",
    "import string\n",
    "from spacy.lang.es.stop_words import STOP_WORDS\n",
    "from spacy.lang.es import Spanish\n",
    "from sklearn.model_selection import train_test_split\n",
    "from sklearn.feature_extraction.text import CountVectorizer,TfidfVectorizer\n",
    "from sklearn.base import TransformerMixin\n",
    "from sklearn.pipeline import Pipeline\n",
    "from sklearn import metrics\n",
    "from sklearn.linear_model import LogisticRegression # Regresion Logística\n",
    "\n",
    "# Create our list of punctuation marks\n",
    "punctuations = [\".\",\",\",\"!\",\"?\", \"#\",\"&\",\"(\",\"-\",\">\",\"<\",\")\",\"'\",\"¡\",\"...\",\"¿\", \"/\" ,'\"']\n",
    "\n",
    "# Create our list of stopwords\n",
    "stop_words= spacy.lang.es.stop_words.STOP_WORDS\n",
    "\n",
    "# Load English tokenizer, tagger, parser, NER and word vectors\n",
    "parser = Spanish()\n",
    "\n",
    "# Creating our tokenizer function\n",
    "def spacy_tokenizer(sentence):\n",
    "    # Creating our token object, which is used to create documents with linguistic annotations.\n",
    "    mytokens = parser(sentence)\n",
    "\n",
    "    # Lemmatizing each token and converting each token into lowercase\n",
    "    mytokens = [word.lower_ for word in mytokens]\n",
    "        \n",
    "    # Removing stop words\n",
    "    mytokens = [ word for word in mytokens if word not in stop_words and word not in punctuations]\n",
    "\n",
    "    # return preprocessed list of tokens\n",
    "    return mytokens\n",
    "  "
   ]
  },
  {
   "cell_type": "code",
   "execution_count": 23,
   "id": "f38005ba",
   "metadata": {
    "colab": {
     "base_uri": "https://localhost:8080/"
    },
    "id": "f38005ba",
    "outputId": "1a775b91-2886-43a6-c0b2-05c3112bf67a"
   },
   "outputs": [
    {
     "data": {
      "text/plain": [
       "CountVectorizer(tokenizer=<function spacy_tokenizer at 0x7f55c5bb6c10>)"
      ]
     },
     "execution_count": 23,
     "metadata": {},
     "output_type": "execute_result"
    }
   ],
   "source": [
    "bow_vector = CountVectorizer(tokenizer = spacy_tokenizer, ngram_range=(1,1))\n",
    "bow_vector"
   ]
  },
  {
   "cell_type": "code",
   "execution_count": 24,
   "id": "68ca5b69",
   "metadata": {
    "id": "68ca5b69"
   },
   "outputs": [],
   "source": [
    "tfidf_vector = TfidfVectorizer(tokenizer = spacy_tokenizer, ngram_range=(1,1))"
   ]
  },
  {
   "cell_type": "markdown",
   "id": "e1da280d",
   "metadata": {
    "id": "e1da280d"
   },
   "source": [
    "#### entrenamiento del modelo de clasificación"
   ]
  },
  {
   "cell_type": "code",
   "execution_count": 25,
   "id": "7c76b017",
   "metadata": {
    "colab": {
     "base_uri": "https://localhost:8080/"
    },
    "id": "7c76b017",
    "outputId": "8c73e553-14e7-4d7d-bfdd-ff85c73e3217"
   },
   "outputs": [
    {
     "data": {
      "text/plain": [
       "Pipeline(steps=[('preprocessing',\n",
       "                 CountVectorizer(tokenizer=<function spacy_tokenizer at 0x7f55c5bb6c10>)),\n",
       "                ('regression-ML', LogisticRegression())])"
      ]
     },
     "execution_count": 25,
     "metadata": {},
     "output_type": "execute_result"
    }
   ],
   "source": [
    "# Logistic Regression Classifier\n",
    "modelLR = LogisticRegression()\n",
    "\n",
    "# Create pipeline using Bag of Words\n",
    "model1 = Pipeline([('preprocessing', bow_vector),\n",
    "                ('regression-ML', modelLR)])\n",
    "# model generation\n",
    "model1.fit(X_train,y_train)"
   ]
  },
  {
   "cell_type": "code",
   "execution_count": 26,
   "id": "3d3f665d",
   "metadata": {
    "colab": {
     "base_uri": "https://localhost:8080/"
    },
    "id": "3d3f665d",
    "outputId": "51950ec5-bf3d-47ca-b19d-d7fe4a3afc12"
   },
   "outputs": [
    {
     "data": {
      "text/plain": [
       "Pipeline(steps=[('preprocessing',\n",
       "                 TfidfVectorizer(tokenizer=<function spacy_tokenizer at 0x7f55c5bb6c10>)),\n",
       "                ('regression-ML', LogisticRegression())])"
      ]
     },
     "execution_count": 26,
     "metadata": {},
     "output_type": "execute_result"
    }
   ],
   "source": [
    "# Logistic Regression Classifier\n",
    "modelLR = LogisticRegression()\n",
    "\n",
    "model2 = Pipeline([('preprocessing', tfidf_vector),\n",
    "                 ('regression-ML', modelLR)])\n",
    "\n",
    "# model generation\n",
    "model2.fit(X_train,y_train)"
   ]
  },
  {
   "cell_type": "markdown",
   "id": "cfff3ba5",
   "metadata": {
    "id": "cfff3ba5"
   },
   "source": [
    "#### Evaluación del modelo de clasificación"
   ]
  },
  {
   "cell_type": "code",
   "execution_count": 27,
   "id": "8fc1072d",
   "metadata": {
    "colab": {
     "base_uri": "https://localhost:8080/"
    },
    "id": "8fc1072d",
    "outputId": "366ea14a-ad82-4228-9468-128d9613a083"
   },
   "outputs": [
    {
     "name": "stdout",
     "output_type": "stream",
     "text": [
      "['crimen, delitos y justicia' 'salud' 'deporte' ... 'deporte'\n",
      " 'cultura y arte' 'ciencia y tecnología']\n",
      "Logistic Regression Accuracy: 0.9302917564127668\n",
      "Logistic Regression Precision: 0.9302917564127668\n",
      "Logistic Regression Recall: 0.9302917564127668\n"
     ]
    }
   ],
   "source": [
    "# Predicting with a test dataset\n",
    "predicted1 = model1.predict(X_test)\n",
    "print(predicted1)\n",
    "\n",
    "# Model Accuracy\n",
    "print(\"Logistic Regression Accuracy:\",metrics.accuracy_score(y_test, predicted1))\n",
    "print(\"Logistic Regression Precision:\",metrics.precision_score(y_test, predicted1, average='micro'))\n",
    "print(\"Logistic Regression Recall:\",metrics.recall_score(y_test, predicted1, average='micro'))"
   ]
  },
  {
   "cell_type": "code",
   "execution_count": 28,
   "id": "1RA5fTUp7gYJ",
   "metadata": {
    "colab": {
     "base_uri": "https://localhost:8080/"
    },
    "id": "1RA5fTUp7gYJ",
    "outputId": "d96061d7-1cb2-43c4-de1a-0bc82b6373ab"
   },
   "outputs": [
    {
     "name": "stdout",
     "output_type": "stream",
     "text": [
      "['crimen, delitos y justicia' 'salud' 'deporte' ... 'deporte'\n",
      " 'cultura y arte' 'ciencia y tecnología']\n",
      "Logistic Regression Accuracy: 0.8990601135696104\n",
      "Logistic Regression Precision: 0.8990601135696104\n",
      "Logistic Regression Recall: 0.8990601135696104\n"
     ]
    }
   ],
   "source": [
    "# Predicting with a test dataset\n",
    "predicted2 = model2.predict(X_test)\n",
    "print(predicted2)\n",
    "\n",
    "# Model Accuracy\n",
    "print(\"Logistic Regression Accuracy:\",metrics.accuracy_score(y_test, predicted2))\n",
    "print(\"Logistic Regression Precision:\",metrics.precision_score(y_test, predicted2, average='micro'))\n",
    "print(\"Logistic Regression Recall:\",metrics.recall_score(y_test, predicted2, average='micro'))"
   ]
  },
  {
   "cell_type": "code",
   "execution_count": 29,
   "id": "f5592d4c",
   "metadata": {
    "colab": {
     "base_uri": "https://localhost:8080/"
    },
    "id": "f5592d4c",
    "outputId": "e7450157-ef96-4567-cd31-9393409abc42"
   },
   "outputs": [
    {
     "data": {
      "image/png": "[encoded data removed]",
      "text/plain": [
       "<Figure size 504x504 with 1 Axes>"
      ]
     },
     "metadata": {
      "needs_background": "light"
     },
     "output_type": "display_data"
    },
    {
     "name": "stdout",
     "output_type": "stream",
     "text": [
      "                            precision    recall  f1-score   support\n",
      "\n",
      "  catástrofes y accidentes      0.951     0.954     0.953      1048\n",
      "      ciencia y tecnología      0.884     0.967     0.924       996\n",
      "crimen, delitos y justicia      0.914     0.905     0.910      1024\n",
      "            cultura y arte      0.951     0.971     0.961       984\n",
      "                   deporte      0.986     0.980     0.983      1044\n",
      "        ecología y planeta      0.955     0.932     0.944      1022\n",
      "                  economía      0.925     0.918     0.921      1033\n",
      "                     mundo      0.894     0.875     0.884      1045\n",
      "     política y conflictos      0.952     0.914     0.933      1061\n",
      "                     salud      0.889     0.887     0.888       957\n",
      "\n",
      "                  accuracy                          0.930     10214\n",
      "                 macro avg      0.930     0.930     0.930     10214\n",
      "              weighted avg      0.931     0.930     0.930     10214\n",
      "\n"
     ]
    }
   ],
   "source": [
    "from sklearn.metrics import confusion_matrix, classification_report\n",
    "\n",
    "def plot_confusion_matrix(cm, labels, cmap=plt.cm.Blues):\n",
    "    fig, ax = plt.subplots(figsize=(7, 7), tight_layout=True)\n",
    "    ax.imshow(cm, interpolation='nearest', cmap=cmap)\n",
    "    for i in range(cm.shape[1]):\n",
    "        for j in range(cm.shape[0]):\n",
    "            ax.text(j, i, \"{:,}\".format(cm[i, j]), \n",
    "                    horizontalalignment=\"center\", verticalalignment=\"center\",\n",
    "                    color=\"white\" if cm[i, j] > np.amax(cm)/2 else \"black\")\n",
    "    ax.set_title(\"Matriz de confusión\")\n",
    "    tick_marks = np.arange(len(labels))\n",
    "    plt.xticks(tick_marks, labels, rotation='vertical')\n",
    "    plt.yticks(tick_marks, labels)\n",
    "    plt.ylabel('Etiqueta real')\n",
    "    plt.xlabel('Predicción')\n",
    "    plt.show()\n",
    "\n",
    "cm = confusion_matrix(y_true=y_test, y_pred=predicted1)\n",
    "plot_confusion_matrix(cm, labels=list(df['label'].unique()))\n",
    "print(classification_report(y_test, predicted1, digits=3))"
   ]
  },
  {
   "cell_type": "code",
   "execution_count": 30,
   "id": "dc8d1762",
   "metadata": {
    "id": "dc8d1762"
   },
   "outputs": [],
   "source": [
    "def printNMostInformative(vectorizer, model, N):\n",
    "    feature_names = vectorizer.get_feature_names()\n",
    "    coefs_with_fns = sorted(zip(model.coef_[0], feature_names))\n",
    "    topClass1 = coefs_with_fns[:N]\n",
    "    topClass2 = coefs_with_fns[:-(N + 1):-1]\n",
    "    print(\"Class 1 best: \")\n",
    "    for feat in topClass1:\n",
    "        print(feat)\n",
    "    print(\"Class 2 best: \")\n",
    "    for feat in topClass2:\n",
    "        print(feat)"
   ]
  },
  {
   "cell_type": "code",
   "execution_count": 31,
   "id": "de085e8b",
   "metadata": {
    "colab": {
     "base_uri": "https://localhost:8080/"
    },
    "id": "de085e8b",
    "outputId": "9d2da58b-4863-4d41-9744-3e908295bbb0"
   },
   "outputs": [
    {
     "name": "stdout",
     "output_type": "stream",
     "text": [
      "Class 1 best: \n",
      "(-2.2237170009375524, 'y')\n",
      "(-1.4813612424890852, '”')\n",
      "(-1.4421749892517595, '“')\n",
      "(-0.907365649055344, 'casos')\n",
      "(-0.8989209075838208, 'eclipse')\n",
      "(-0.8725473398783331, 'mundo')\n",
      "(-0.8354753435461632, 'salud')\n",
      "(-0.797596912153253, 'ataque')\n",
      "(-0.7797924847779578, 'covid-19')\n",
      "(-0.766031103762425, 'vacuna')\n",
      "(-0.743917137928527, 'animales')\n",
      "(-0.7204618215772327, 'coronavirus')\n",
      "(-0.7036780108370595, 'países')\n",
      "(-0.7008553523116695, 'partido')\n",
      "(-0.6986855752085386, 'trabajadores')\n",
      "(-0.6970844171950354, 'unidos')\n",
      "(-0.6699073814260712, 'país')\n",
      "(-0.6688469131885926, 'grupo')\n",
      "(-0.6411649238706023, 'agua')\n",
      "(-0.6357565812648034, 'prisión')\n",
      "Class 2 best: \n",
      "(7.862727249807128, 'incendio')\n",
      "(5.571865391044234, 'accidente')\n",
      "(4.774834552826454, 'bomberos')\n",
      "(3.6896693857306495, 'tránsito')\n",
      "(3.006286615225405, 'catástrofe')\n",
      "(2.8609313405991945, 'siniestro')\n",
      "(2.8536468082332935, 'incendios')\n",
      "(2.8173857610869106, 'sismo')\n",
      "(2.303783987324115, 'magnitud')\n",
      "(2.290048977396934, 'accidentes')\n",
      "(2.2365364351961188, 'onemi')\n",
      "(2.236038325076138, 'llamas')\n",
      "(2.222022889424836, 'emergencia')\n",
      "(2.14929992121224, 'fuego')\n",
      "(2.1309555120280135, 'conaf')\n",
      "(1.9189114719778662, 'temblor')\n",
      "(1.916970083155312, 'región')\n",
      "(1.866564576185618, 'kilómetros')\n",
      "(1.7908302223888002, 'km')\n",
      "(1.77949919636733, 'forestales')\n"
     ]
    }
   ],
   "source": [
    "printNMostInformative(bow_vector, modelLR, 20)"
   ]
  }
 ],
 "metadata": {
  "colab": {
   "name": "2-implementation.ipynb",
   "provenance": []
  },
  "kernelspec": {
   "display_name": "Python 3 (ipykernel)",
   "language": "python",
   "name": "python3"
  },
  "language_info": {
   "codemirror_mode": {
    "name": "ipython",
    "version": 3
   },
   "file_extension": ".py",
   "mimetype": "text/x-python",
   "name": "python",
   "nbconvert_exporter": "python",
   "pygments_lexer": "ipython3",
   "version": "3.8.10"
  }
 },
 "nbformat": 4,
 "nbformat_minor": 5
}

{
 "cells": [
  {
   "cell_type": "markdown",
   "id": "5d5830a5",
   "metadata": {},
   "source": [
    "# TAL aplicado al análisis del discurso de los medios de prensa 📰🤓🔥\n",
    "\n",
    "\n",
    "### Cronograma\n",
    "\n",
    "- Hito Unidad 2 (27 de octubre): Implementación y experimentos de varios modelos de clasificación\n",
    "\n",
    "- Hito Proyecto (15 de diciembre): Evaluación y comparación de los modelos de los distintos equipos + integración de los mejores modelos en la arquitectura Sophia2.\n",
    "\n",
    "\n",
    "## índex\n",
    "1. [Importación del dataset](a)\n",
    "2. [Balancear dataset](b)\n",
    "3. [Inicialización del modelo spaCy y tokenización](c)\n",
    "4. [Definición de la arquitectura CNN](d)\n",
    "5. [Funciones para optimizar el modelo](e)\n",
    "6. [Funciones para evaluar el modelo](f)\n",
    "7. [Optimización del modelo](g)\n",
    "8. [Evaluación del modelo](h)   \n",
    "    8.1 [Matriz de confusión](k)\n"
   ]
  },
  {
   "cell_type": "code",
   "execution_count": 1,
   "id": "0908999b",
   "metadata": {},
   "outputs": [
    {
     "data": {
      "text/html": [
       "\n",
       "<style>\n",
       ".output_png {\n",
       "    display: table-cell;\n",
       "    text-align: center;\n",
       "    vertical-align: middle;\n",
       "}\n",
       "</style>\n"
      ],
      "text/plain": [
       "<IPython.core.display.HTML object>"
      ]
     },
     "execution_count": 1,
     "metadata": {},
     "output_type": "execute_result"
    }
   ],
   "source": [
    "from IPython.core.display import HTML\n",
    "HTML(\"\"\"\n",
    "<style>\n",
    ".output_png {\n",
    "    display: table-cell;\n",
    "    text-align: center;\n",
    "    vertical-align: middle;\n",
    "}\n",
    "</style>\n",
    "\"\"\")"
   ]
  },
  {
   "cell_type": "code",
   "execution_count": null,
   "id": "c1d67094",
   "metadata": {},
   "outputs": [],
   "source": [
    "#!pip install pandas\n",
    "#!pip install numpy\n",
    "#!pip install matplotlib\n",
    "#!pip install tqdm\n",
    "#!pip install -U spacy\n",
    "#!pip install torchtext\n",
    "#!conda install pytorch-cpu torchvision-cpu -c pytorch\n",
    "#!pip install imblearn"
   ]
  },
  {
   "cell_type": "code",
   "execution_count": 2,
   "id": "a0867b56",
   "metadata": {},
   "outputs": [
    {
     "name": "stderr",
     "output_type": "stream",
     "text": [
      "2021-12-16 06:58:38.629778: W tensorflow/stream_executor/platform/default/dso_loader.cc:64] Could not load dynamic library 'libcudart.so.11.0'; dlerror: libcudart.so.11.0: cannot open shared object file: No such file or directory\n",
      "2021-12-16 06:58:38.629869: I tensorflow/stream_executor/cuda/cudart_stub.cc:29] Ignore above cudart dlerror if you do not have a GPU set up on your machine.\n"
     ]
    }
   ],
   "source": [
    "import time\n",
    "import warnings\n",
    "warnings.filterwarnings('ignore')\n",
    "\n",
    "# Data manipulation\n",
    "import re\n",
    "import pandas as pd\n",
    "import numpy as np\n",
    "import random\n",
    "from imblearn.under_sampling import RandomUnderSampler\n",
    "from sklearn.model_selection import StratifiedShuffleSplit\n",
    "\n",
    "# Plotting\n",
    "import matplotlib.pyplot as plt\n",
    "from tqdm import tqdm\n",
    "\n",
    "# NLP\n",
    "import spacy\n",
    "import torch\n",
    "import torchtext\n",
    "from torchtext import data\n",
    "from torchtext import datasets\n",
    "from torchtext.legacy import data\n",
    "\n",
    "# Reports\n",
    "from sklearn.metrics import confusion_matrix, classification_report\n",
    "\n",
    "# CNN\n",
    "import torch.nn as nn\n",
    "import torch.nn.functional as F\n",
    "import torch.optim as optim\n"
   ]
  },
  {
   "cell_type": "markdown",
   "id": "0ac66af0",
   "metadata": {},
   "source": [
    "### 1. Importación del dataset"
   ]
  },
  {
   "cell_type": "code",
   "execution_count": 3,
   "id": "11a71733",
   "metadata": {
    "scrolled": true
   },
   "outputs": [],
   "source": [
    "train = pd.read_csv(\"CNN_train.csv\")\n",
    "test = pd.read_csv(\"CNN_test.csv\")\n",
    "valid = pd.read_csv(\"CNN_valid.csv\")"
   ]
  },
  {
   "cell_type": "code",
   "execution_count": 4,
   "id": "064057d7",
   "metadata": {},
   "outputs": [
    {
     "data": {
      "text/plain": [
       "política y conflictos         3927\n",
       "catástrofes y accidentes      3927\n",
       "cultura y arte                3927\n",
       "salud                         3927\n",
       "mundo                         3927\n",
       "ciencia y tecnología          3927\n",
       "economía                      3927\n",
       "deporte                       3927\n",
       "crimen, delitos y justicia    3927\n",
       "ecología y planeta            3927\n",
       "Name: label, dtype: int64"
      ]
     },
     "metadata": {},
     "output_type": "display_data"
    }
   ],
   "source": [
    "display(train['label'].value_counts())"
   ]
  },
  {
   "cell_type": "markdown",
   "id": "c6ff216e",
   "metadata": {},
   "source": [
    "### 2. Balancear dataset\n",
    "Realizaremos random undersampling"
   ]
  },
  {
   "cell_type": "code",
   "execution_count": null,
   "id": "85cf31af",
   "metadata": {
    "scrolled": true
   },
   "outputs": [],
   "source": [
    "valid, test, train = np.split(x_res.sample(frac=1), \n",
    "                              [int(.15*len(x_res)), int(.3*len(x_res))])\n",
    "\n",
    "print(\"Largo dataset entrenamiento: \", len(train))\n",
    "print(\"Largo dataset validación: \", len(valid))\n",
    "print(\"Largo dataset test\", len(test))"
   ]
  },
  {
   "cell_type": "code",
   "execution_count": null,
   "id": "733adfb0",
   "metadata": {},
   "outputs": [],
   "source": [
    "train['label'].value_counts()"
   ]
  },
  {
   "cell_type": "code",
   "execution_count": null,
   "id": "7e29cf7d",
   "metadata": {
    "scrolled": true
   },
   "outputs": [],
   "source": [
    "undersample = RandomUnderSampler(random_state=0)\n",
    "x_res,y_res = undersample.fit_resample(train,train['label'])\n",
    "fig, ax = plt.subplots(figsize=(5,5),tight_layout=True)\n",
    "ax = y_res.value_counts().plot.pie(autopct='%.2f')\n",
    "_ = ax.set_title(\"Undersampling\")\n",
    "plt.show()"
   ]
  },
  {
   "cell_type": "code",
   "execution_count": null,
   "id": "257fcad8",
   "metadata": {},
   "outputs": [],
   "source": [
    "x_res.to_csv(\"CNN_train.csv\", encoding=\"UTF-8\",index=False)\n",
    "valid.to_csv(\"CNN_valid.csv\", encoding=\"UTF-8\",index=False)\n",
    "test.to_csv(\"CNN_test.csv\", encoding=\"UTF-8\",index=False)"
   ]
  },
  {
   "cell_type": "markdown",
   "id": "817cff8f",
   "metadata": {},
   "source": [
    "### 3. Inicialización del modelo spaCy y tokenización"
   ]
  },
  {
   "cell_type": "code",
   "execution_count": null,
   "id": "411c1cd5",
   "metadata": {},
   "outputs": [],
   "source": [
    "#!python -m spacy download es_core_news_sm"
   ]
  },
  {
   "cell_type": "code",
   "execution_count": 5,
   "id": "02fa4741",
   "metadata": {},
   "outputs": [],
   "source": [
    "spacy_es = spacy.load('es_core_news_sm')\n",
    "def tokenize_es(sentence):\n",
    "    return [tok.text for tok in spacy_es.tokenizer(sentence)]\n",
    "\n",
    "\n",
    "\n",
    "TEXT = data.Field(tokenize=tokenize_es, batch_first = True)\n",
    "LABEL = data.LabelField()\n",
    "fields = [('content', TEXT),('label', LABEL)]\n",
    "\n",
    "SEED = 1234\n",
    "\n",
    "random.seed(SEED)\n",
    "np.random.seed(SEED)\n",
    "torch.manual_seed(SEED)\n",
    "torch.backends.cudnn.deterministic = True\n",
    "\n",
    "train_data, valid_data, test_data = data.TabularDataset.splits(\n",
    "                                        path = '.',\n",
    "                                        train = 'CNN_train.csv',\n",
    "                                        validation= 'CNN_valid.csv',\n",
    "                                        test = 'CNN_test.csv',\n",
    "                                        format = 'csv',\n",
    "                                        fields = fields,\n",
    "                                        skip_header = True\n",
    ")"
   ]
  },
  {
   "cell_type": "code",
   "execution_count": 6,
   "id": "75d4bc8f",
   "metadata": {},
   "outputs": [
    {
     "name": "stdout",
     "output_type": "stream",
     "text": [
      "cpu\n"
     ]
    }
   ],
   "source": [
    "BATCH_SIZE = 32\n",
    "device = torch.device('cuda' if torch.cuda.is_available() else 'cpu')\n",
    "print(device)\n",
    "\n",
    "train_iterator, valid_iterator, test_iterator = data.BucketIterator.splits(\n",
    "    (train_data, valid_data, test_data), \n",
    "    batch_size = BATCH_SIZE, \n",
    "    device = device,\n",
    "    sort_key=lambda x:len(x.label),\n",
    "    sort_within_batch=False)"
   ]
  },
  {
   "cell_type": "markdown",
   "id": "8d7fe872",
   "metadata": {},
   "source": [
    "### 4. Definición de la arquitectura CNN"
   ]
  },
  {
   "cell_type": "code",
   "execution_count": 7,
   "id": "42ff98c0",
   "metadata": {},
   "outputs": [],
   "source": [
    "#!wget http://dcc.uchile.cl/~jperez/word-embeddings/glove-sbwc.i25.vec.gz"
   ]
  },
  {
   "cell_type": "code",
   "execution_count": 8,
   "id": "08aaa424",
   "metadata": {},
   "outputs": [],
   "source": [
    "MAX_VOCAB_SIZE = 50000\n",
    "\n",
    "## TENER VECTORES EN ESPAÑOL\n",
    "vec = torchtext.vocab.Vectors('glove-sbwc.i25.vec.gz', cache='.')\n",
    "TEXT.build_vocab(train_data, vectors=vec, max_size = MAX_VOCAB_SIZE, unk_init = torch.Tensor.normal_)\n",
    "\n",
    "LABEL.build_vocab(train_data)"
   ]
  },
  {
   "cell_type": "code",
   "execution_count": 9,
   "id": "a21c5827",
   "metadata": {},
   "outputs": [
    {
     "name": "stdout",
     "output_type": "stream",
     "text": [
      "defaultdict(None, {'catástrofes y accidentes': 0, 'ciencia y tecnología': 1, 'crimen, delitos y justicia': 2, 'cultura y arte': 3, 'deporte': 4, 'ecología y planeta': 5, 'economía': 6, 'mundo': 7, 'política y conflictos': 8, 'salud': 9})\n"
     ]
    }
   ],
   "source": [
    "print(LABEL.vocab.stoi)"
   ]
  },
  {
   "cell_type": "code",
   "execution_count": 10,
   "id": "485666a4",
   "metadata": {},
   "outputs": [],
   "source": [
    "class CNN(nn.Module):\n",
    "    def __init__(self, vocab_size, embedding_dim, n_filters, filter_sizes, output_dim, \n",
    "                 dropout, pad_idx):\n",
    "    \n",
    "        super().__init__()\n",
    "    \n",
    "        self.embedding = nn.Embedding(vocab_size, embedding_dim)\n",
    "        self.convs = nn.ModuleList([\n",
    "                                    nn.Conv1d(in_channels = 1, \n",
    "                                              out_channels = n_filters, \n",
    "                                              kernel_size = (fs, embedding_dim)) \n",
    "                                    for fs in filter_sizes\n",
    "                                    ])\n",
    "        \n",
    "        self.fc = nn.Linear(len(filter_sizes) * n_filters, output_dim)\n",
    "        self.dropout = nn.Dropout(dropout)\n",
    "        \n",
    "    def forward(self, text):\n",
    "        \n",
    "        \n",
    "        embedded = self.embedding(text)     \n",
    "        embedded = embedded.unsqueeze(1)\n",
    "        \n",
    "        conved = [F.relu(conv(embedded)).squeeze(3) for conv in self.convs]    \n",
    "        \n",
    "        pooled = [F.max_pool1d(conv, conv.shape[2]).squeeze(2) for conv in conved]\n",
    "        \n",
    "        cat = self.dropout(torch.cat(pooled, dim = 1))\n",
    "        \n",
    "        return self.fc(cat)"
   ]
  },
  {
   "cell_type": "code",
   "execution_count": 11,
   "id": "37561538",
   "metadata": {},
   "outputs": [
    {
     "data": {
      "text/plain": [
       "10"
      ]
     },
     "execution_count": 11,
     "metadata": {},
     "output_type": "execute_result"
    }
   ],
   "source": [
    "INPUT_DIM = len(TEXT.vocab)\n",
    "EMBEDDING_DIM = 300\n",
    "N_FILTERS = 100\n",
    "FILTER_SIZES = [2,3,4]\n",
    "OUTPUT_DIM = len(LABEL.vocab)\n",
    "DROPOUT = 0.5\n",
    "PAD_IDX = TEXT.vocab.stoi[TEXT.pad_token]\n",
    "\n",
    "model = CNN(INPUT_DIM, EMBEDDING_DIM, N_FILTERS, FILTER_SIZES, OUTPUT_DIM, DROPOUT, PAD_IDX)\n",
    "\n",
    "OUTPUT_DIM"
   ]
  },
  {
   "cell_type": "code",
   "execution_count": 12,
   "id": "28ce8459",
   "metadata": {},
   "outputs": [
    {
     "name": "stdout",
     "output_type": "stream",
     "text": [
      "The model has 15,273,910 trainable parameters\n"
     ]
    }
   ],
   "source": [
    "def count_parameters(model):\n",
    "    return sum(p.numel() for p in model.parameters() if p.requires_grad)\n",
    "\n",
    "print(f'The model has {count_parameters(model):,} trainable parameters')"
   ]
  },
  {
   "cell_type": "code",
   "execution_count": 13,
   "id": "c2f411ed",
   "metadata": {},
   "outputs": [],
   "source": [
    "pretrained_embeddings = TEXT.vocab.vectors\n",
    "UNK_IDX = TEXT.vocab.stoi[TEXT.unk_token]\n",
    "\n",
    "model.embedding.weight.data.copy_(pretrained_embeddings)\n",
    "model.embedding.weight.data[UNK_IDX] = torch.zeros(EMBEDDING_DIM)\n",
    "model.embedding.weight.data[PAD_IDX] = torch.zeros(EMBEDDING_DIM)"
   ]
  },
  {
   "cell_type": "markdown",
   "id": "bd32f2c5",
   "metadata": {},
   "source": [
    "### 5. Funciones para optimizar el modelo"
   ]
  },
  {
   "cell_type": "code",
   "execution_count": 14,
   "id": "2f0f9d7d",
   "metadata": {},
   "outputs": [],
   "source": [
    "optimizer = optim.Adam(model.parameters())\n",
    "\n",
    "criterion = nn.CrossEntropyLoss() #MULTICLASS ---> en lugar de .BCEWithLogitsLoss() (Binary Cross Entropy)\n",
    "\n",
    "model = model.to(device)\n",
    "criterion = criterion.to(device)"
   ]
  },
  {
   "cell_type": "code",
   "execution_count": 15,
   "id": "abdc8c57",
   "metadata": {},
   "outputs": [],
   "source": [
    "def train(model, iterator, optimizer, criterion, divisor):\n",
    "    \n",
    "    epoch_loss = 0\n",
    "    epoch_acc = 0\n",
    "    model.train()\n",
    "    \n",
    "    for batch in tqdm(iterator, desc='train'):\n",
    "        \n",
    "        optimizer.zero_grad()\n",
    "        predictions = model(batch.content)\n",
    "        \n",
    "        loss = criterion(predictions, batch.label)\n",
    "        acc = categorical_accuracy(predictions, batch.label, divisor)\n",
    "        loss.backward()\n",
    "        optimizer.step()\n",
    "        epoch_loss += loss.item()\n",
    "        epoch_acc += acc.item()\n",
    "        \n",
    "    return epoch_loss / len(iterator), epoch_acc / len(iterator)"
   ]
  },
  {
   "cell_type": "code",
   "execution_count": 16,
   "id": "66918b03",
   "metadata": {},
   "outputs": [],
   "source": [
    "def epoch_time(start_time, end_time):\n",
    "    \n",
    "    elapsed_time = end_time - start_time\n",
    "    elapsed_mins = int(elapsed_time / 60)\n",
    "    elapsed_secs = int(elapsed_time - (elapsed_mins * 60))\n",
    "    \n",
    "    return elapsed_mins, elapsed_secs"
   ]
  },
  {
   "cell_type": "markdown",
   "id": "e4e8a679",
   "metadata": {},
   "source": [
    "### 6. Funciones para evaluar el modelo"
   ]
  },
  {
   "cell_type": "code",
   "execution_count": 17,
   "id": "989d9641",
   "metadata": {},
   "outputs": [],
   "source": [
    "def categorical_accuracy(preds, y, divisor):\n",
    "    \"\"\"\n",
    "    Returns accuracy per batch, i.e. if you get 8/10 right, this returns 0.8, NOT 8\n",
    "    \"\"\"\n",
    "    max_preds = preds.argmax(dim = 1, keepdim = True) # get the index of the max probability\n",
    "    correct = max_preds.squeeze(1).eq(y)\n",
    "    \n",
    "    return correct.sum() / divisor([y.shape[0]])"
   ]
  },
  {
   "cell_type": "code",
   "execution_count": 18,
   "id": "362fffe0",
   "metadata": {},
   "outputs": [],
   "source": [
    "def evaluate(model, iterator, criterion, divisor):\n",
    "    \n",
    "    epoch_loss = 0\n",
    "    epoch_acc = 0\n",
    "    model.eval()\n",
    "    \n",
    "    with torch.no_grad():\n",
    "        for batch in tqdm(iterator, desc='eval'):\n",
    "\n",
    "            predictions = model(batch.content)\n",
    "            loss = criterion(predictions, batch.label)\n",
    "            acc = categorical_accuracy(predictions, batch.label, divisor)\n",
    "\n",
    "            epoch_loss += loss.item()\n",
    "            epoch_acc += acc.item()\n",
    "        \n",
    "    return epoch_loss / len(iterator), epoch_acc / len(iterator)"
   ]
  },
  {
   "cell_type": "markdown",
   "id": "b2e0c0b5",
   "metadata": {},
   "source": [
    "### 7. Optimización del modelo"
   ]
  },
  {
   "cell_type": "code",
   "execution_count": 19,
   "id": "7351f0dd",
   "metadata": {
    "scrolled": true
   },
   "outputs": [
    {
     "name": "stdout",
     "output_type": "stream",
     "text": [
      "inicio optimización\n"
     ]
    },
    {
     "name": "stderr",
     "output_type": "stream",
     "text": [
      "train: 100%|████████████████████████████████████████████████████| 1228/1228 [45:27<00:00,  2.22s/it]\n",
      "eval: 100%|███████████████████████████████████████████████████████| 267/267 [01:48<00:00,  2.47it/s]\n"
     ]
    },
    {
     "name": "stdout",
     "output_type": "stream",
     "text": [
      "Epoch: 01 | Epoch Time: 47m 16s\n",
      "\tTrain Loss: 1.278 | Train Acc: 59.02%\n",
      "\t Val. Loss: 0.959 |  Val. Acc: 68.79%\n"
     ]
    },
    {
     "name": "stderr",
     "output_type": "stream",
     "text": [
      "train: 100%|████████████████████████████████████████████████████| 1228/1228 [46:33<00:00,  2.27s/it]\n",
      "eval: 100%|███████████████████████████████████████████████████████| 267/267 [01:49<00:00,  2.44it/s]\n"
     ]
    },
    {
     "name": "stdout",
     "output_type": "stream",
     "text": [
      "Epoch: 02 | Epoch Time: 48m 23s\n",
      "\tTrain Loss: 0.947 | Train Acc: 68.99%\n",
      "\t Val. Loss: 0.852 |  Val. Acc: 71.21%\n"
     ]
    },
    {
     "name": "stderr",
     "output_type": "stream",
     "text": [
      "train: 100%|████████████████████████████████████████████████████| 1228/1228 [50:11<00:00,  2.45s/it]\n",
      "eval: 100%|███████████████████████████████████████████████████████| 267/267 [01:57<00:00,  2.28it/s]\n"
     ]
    },
    {
     "name": "stdout",
     "output_type": "stream",
     "text": [
      "Epoch: 03 | Epoch Time: 52m 9s\n",
      "\tTrain Loss: 0.755 | Train Acc: 74.73%\n",
      "\t Val. Loss: 0.813 |  Val. Acc: 72.59%\n"
     ]
    },
    {
     "name": "stderr",
     "output_type": "stream",
     "text": [
      "train: 100%|████████████████████████████████████████████████████| 1228/1228 [53:37<00:00,  2.62s/it]\n",
      "eval: 100%|███████████████████████████████████████████████████████| 267/267 [01:51<00:00,  2.39it/s]\n"
     ]
    },
    {
     "name": "stdout",
     "output_type": "stream",
     "text": [
      "Epoch: 04 | Epoch Time: 55m 29s\n",
      "\tTrain Loss: 0.582 | Train Acc: 80.52%\n",
      "\t Val. Loss: 0.837 |  Val. Acc: 72.33%\n"
     ]
    },
    {
     "name": "stderr",
     "output_type": "stream",
     "text": [
      "train: 100%|████████████████████████████████████████████████████| 1228/1228 [52:34<00:00,  2.57s/it]\n",
      "eval: 100%|███████████████████████████████████████████████████████| 267/267 [02:25<00:00,  1.84it/s]\n"
     ]
    },
    {
     "name": "stdout",
     "output_type": "stream",
     "text": [
      "Epoch: 05 | Epoch Time: 54m 59s\n",
      "\tTrain Loss: 0.432 | Train Acc: 85.74%\n",
      "\t Val. Loss: 0.901 |  Val. Acc: 72.40%\n"
     ]
    }
   ],
   "source": [
    "print(\"inicio optimización\")\n",
    "\n",
    "N_EPOCHS = 5\n",
    "best_valid_loss = float('inf')\n",
    "\n",
    "for epoch in range(N_EPOCHS):\n",
    "\n",
    "    start_time = time.time()\n",
    "    divisor = torch.FloatTensor if str(device) == 'cpu' else torch.cuda.FloatTensor\n",
    "    train_loss, train_acc = train(model, train_iterator, optimizer, criterion, divisor)\n",
    "    valid_loss, valid_acc = evaluate(model, valid_iterator, criterion, divisor)\n",
    "    \n",
    "    end_time = time.time()\n",
    "    epoch_mins, epoch_secs = epoch_time(start_time, end_time)\n",
    "    \n",
    "    if valid_loss < best_valid_loss:\n",
    "        best_valid_loss = valid_loss\n",
    "        name = './tematic-model-CNN'+'_ep'+str(epoch+1)+'.pt'\n",
    "        torch.save({'epoca': epoch,\n",
    "                    'model_state_dict': model.state_dict(),\n",
    "                    'optimizer_state_dict': optimizer.state_dict(),\n",
    "                    'Valid_loss': best_valid_loss}, name)\n",
    "    \n",
    "    print(f'Epoch: {epoch+1:02} | Epoch Time: {epoch_mins}m {epoch_secs}s')\n",
    "    print(f'\\tTrain Loss: {train_loss:.3f} | Train Acc: {train_acc*100:.2f}%')\n",
    "    print(f'\\t Val. Loss: {valid_loss:.3f} |  Val. Acc: {valid_acc*100:.2f}%')"
   ]
  },
  {
   "cell_type": "markdown",
   "id": "d81fd104",
   "metadata": {},
   "source": [
    "### 8. Evaluación del modelo"
   ]
  },
  {
   "cell_type": "code",
   "execution_count": 20,
   "id": "cc480df9",
   "metadata": {},
   "outputs": [],
   "source": [
    "best_model = CNN(INPUT_DIM, EMBEDDING_DIM, N_FILTERS, FILTER_SIZES, OUTPUT_DIM, DROPOUT, PAD_IDX)"
   ]
  },
  {
   "cell_type": "code",
   "execution_count": 21,
   "id": "31ff38ab",
   "metadata": {},
   "outputs": [],
   "source": [
    "pretrained_embeddings = TEXT.vocab.vectors\n",
    "UNK_IDX = TEXT.vocab.stoi[TEXT.unk_token]\n",
    "\n",
    "best_model.embedding.weight.data.copy_(pretrained_embeddings)\n",
    "best_model.embedding.weight.data[UNK_IDX] = torch.zeros(EMBEDDING_DIM)\n",
    "best_model.embedding.weight.data[PAD_IDX] = torch.zeros(EMBEDDING_DIM)"
   ]
  },
  {
   "cell_type": "code",
   "execution_count": 22,
   "id": "f0e0762b",
   "metadata": {},
   "outputs": [
    {
     "data": {
      "text/plain": [
       "<All keys matched successfully>"
      ]
     },
     "execution_count": 22,
     "metadata": {},
     "output_type": "execute_result"
    }
   ],
   "source": [
    "name = './tematic-model-CNN'+'_ep'+str(1)+'.pt'\n",
    "best_model.load_state_dict(torch.load(name, map_location=torch.device('cpu'))['model_state_dict'])"
   ]
  },
  {
   "cell_type": "code",
   "execution_count": 23,
   "id": "e20cc369",
   "metadata": {},
   "outputs": [
    {
     "name": "stderr",
     "output_type": "stream",
     "text": [
      "eval: 100%|███████████████████████████████████████████████████████| 267/267 [03:33<00:00,  1.25it/s]"
     ]
    },
    {
     "name": "stdout",
     "output_type": "stream",
     "text": [
      "Test Loss: 0.897 | Test Acc: 72.71%\n"
     ]
    },
    {
     "name": "stderr",
     "output_type": "stream",
     "text": [
      "\n"
     ]
    }
   ],
   "source": [
    "test_loss, test_acc = evaluate(model, test_iterator, criterion, divisor)\n",
    "\n",
    "print(f'Test Loss: {test_loss:.3f} | Test Acc: {test_acc*100:.2f}%')"
   ]
  },
  {
   "cell_type": "code",
   "execution_count": 24,
   "id": "5c65dd36",
   "metadata": {},
   "outputs": [
    {
     "name": "stderr",
     "output_type": "stream",
     "text": [
      "predictions: 100%|████████████████████████████████████████████████| 267/267 [01:51<00:00,  2.40it/s]\n"
     ]
    }
   ],
   "source": [
    "prediction_test = []\n",
    "labels_test=[]\n",
    "\n",
    "for batch in tqdm(test_iterator, desc='predictions'):\n",
    "    labels_test.append(batch.label.cpu().detach().numpy())\n",
    "    predictions = best_model(batch.content.cpu()).squeeze(1)\n",
    "    prediction_test.append(predictions.argmax(dim=1).detach().numpy())\n",
    "        \n",
    "y_true = np.concatenate(labels_test)\n",
    "y_pred = np.concatenate(prediction_test)"
   ]
  },
  {
   "cell_type": "markdown",
   "id": "2f4dd7b7",
   "metadata": {},
   "source": [
    "#### 8.1 Matriz de confusión"
   ]
  },
  {
   "cell_type": "code",
   "execution_count": 29,
   "id": "f05e3964",
   "metadata": {
    "scrolled": false
   },
   "outputs": [
    {
     "name": "stdout",
     "output_type": "stream",
     "text": [
      "              precision    recall  f1-score   support\n",
      "\n",
      "           0      0.713     0.878     0.787       894\n",
      "           1      0.512     0.488     0.500       845\n",
      "           2      0.602     0.740     0.664       867\n",
      "           3      0.877     0.915     0.895       857\n",
      "           4      0.505     0.486     0.495       836\n",
      "           5      0.883     0.914     0.899       852\n",
      "           6      0.667     0.665     0.666       813\n",
      "           7      0.407     0.206     0.273       861\n",
      "           8      0.521     0.463     0.490       836\n",
      "           9      0.704     0.801     0.749       873\n",
      "\n",
      "    accuracy                          0.658      8534\n",
      "   macro avg      0.639     0.656     0.642      8534\n",
      "weighted avg      0.640     0.658     0.643      8534\n",
      "\n"
     ]
    },
    {
     "data": {
      "image/png": "[encoded data removed]",
      "text/plain": [
       "<Figure size 504x504 with 1 Axes>"
      ]
     },
     "metadata": {
      "needs_background": "light"
     },
     "output_type": "display_data"
    }
   ],
   "source": [
    "def plot_confusion_matrix(cm, labels, cmap=plt.cm.Blues):\n",
    "    fig, ax = plt.subplots(figsize=(7, 7), tight_layout=True)\n",
    "    ax.imshow(cm, interpolation='nearest', cmap=cmap)\n",
    "    for i in range(cm.shape[1]):\n",
    "        for j in range(cm.shape[0]):\n",
    "            ax.text(j, i, \"{:,}\".format(cm[i, j]), \n",
    "                    horizontalalignment=\"center\", verticalalignment=\"center\",\n",
    "                    color=\"white\" if cm[i, j] > np.amax(cm)/2 else \"black\")\n",
    "    ax.set_title(\"Matriz de confusión\")\n",
    "    tick_marks = np.arange(len(labels))\n",
    "    plt.xticks(tick_marks, labels, rotation='vertical')\n",
    "    plt.yticks(tick_marks, labels)\n",
    "    plt.ylabel('Etiqueta real')\n",
    "    plt.xlabel('Predicción')\n",
    "\n",
    "cm = confusion_matrix(y_true, y_pred)\n",
    "plot_confusion_matrix(cm, labels=list(test['label'].unique()))\n",
    "print(classification_report(y_true, y_pred, digits=3))"
   ]
  },
  {
   "cell_type": "code",
   "execution_count": null,
   "id": "dc4378e6",
   "metadata": {},
   "outputs": [],
   "source": []
  }
 ],
 "metadata": {
  "kernelspec": {
   "display_name": "Python 3 (ipykernel)",
   "language": "python",
   "name": "python3"
  },
  "language_info": {
   "codemirror_mode": {
    "name": "ipython",
    "version": 3
   },
   "file_extension": ".py",
   "mimetype": "text/x-python",
   "name": "python",
   "nbconvert_exporter": "python",
   "pygments_lexer": "ipython3",
   "version": "3.8.10"
  }
 },
 "nbformat": 4,
 "nbformat_minor": 5
}

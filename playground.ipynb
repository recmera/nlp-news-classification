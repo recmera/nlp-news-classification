{
 "cells": [
  {
   "cell_type": "markdown",
   "id": "d7f650f8",
   "metadata": {
    "scrolled": false
   },
   "source": [
    "# TAL aplicado al análisis del discurso de los medios de prensa 📰🤓🔥\n",
    "\n",
    "\n",
    "El proyecto consiste en entrenar y evaluar varios modelos de clasificación supervisada capaz de clasificar una noticia según la taxonomía siguiente: \n"
   ]
  },
  {
   "cell_type": "code",
   "execution_count": 1,
   "id": "800af885",
   "metadata": {},
   "outputs": [],
   "source": [
    "topics = [\n",
    "    'mundo', 'economía', 'política y conflictos', 'ciencia y tecnología',\n",
    "    'catástrofes y accidentes', 'cultura y arte', 'deporte', 'ecología y planeta',\n",
    "    'crimen, delitos y justicia', 'salud'\n",
    "]"
   ]
  },
  {
   "cell_type": "markdown",
   "id": "172a8e0a",
   "metadata": {},
   "source": [
    "- Hito Unidad 1 (29 de septiembre): Datasets de entrenamiento y test + primer modelo baseline\n",
    "\n",
    "- Hito Unidad 2 (27 de octubre): Implementación y experimentos de varios modelos de clasificación\n",
    "\n",
    "- Hito Proyecto (15 de diciembre): Evaluación y comparación de los modelos de los distintos equipos + integración de los mejores modelos en la arquitectura Sophia2.\n",
    "\n",
    "\n",
    "### índex\n",
    "\n",
    "1. [Importación del dataset de entrenamiento](a)\n",
    "2. [Extracción de términos clave de columnas title+text](b)\n",
    "3. [Clasificación del dataset de entrenamiento](c)\n",
    "4. [Balance de clases dataset de entrenamiento](d)\n",
    "5. [Importación de los dataset restantes](e)\n",
    "6. [Dividir dataset en entrenamiento y test](f)\n",
    "7. [Dividir dataset entrenamiento en entrenamiento y validación](g)\n",
    "\n"
   ]
  },
  {
   "cell_type": "code",
   "execution_count": 2,
   "id": "22cb9fba",
   "metadata": {},
   "outputs": [
    {
     "name": "stdout",
     "output_type": "stream",
     "text": [
      "versión de Spacy:  3.1.3\n"
     ]
    }
   ],
   "source": [
    "import warnings\n",
    "warnings.filterwarnings('ignore')\n",
    "%matplotlib notebook\n",
    "\n",
    "# Data manipulation\n",
    "import re\n",
    "import multiprocessing\n",
    "import matplotlib.pyplot as plt\n",
    "import pandas as pd\n",
    "import numpy as np\n",
    "from sklearn.model_selection import train_test_split\n",
    "\n",
    "# NLP\n",
    "import gensim\n",
    "import gensim.corpora as corpora\n",
    "from gensim.utils import simple_preprocess\n",
    "from gensim.models import Word2Vec, CoherenceModel\n",
    "#import pyLDAvis\n",
    "#import pyLDAvis.gensim_models  # don't skip this\n",
    "import nltk \n",
    "#nltk.download('stopwords') \n",
    "import spacy\n",
    "from spacy.matcher import Matcher\n",
    "nlp = spacy.load(\"es_core_news_sm\")\n",
    "print(\"versión de Spacy: \", spacy.__version__)"
   ]
  },
  {
   "cell_type": "markdown",
   "id": "f5fcb00f",
   "metadata": {},
   "source": [
    "### 1. Importación del dataset de entrenamiento <a name=\"a\"></a>"
   ]
  },
  {
   "cell_type": "code",
   "execution_count": 3,
   "id": "786b14a1",
   "metadata": {
    "scrolled": false
   },
   "outputs": [
    {
     "name": "stdout",
     "output_type": "stream",
     "text": [
      "100\n"
     ]
    },
    {
     "data": {
      "text/html": [
       "<div>\n",
       "<style scoped>\n",
       "    .dataframe tbody tr th:only-of-type {\n",
       "        vertical-align: middle;\n",
       "    }\n",
       "\n",
       "    .dataframe tbody tr th {\n",
       "        vertical-align: top;\n",
       "    }\n",
       "\n",
       "    .dataframe thead th {\n",
       "        text-align: right;\n",
       "    }\n",
       "</style>\n",
       "<table border=\"1\" class=\"dataframe\">\n",
       "  <thead>\n",
       "    <tr style=\"text-align: right;\">\n",
       "      <th></th>\n",
       "      <th>id</th>\n",
       "      <th>country</th>\n",
       "      <th>media_outlet</th>\n",
       "      <th>url</th>\n",
       "      <th>title</th>\n",
       "      <th>text</th>\n",
       "      <th>date</th>\n",
       "      <th>year</th>\n",
       "      <th>id_journalist</th>\n",
       "    </tr>\n",
       "  </thead>\n",
       "  <tbody>\n",
       "    <tr>\n",
       "      <th>0</th>\n",
       "      <td>49234</td>\n",
       "      <td>chile</td>\n",
       "      <td>horas24</td>\n",
       "      <td>https://www.24horas.cl/coronavirus/tia-pikachu...</td>\n",
       "      <td>\"Tía Pikachu\" por parte empadronado: \"Estoy co...</td>\n",
       "      <td>Ha sufrido los embates del carro lanza aguas,...</td>\n",
       "      <td>2020-09-01</td>\n",
       "      <td>2020.0</td>\n",
       "      <td>NaN</td>\n",
       "    </tr>\n",
       "    <tr>\n",
       "      <th>1</th>\n",
       "      <td>49252</td>\n",
       "      <td>chile</td>\n",
       "      <td>horas24</td>\n",
       "      <td>https://www.24horas.cl/nacional/tia-pikachu-po...</td>\n",
       "      <td>\"Tía Pikachu\" por parte empadronado: \"Estoy co...</td>\n",
       "      <td>NaN</td>\n",
       "      <td>2020-09-01</td>\n",
       "      <td>2020.0</td>\n",
       "      <td>NaN</td>\n",
       "    </tr>\n",
       "    <tr>\n",
       "      <th>2</th>\n",
       "      <td>49277</td>\n",
       "      <td>chile</td>\n",
       "      <td>horas24</td>\n",
       "      <td>https://www.24horas.cl/nacional/los-toscanini-...</td>\n",
       "      <td>Los Toscanini: Cae banda que abastecía a crimi...</td>\n",
       "      <td>NaN</td>\n",
       "      <td>2020-09-01</td>\n",
       "      <td>2020.0</td>\n",
       "      <td>NaN</td>\n",
       "    </tr>\n",
       "  </tbody>\n",
       "</table>\n",
       "</div>"
      ],
      "text/plain": [
       "      id country media_outlet  \\\n",
       "0  49234   chile      horas24   \n",
       "1  49252   chile      horas24   \n",
       "2  49277   chile      horas24   \n",
       "\n",
       "                                                 url  \\\n",
       "0  https://www.24horas.cl/coronavirus/tia-pikachu...   \n",
       "1  https://www.24horas.cl/nacional/tia-pikachu-po...   \n",
       "2  https://www.24horas.cl/nacional/los-toscanini-...   \n",
       "\n",
       "                                               title  \\\n",
       "0  \"Tía Pikachu\" por parte empadronado: \"Estoy co...   \n",
       "1  \"Tía Pikachu\" por parte empadronado: \"Estoy co...   \n",
       "2  Los Toscanini: Cae banda que abastecía a crimi...   \n",
       "\n",
       "                                                text        date    year  \\\n",
       "0   Ha sufrido los embates del carro lanza aguas,...  2020-09-01  2020.0   \n",
       "1                                                NaN  2020-09-01  2020.0   \n",
       "2                                                NaN  2020-09-01  2020.0   \n",
       "\n",
       "   id_journalist  \n",
       "0            NaN  \n",
       "1            NaN  \n",
       "2            NaN  "
      ]
     },
     "metadata": {},
     "output_type": "display_data"
    }
   ],
   "source": [
    "dataset = pd.read_csv(\"data/chile_2020-09.csv\")[:100] #x mientras para facilitar el desarrollo\n",
    "print(\"Largo de dataset: \", len(dataset))\n",
    "display(dataset.head(3))"
   ]
  },
  {
   "cell_type": "code",
   "execution_count": 4,
   "id": "1d7f4fff",
   "metadata": {},
   "outputs": [
    {
     "data": {
      "text/html": [
       "<div>\n",
       "<style scoped>\n",
       "    .dataframe tbody tr th:only-of-type {\n",
       "        vertical-align: middle;\n",
       "    }\n",
       "\n",
       "    .dataframe tbody tr th {\n",
       "        vertical-align: top;\n",
       "    }\n",
       "\n",
       "    .dataframe thead th {\n",
       "        text-align: right;\n",
       "    }\n",
       "</style>\n",
       "<table border=\"1\" class=\"dataframe\">\n",
       "  <thead>\n",
       "    <tr style=\"text-align: right;\">\n",
       "      <th></th>\n",
       "      <th>content</th>\n",
       "      <th>terms</th>\n",
       "    </tr>\n",
       "  </thead>\n",
       "  <tbody>\n",
       "    <tr>\n",
       "      <th>0</th>\n",
       "      <td>\"Tía Pikachu\" por parte empadronado: \"Estoy co...</td>\n",
       "      <td></td>\n",
       "    </tr>\n",
       "    <tr>\n",
       "      <th>3</th>\n",
       "      <td>RM alcanza sus mejores índices de calidad de a...</td>\n",
       "      <td></td>\n",
       "    </tr>\n",
       "    <tr>\n",
       "      <th>6</th>\n",
       "      <td>Paro de camioneros: Supermercados preocupados ...</td>\n",
       "      <td></td>\n",
       "    </tr>\n",
       "  </tbody>\n",
       "</table>\n",
       "</div>"
      ],
      "text/plain": [
       "                                             content terms\n",
       "0  \"Tía Pikachu\" por parte empadronado: \"Estoy co...      \n",
       "3  RM alcanza sus mejores índices de calidad de a...      \n",
       "6  Paro de camioneros: Supermercados preocupados ...      "
      ]
     },
     "metadata": {},
     "output_type": "display_data"
    }
   ],
   "source": [
    "content = dataset[\"title\"] + '. ' + dataset[\"text\"]\n",
    "content.replace(\" \",np.nan,inplace=True)\n",
    "content.dropna(inplace=True)\n",
    "dataset = pd.DataFrame({'content':content, 'terms': \"\"})\n",
    "display(dataset.head(3))"
   ]
  },
  {
   "cell_type": "markdown",
   "id": "45ab702c",
   "metadata": {},
   "source": [
    "### 2.  Extracción de términos clave de columna title+text <a name=\"b\"></a>"
   ]
  },
  {
   "cell_type": "code",
   "execution_count": 5,
   "id": "e6eb9634",
   "metadata": {},
   "outputs": [],
   "source": [
    "matcher = Matcher(nlp.vocab)\n",
    "\n",
    "# Pattern 1: NOUN de NOUN\n",
    "pattern_1 = [{\"POS\": \"NOUN\"},{\"LOWER\": \"de\"}, {\"POS\": \"NOUN\"}]\n",
    "matcher.add(\"NOUN-de-NOUN\", [pattern_1])\n",
    "\n",
    "# Pattern 2: NOUN ADJ\n",
    "pattern_2 = [{\"POS\": \"NOUN\"}, {\"POS\": \"ADJ\"}]\n",
    "matcher.add(\"NOUN-ADJ\", [pattern_2])\n",
    "\n",
    "# Pattern 3: \n",
    "\n",
    "\n",
    "\n"
   ]
  },
  {
   "cell_type": "markdown",
   "id": "8a110d7e",
   "metadata": {},
   "source": [
    "    Bloque de alto coste computacional ⬇️"
   ]
  },
  {
   "cell_type": "code",
   "execution_count": 6,
   "id": "f3e12b1d",
   "metadata": {},
   "outputs": [
    {
     "data": {
      "text/html": [
       "<div>\n",
       "<style scoped>\n",
       "    .dataframe tbody tr th:only-of-type {\n",
       "        vertical-align: middle;\n",
       "    }\n",
       "\n",
       "    .dataframe tbody tr th {\n",
       "        vertical-align: top;\n",
       "    }\n",
       "\n",
       "    .dataframe thead th {\n",
       "        text-align: right;\n",
       "    }\n",
       "</style>\n",
       "<table border=\"1\" class=\"dataframe\">\n",
       "  <thead>\n",
       "    <tr style=\"text-align: right;\">\n",
       "      <th></th>\n",
       "      <th>content</th>\n",
       "      <th>terms</th>\n",
       "    </tr>\n",
       "  </thead>\n",
       "  <tbody>\n",
       "    <tr>\n",
       "      <th>0</th>\n",
       "      <td>\"Tía Pikachu\" por parte empadronado: \"Estoy co...</td>\n",
       "      <td>parte empadronado; par de oportunidades; estal...</td>\n",
       "    </tr>\n",
       "    <tr>\n",
       "      <th>3</th>\n",
       "      <td>RM alcanza sus mejores índices de calidad de a...</td>\n",
       "      <td>índices de calidad; calidad de aire; resultado...</td>\n",
       "    </tr>\n",
       "    <tr>\n",
       "      <th>6</th>\n",
       "      <td>Paro de camioneros: Supermercados preocupados ...</td>\n",
       "      <td>Paro de camioneros; problemas de desabastecimi...</td>\n",
       "    </tr>\n",
       "  </tbody>\n",
       "</table>\n",
       "</div>"
      ],
      "text/plain": [
       "                                             content  \\\n",
       "0  \"Tía Pikachu\" por parte empadronado: \"Estoy co...   \n",
       "3  RM alcanza sus mejores índices de calidad de a...   \n",
       "6  Paro de camioneros: Supermercados preocupados ...   \n",
       "\n",
       "                                               terms  \n",
       "0  parte empadronado; par de oportunidades; estal...  \n",
       "3  índices de calidad; calidad de aire; resultado...  \n",
       "6  Paro de camioneros; problemas de desabastecimi...  "
      ]
     },
     "metadata": {},
     "output_type": "display_data"
    }
   ],
   "source": [
    "for index, row in dataset.iterrows():\n",
    "    doc = nlp(row['content'])\n",
    "    matches = matcher(doc)\n",
    "    categories = \"\"\n",
    "    for match_id, start, end in matches:\n",
    "        string_id = nlp.vocab.strings[match_id]  # Get string representation\n",
    "        span = doc[start:end]  # The matched span\n",
    "        categories = categories + span.text + \"; \"\n",
    "    \n",
    "    row['terms'] = categories\n",
    "    \n",
    "display(dataset.head(3))"
   ]
  },
  {
   "cell_type": "code",
   "execution_count": 7,
   "id": "13c423a6",
   "metadata": {},
   "outputs": [
    {
     "data": {
      "text/html": [
       "<div>\n",
       "<style scoped>\n",
       "    .dataframe tbody tr th:only-of-type {\n",
       "        vertical-align: middle;\n",
       "    }\n",
       "\n",
       "    .dataframe tbody tr th {\n",
       "        vertical-align: top;\n",
       "    }\n",
       "\n",
       "    .dataframe thead th {\n",
       "        text-align: right;\n",
       "    }\n",
       "</style>\n",
       "<table border=\"1\" class=\"dataframe\">\n",
       "  <thead>\n",
       "    <tr style=\"text-align: right;\">\n",
       "      <th></th>\n",
       "      <th>content</th>\n",
       "      <th>terms</th>\n",
       "      <th>most_common</th>\n",
       "    </tr>\n",
       "  </thead>\n",
       "  <tbody>\n",
       "    <tr>\n",
       "      <th>0</th>\n",
       "      <td>\"Tía Pikachu\" por parte empadronado: \"Estoy co...</td>\n",
       "      <td>parte empadronado; par de oportunidades; estal...</td>\n",
       "      <td>parte empadronado</td>\n",
       "    </tr>\n",
       "    <tr>\n",
       "      <th>3</th>\n",
       "      <td>RM alcanza sus mejores índices de calidad de a...</td>\n",
       "      <td>índices de calidad; calidad de aire; resultado...</td>\n",
       "      <td>elemento de calefacción</td>\n",
       "    </tr>\n",
       "    <tr>\n",
       "      <th>6</th>\n",
       "      <td>Paro de camioneros: Supermercados preocupados ...</td>\n",
       "      <td>Paro de camioneros; problemas de desabastecimi...</td>\n",
       "      <td>problemas de desabastecimiento</td>\n",
       "    </tr>\n",
       "  </tbody>\n",
       "</table>\n",
       "</div>"
      ],
      "text/plain": [
       "                                             content  \\\n",
       "0  \"Tía Pikachu\" por parte empadronado: \"Estoy co...   \n",
       "3  RM alcanza sus mejores índices de calidad de a...   \n",
       "6  Paro de camioneros: Supermercados preocupados ...   \n",
       "\n",
       "                                               terms  \\\n",
       "0  parte empadronado; par de oportunidades; estal...   \n",
       "3  índices de calidad; calidad de aire; resultado...   \n",
       "6  Paro de camioneros; problemas de desabastecimi...   \n",
       "\n",
       "                      most_common  \n",
       "0               parte empadronado  \n",
       "3         elemento de calefacción  \n",
       "6  problemas de desabastecimiento  "
      ]
     },
     "metadata": {},
     "output_type": "display_data"
    },
    {
     "data": {
      "text/plain": [
       "paro de camioneros            4\n",
       "acusación constitucional      4\n",
       "mujeres semidesnudas          3\n",
       "zona norte                    2\n",
       "libertad condicional          2\n",
       "                             ..\n",
       "casos activos                 1\n",
       "responsabilidad compartida    1\n",
       "capital regional              1\n",
       "relleno sanitario             1\n",
       "audio inédito                 1\n",
       "Name: most_common, Length: 79, dtype: int64"
      ]
     },
     "metadata": {},
     "output_type": "display_data"
    }
   ],
   "source": [
    "from collections import Counter\n",
    "dataset[\"most_common\"] = \"\"\n",
    "for index, row in dataset.iterrows():\n",
    "    split_it = row['terms'].split(\"; \")\n",
    "    counter = Counter(split_it)\n",
    "    row['most_common'] = counter.most_common()[0][0]\n",
    "\n",
    "display(dataset.head(3),dataset['most_common'].value_counts())"
   ]
  },
  {
   "cell_type": "code",
   "execution_count": null,
   "id": "601916de",
   "metadata": {
    "scrolled": false
   },
   "outputs": [],
   "source": []
  },
  {
   "cell_type": "code",
   "execution_count": null,
   "id": "879a57b9",
   "metadata": {},
   "outputs": [],
   "source": []
  },
  {
   "cell_type": "code",
   "execution_count": null,
   "id": "302eafe3",
   "metadata": {},
   "outputs": [],
   "source": []
  },
  {
   "cell_type": "markdown",
   "id": "0f324d9d",
   "metadata": {},
   "source": [
    "### 3. Clasificación del dataset de entrenamiento <a name=\"c\"></a>\n",
    "Aplicaremos LDA a cada noticia y extraeremos sus tópicos, luego evaluaremos esos tópicos con las categorias deseadas.\n"
   ]
  },
  {
   "cell_type": "code",
   "execution_count": null,
   "id": "d07db1b7",
   "metadata": {},
   "outputs": [],
   "source": [
    "dataset['category'] = \"\"\n",
    "#for index, row in dataset.iterrows():\n",
    "#    for index in topics:\n",
    "\n",
    "dataset"
   ]
  },
  {
   "cell_type": "code",
   "execution_count": null,
   "id": "ce6ec148",
   "metadata": {},
   "outputs": [],
   "source": []
  },
  {
   "cell_type": "markdown",
   "id": "387e5f1d",
   "metadata": {},
   "source": [
    "### 4.  Balance de clases dataset de entrenamiento <a name=\"d\"></a>\n",
    "Visualizamos la densidad de los tópicos con tal de combatir el sobreajuste si corresponde"
   ]
  },
  {
   "cell_type": "code",
   "execution_count": null,
   "id": "7b5187e9",
   "metadata": {},
   "outputs": [],
   "source": [
    "fig, ax = plt.subplots(1, figsize=(9,5), tight_layout=True)\n",
    "ax.hist(dataset['category'],edgecolor = 'black',bins=dataset['category'].unique())\n",
    "plt.xticks(rotation='vertical', fontsize=7)\n",
    "plt.ylabel(\"densidad\")\n",
    "plt.show()"
   ]
  },
  {
   "cell_type": "code",
   "execution_count": null,
   "id": "cb902858",
   "metadata": {},
   "outputs": [],
   "source": []
  },
  {
   "cell_type": "code",
   "execution_count": null,
   "id": "49017fdc",
   "metadata": {},
   "outputs": [],
   "source": []
  },
  {
   "cell_type": "code",
   "execution_count": null,
   "id": "f8a2834a",
   "metadata": {},
   "outputs": [],
   "source": []
  },
  {
   "cell_type": "code",
   "execution_count": null,
   "id": "50f8c862",
   "metadata": {},
   "outputs": [],
   "source": []
  },
  {
   "cell_type": "code",
   "execution_count": null,
   "id": "447d1964",
   "metadata": {},
   "outputs": [],
   "source": []
  },
  {
   "cell_type": "code",
   "execution_count": null,
   "id": "3340491c",
   "metadata": {},
   "outputs": [],
   "source": []
  },
  {
   "cell_type": "code",
   "execution_count": null,
   "id": "cb3894dc",
   "metadata": {},
   "outputs": [],
   "source": []
  },
  {
   "cell_type": "code",
   "execution_count": null,
   "id": "2cc9edd5",
   "metadata": {},
   "outputs": [],
   "source": []
  },
  {
   "cell_type": "code",
   "execution_count": null,
   "id": "c67841f9",
   "metadata": {},
   "outputs": [],
   "source": []
  }
 ],
 "metadata": {
  "kernelspec": {
   "display_name": "Python 3 (ipykernel)",
   "language": "python",
   "name": "python3"
  },
  "language_info": {
   "codemirror_mode": {
    "name": "ipython",
    "version": 3
   },
   "file_extension": ".py",
   "mimetype": "text/x-python",
   "name": "python",
   "nbconvert_exporter": "python",
   "pygments_lexer": "ipython3",
   "version": "3.9.7"
  }
 },
 "nbformat": 4,
 "nbformat_minor": 5
}

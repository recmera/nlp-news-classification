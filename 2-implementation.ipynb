{
 "cells": [
  {
   "cell_type": "markdown",
   "id": "5d5830a5",
   "metadata": {},
   "source": [
    "# TAL aplicado al análisis del discurso de los medios de prensa 📰🤓🔥\n",
    "\n",
    "El dataset se clasificará en función de las siguientes etiquetas:\n",
    "- mundo = 0 \n",
    "- economía = 1 \n",
    "- política y conflictos = 2 \n",
    "- ciencia y tecnología = 3\n",
    "- catástrofes y accidentes = 4 \n",
    "- cultura y arte = 5 \n",
    "- deporte = 6 \n",
    "- ecología y planeta = 7\n",
    "- crimen, delitos y justicia = 8 \n",
    "- salud = 9\n",
    "\n",
    "### Cronograma\n",
    "\n",
    "- Hito Unidad 2 (27 de octubre): Implementación y experimentos de varios modelos de clasificación\n",
    "\n",
    "- Hito Proyecto (15 de diciembre): Evaluación y comparación de los modelos de los distintos equipos + integración de los mejores modelos en la arquitectura Sophia2.\n",
    "\n",
    "\n",
    "### índex\n",
    "1. [Importación del dataset](a)\n",
    "2. [Balancear dataset](b)\n",
    "3. []\n",
    "\n"
   ]
  },
  {
   "cell_type": "code",
   "execution_count": 20,
   "id": "a0867b56",
   "metadata": {},
   "outputs": [],
   "source": [
    "import warnings\n",
    "warnings.filterwarnings('ignore')\n",
    "\n",
    "# Data manipulation\n",
    "import re\n",
    "import pandas as pd\n",
    "import numpy as np\n",
    "from sklearn.model_selection import train_test_split\n"
   ]
  },
  {
   "cell_type": "markdown",
   "id": "0ac66af0",
   "metadata": {},
   "source": [
    "### 1. Importación del dataset"
   ]
  },
  {
   "cell_type": "code",
   "execution_count": 3,
   "id": "11a71733",
   "metadata": {},
   "outputs": [
    {
     "data": {
      "text/html": [
       "<div>\n",
       "<style scoped>\n",
       "    .dataframe tbody tr th:only-of-type {\n",
       "        vertical-align: middle;\n",
       "    }\n",
       "\n",
       "    .dataframe tbody tr th {\n",
       "        vertical-align: top;\n",
       "    }\n",
       "\n",
       "    .dataframe thead th {\n",
       "        text-align: right;\n",
       "    }\n",
       "</style>\n",
       "<table border=\"1\" class=\"dataframe\">\n",
       "  <thead>\n",
       "    <tr style=\"text-align: right;\">\n",
       "      <th></th>\n",
       "      <th>text</th>\n",
       "      <th>content</th>\n",
       "      <th>topic</th>\n",
       "      <th>label</th>\n",
       "    </tr>\n",
       "  </thead>\n",
       "  <tbody>\n",
       "    <tr>\n",
       "      <th>0</th>\n",
       "      <td>Huasco fue el epicentro de los temblores 7,0 y...</td>\n",
       "      <td>Edificio se inunda tras rotura de piscina en C...</td>\n",
       "      <td>politica</td>\n",
       "      <td>2.0</td>\n",
       "    </tr>\n",
       "    <tr>\n",
       "      <th>1</th>\n",
       "      <td>El presidente estadounidense, Donald Trump, ca...</td>\n",
       "      <td>Trump visita Kenosha y califica de \"terrorismo...</td>\n",
       "      <td>mouse</td>\n",
       "      <td>3.0</td>\n",
       "    </tr>\n",
       "    <tr>\n",
       "      <th>2</th>\n",
       "      <td>Los secretos del narcotraficante colombiano, P...</td>\n",
       "      <td>El secreto detalle en la vestimenta de Pablo E...</td>\n",
       "      <td>mouse</td>\n",
       "      <td>3.0</td>\n",
       "    </tr>\n",
       "    <tr>\n",
       "      <th>3</th>\n",
       "      <td>En un inédito caso, un tiburón sin piel fue en...</td>\n",
       "      <td>Extraño tiburón sin piel es avistado nadando e...</td>\n",
       "      <td>mouse</td>\n",
       "      <td>3.0</td>\n",
       "    </tr>\n",
       "    <tr>\n",
       "      <th>4</th>\n",
       "      <td>Un nuevo libro escrito por la exmejor amiga de...</td>\n",
       "      <td>\"Melania y yo\": La exmejor mejor amiga revela ...</td>\n",
       "      <td>mouse</td>\n",
       "      <td>3.0</td>\n",
       "    </tr>\n",
       "    <tr>\n",
       "      <th>...</th>\n",
       "      <td>...</td>\n",
       "      <td>...</td>\n",
       "      <td>...</td>\n",
       "      <td>...</td>\n",
       "    </tr>\n",
       "    <tr>\n",
       "      <th>69308</th>\n",
       "      <td>El  ministro de Salud, Enrique Paris,  destacó...</td>\n",
       "      <td>Paris destaca caída \"moderada\" de casos, pero ...</td>\n",
       "      <td>nacional</td>\n",
       "      <td>9.0</td>\n",
       "    </tr>\n",
       "    <tr>\n",
       "      <th>69309</th>\n",
       "      <td>El diputado y presidente de la  comisión de Co...</td>\n",
       "      <td>Diputado Ilabaca (PS) critica al Gobierno por ...</td>\n",
       "      <td>nacional</td>\n",
       "      <td>2.0</td>\n",
       "    </tr>\n",
       "    <tr>\n",
       "      <th>69310</th>\n",
       "      <td>Con una mirada crítica reaccionó la  president...</td>\n",
       "      <td>Provoste se distancia de anuncio del President...</td>\n",
       "      <td>nacional</td>\n",
       "      <td>2.0</td>\n",
       "    </tr>\n",
       "    <tr>\n",
       "      <th>69311</th>\n",
       "      <td>Tras la autorización del Instituto de Salud Pú...</td>\n",
       "      <td>Vacunas CanSino, que requieren una sola dosis,...</td>\n",
       "      <td>nacional</td>\n",
       "      <td>9.0</td>\n",
       "    </tr>\n",
       "    <tr>\n",
       "      <th>69312</th>\n",
       "      <td>El ex ministro de Hacienda,  Ignacio Briones ,...</td>\n",
       "      <td>Briones y ausencia en anuncio en La Moneda: No...</td>\n",
       "      <td>nacional</td>\n",
       "      <td>2.0</td>\n",
       "    </tr>\n",
       "  </tbody>\n",
       "</table>\n",
       "<p>69313 rows × 4 columns</p>\n",
       "</div>"
      ],
      "text/plain": [
       "                                                    text  \\\n",
       "0      Huasco fue el epicentro de los temblores 7,0 y...   \n",
       "1      El presidente estadounidense, Donald Trump, ca...   \n",
       "2      Los secretos del narcotraficante colombiano, P...   \n",
       "3      En un inédito caso, un tiburón sin piel fue en...   \n",
       "4      Un nuevo libro escrito por la exmejor amiga de...   \n",
       "...                                                  ...   \n",
       "69308  El  ministro de Salud, Enrique Paris,  destacó...   \n",
       "69309  El diputado y presidente de la  comisión de Co...   \n",
       "69310  Con una mirada crítica reaccionó la  president...   \n",
       "69311  Tras la autorización del Instituto de Salud Pú...   \n",
       "69312  El ex ministro de Hacienda,  Ignacio Briones ,...   \n",
       "\n",
       "                                                 content     topic  label  \n",
       "0      Edificio se inunda tras rotura de piscina en C...  politica    2.0  \n",
       "1      Trump visita Kenosha y califica de \"terrorismo...     mouse    3.0  \n",
       "2      El secreto detalle en la vestimenta de Pablo E...     mouse    3.0  \n",
       "3      Extraño tiburón sin piel es avistado nadando e...     mouse    3.0  \n",
       "4      \"Melania y yo\": La exmejor mejor amiga revela ...     mouse    3.0  \n",
       "...                                                  ...       ...    ...  \n",
       "69308  Paris destaca caída \"moderada\" de casos, pero ...  nacional    9.0  \n",
       "69309  Diputado Ilabaca (PS) critica al Gobierno por ...  nacional    2.0  \n",
       "69310  Provoste se distancia de anuncio del President...  nacional    2.0  \n",
       "69311  Vacunas CanSino, que requieren una sola dosis,...  nacional    9.0  \n",
       "69312  Briones y ausencia en anuncio en La Moneda: No...  nacional    2.0  \n",
       "\n",
       "[69313 rows x 4 columns]"
      ]
     },
     "execution_count": 3,
     "metadata": {},
     "output_type": "execute_result"
    }
   ],
   "source": [
    "df = pd.read_csv(\"topics.csv\",sep=',',error_bad_lines=False)\n",
    "df.drop(['Unnamed: 0'], axis = 1, inplace=True) # Para suprimir la columna ID\n",
    "df.drop(columns=['media_outlet', 'url'], inplace=True)\n",
    "df"
   ]
  },
  {
   "cell_type": "code",
   "execution_count": 4,
   "id": "7f795e73",
   "metadata": {},
   "outputs": [
    {
     "data": {
      "text/plain": [
       "9.0    15221\n",
       "2.0    14140\n",
       "0.0    11417\n",
       "8.0    10700\n",
       "6.0     9609\n",
       "3.0     5689\n",
       "1.0     2134\n",
       "5.0      228\n",
       "7.0      175\n",
       "Name: label, dtype: int64"
      ]
     },
     "execution_count": 4,
     "metadata": {},
     "output_type": "execute_result"
    }
   ],
   "source": [
    "df['label'].value_counts()"
   ]
  },
  {
   "cell_type": "markdown",
   "id": "c6ff216e",
   "metadata": {},
   "source": [
    "### 2. Balancear dataset"
   ]
  },
  {
   "cell_type": "code",
   "execution_count": null,
   "id": "ebb1bcb3",
   "metadata": {},
   "outputs": [],
   "source": []
  },
  {
   "cell_type": "code",
   "execution_count": null,
   "id": "b316b578",
   "metadata": {},
   "outputs": [],
   "source": [
    "valid, test, train = np.split(df, [int(.15*len(df)), int(.3*len(df))])"
   ]
  },
  {
   "cell_type": "code",
   "execution_count": null,
   "id": "4b1c8d1a",
   "metadata": {},
   "outputs": [],
   "source": [
    "display(len(valid),len(test),len(train))"
   ]
  }
 ],
 "metadata": {
  "kernelspec": {
   "display_name": "Python 3 (ipykernel)",
   "language": "python",
   "name": "python3"
  },
  "language_info": {
   "codemirror_mode": {
    "name": "ipython",
    "version": 3
   },
   "file_extension": ".py",
   "mimetype": "text/x-python",
   "name": "python",
   "nbconvert_exporter": "python",
   "pygments_lexer": "ipython3",
   "version": "3.9.7"
  }
 },
 "nbformat": 4,
 "nbformat_minor": 5
}

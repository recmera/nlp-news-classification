{
 "cells": [
  {
   "cell_type": "markdown",
   "id": "5d5830a5",
   "metadata": {},
   "source": [
    "# TAL aplicado al análisis del discurso de los medios de prensa 📰🤓🔥\n",
    "\n",
    "El dataset se clasificará en función de las siguientes etiquetas:\n",
    "- mundo = 0 \n",
    "- economía = 1 \n",
    "- política y conflictos = 2 \n",
    "- ciencia y tecnología = 3\n",
    "- catástrofes y accidentes = 4 \n",
    "- cultura y arte = 5 \n",
    "- deporte = 6 \n",
    "- ecología y planeta = 7\n",
    "- crimen, delitos y justicia = 8 \n",
    "- salud = 9\n",
    "\n",
    "### Cronograma\n",
    "\n",
    "- Hito Unidad 2 (27 de octubre): Implementación y experimentos de varios modelos de clasificación\n",
    "\n",
    "- Hito Proyecto (15 de diciembre): Evaluación y comparación de los modelos de los distintos equipos + integración de los mejores modelos en la arquitectura Sophia2.\n",
    "\n",
    "\n",
    "### índex\n",
    "1. [Importación del dataset](a)\n"
   ]
  },
  {
   "cell_type": "code",
   "execution_count": 4,
   "id": "a0867b56",
   "metadata": {},
   "outputs": [],
   "source": [
    "import warnings\n",
    "warnings.filterwarnings('ignore')\n",
    "\n",
    "# Data manipulation\n",
    "import re\n",
    "import pandas as pd\n",
    "import numpy as np\n",
    "from sklearn.model_selection import train_test_split\n"
   ]
  },
  {
   "cell_type": "code",
   "execution_count": 5,
   "id": "11a71733",
   "metadata": {},
   "outputs": [
    {
     "data": {
      "text/html": [
       "<div>\n",
       "<style scoped>\n",
       "    .dataframe tbody tr th:only-of-type {\n",
       "        vertical-align: middle;\n",
       "    }\n",
       "\n",
       "    .dataframe tbody tr th {\n",
       "        vertical-align: top;\n",
       "    }\n",
       "\n",
       "    .dataframe thead th {\n",
       "        text-align: right;\n",
       "    }\n",
       "</style>\n",
       "<table border=\"1\" class=\"dataframe\">\n",
       "  <thead>\n",
       "    <tr style=\"text-align: right;\">\n",
       "      <th></th>\n",
       "      <th>media_outlet</th>\n",
       "      <th>url</th>\n",
       "      <th>text</th>\n",
       "      <th>content</th>\n",
       "      <th>topic</th>\n",
       "      <th>label</th>\n",
       "    </tr>\n",
       "  </thead>\n",
       "  <tbody>\n",
       "    <tr>\n",
       "      <th>0</th>\n",
       "      <td>ahoranoticiasmega</td>\n",
       "      <td>https://www.meganoticias.cl/nacional/312252-ed...</td>\n",
       "      <td>Huasco fue el epicentro de los temblores 7,0 y...</td>\n",
       "      <td>Edificio se inunda tras rotura de piscina en C...</td>\n",
       "      <td>politica</td>\n",
       "      <td>2.0</td>\n",
       "    </tr>\n",
       "    <tr>\n",
       "      <th>1</th>\n",
       "      <td>ahoranoticiasmega</td>\n",
       "      <td>https://www.meganoticias.cl/mundo/312352-donal...</td>\n",
       "      <td>El presidente estadounidense, Donald Trump, ca...</td>\n",
       "      <td>Trump visita Kenosha y califica de \"terrorismo...</td>\n",
       "      <td>mouse</td>\n",
       "      <td>3.0</td>\n",
       "    </tr>\n",
       "    <tr>\n",
       "      <th>2</th>\n",
       "      <td>ahoranoticiasmega</td>\n",
       "      <td>https://www.meganoticias.cl/mundo/312299-pablo...</td>\n",
       "      <td>Los secretos del narcotraficante colombiano, P...</td>\n",
       "      <td>El secreto detalle en la vestimenta de Pablo E...</td>\n",
       "      <td>mouse</td>\n",
       "      <td>3.0</td>\n",
       "    </tr>\n",
       "    <tr>\n",
       "      <th>3</th>\n",
       "      <td>ahoranoticiasmega</td>\n",
       "      <td>https://www.meganoticias.cl/mundo/312317-tibur...</td>\n",
       "      <td>En un inédito caso, un tiburón sin piel fue en...</td>\n",
       "      <td>Extraño tiburón sin piel es avistado nadando e...</td>\n",
       "      <td>mouse</td>\n",
       "      <td>3.0</td>\n",
       "    </tr>\n",
       "    <tr>\n",
       "      <th>4</th>\n",
       "      <td>ahoranoticiasmega</td>\n",
       "      <td>https://www.meganoticias.cl/mundo/312338-libro...</td>\n",
       "      <td>Un nuevo libro escrito por la exmejor amiga de...</td>\n",
       "      <td>\"Melania y yo\": La exmejor mejor amiga revela ...</td>\n",
       "      <td>mouse</td>\n",
       "      <td>3.0</td>\n",
       "    </tr>\n",
       "    <tr>\n",
       "      <th>...</th>\n",
       "      <td>...</td>\n",
       "      <td>...</td>\n",
       "      <td>...</td>\n",
       "      <td>...</td>\n",
       "      <td>...</td>\n",
       "      <td>...</td>\n",
       "    </tr>\n",
       "    <tr>\n",
       "      <th>67334</th>\n",
       "      <td>emol</td>\n",
       "      <td>https://www.emol.com/noticias/Nacional/2021/04...</td>\n",
       "      <td>Tras la autorización del Instituto de Salud Pú...</td>\n",
       "      <td>Vacunas CanSino, que requieren una sola dosis,...</td>\n",
       "      <td>nacional</td>\n",
       "      <td>NaN</td>\n",
       "    </tr>\n",
       "    <tr>\n",
       "      <th>67335</th>\n",
       "      <td>emol</td>\n",
       "      <td>https://www.emol.com/noticias/Nacional/2021/04...</td>\n",
       "      <td>El ex ministro de Hacienda,  Ignacio Briones ,...</td>\n",
       "      <td>Briones y ausencia en anuncio en La Moneda: No...</td>\n",
       "      <td>nacional</td>\n",
       "      <td>NaN</td>\n",
       "    </tr>\n",
       "    <tr>\n",
       "      <th>67336</th>\n",
       "      <td>emol</td>\n",
       "      <td>https://www.emol.com/noticias/Nacional/2021/04...</td>\n",
       "      <td>Las diferencias entre el permiso para el matri...</td>\n",
       "      <td>Permiso único uniformará regulación de matrimo...</td>\n",
       "      <td>nacional</td>\n",
       "      <td>NaN</td>\n",
       "    </tr>\n",
       "    <tr>\n",
       "      <th>67337</th>\n",
       "      <td>emol</td>\n",
       "      <td>https://www.emol.com/noticias/Nacional/2021/04...</td>\n",
       "      <td>Una nueva entrega de la encuesta Cadem, que co...</td>\n",
       "      <td>Aprobación de Presidente Piñera llega al 9%, e...</td>\n",
       "      <td>nacional</td>\n",
       "      <td>NaN</td>\n",
       "    </tr>\n",
       "    <tr>\n",
       "      <th>67338</th>\n",
       "      <td>emol</td>\n",
       "      <td>https://www.emol.com/noticias/Nacional/2021/04...</td>\n",
       "      <td>Luego de que este domingo el  Presidente Sebas...</td>\n",
       "      <td>Oposición critica que el Gobierno \"llega tarde...</td>\n",
       "      <td>nacional</td>\n",
       "      <td>NaN</td>\n",
       "    </tr>\n",
       "  </tbody>\n",
       "</table>\n",
       "<p>67339 rows × 6 columns</p>\n",
       "</div>"
      ],
      "text/plain": [
       "            media_outlet                                                url  \\\n",
       "0      ahoranoticiasmega  https://www.meganoticias.cl/nacional/312252-ed...   \n",
       "1      ahoranoticiasmega  https://www.meganoticias.cl/mundo/312352-donal...   \n",
       "2      ahoranoticiasmega  https://www.meganoticias.cl/mundo/312299-pablo...   \n",
       "3      ahoranoticiasmega  https://www.meganoticias.cl/mundo/312317-tibur...   \n",
       "4      ahoranoticiasmega  https://www.meganoticias.cl/mundo/312338-libro...   \n",
       "...                  ...                                                ...   \n",
       "67334               emol  https://www.emol.com/noticias/Nacional/2021/04...   \n",
       "67335               emol  https://www.emol.com/noticias/Nacional/2021/04...   \n",
       "67336               emol  https://www.emol.com/noticias/Nacional/2021/04...   \n",
       "67337               emol  https://www.emol.com/noticias/Nacional/2021/04...   \n",
       "67338               emol  https://www.emol.com/noticias/Nacional/2021/04...   \n",
       "\n",
       "                                                    text  \\\n",
       "0      Huasco fue el epicentro de los temblores 7,0 y...   \n",
       "1      El presidente estadounidense, Donald Trump, ca...   \n",
       "2      Los secretos del narcotraficante colombiano, P...   \n",
       "3      En un inédito caso, un tiburón sin piel fue en...   \n",
       "4      Un nuevo libro escrito por la exmejor amiga de...   \n",
       "...                                                  ...   \n",
       "67334  Tras la autorización del Instituto de Salud Pú...   \n",
       "67335  El ex ministro de Hacienda,  Ignacio Briones ,...   \n",
       "67336  Las diferencias entre el permiso para el matri...   \n",
       "67337  Una nueva entrega de la encuesta Cadem, que co...   \n",
       "67338  Luego de que este domingo el  Presidente Sebas...   \n",
       "\n",
       "                                                 content     topic  label  \n",
       "0      Edificio se inunda tras rotura de piscina en C...  politica    2.0  \n",
       "1      Trump visita Kenosha y califica de \"terrorismo...     mouse    3.0  \n",
       "2      El secreto detalle en la vestimenta de Pablo E...     mouse    3.0  \n",
       "3      Extraño tiburón sin piel es avistado nadando e...     mouse    3.0  \n",
       "4      \"Melania y yo\": La exmejor mejor amiga revela ...     mouse    3.0  \n",
       "...                                                  ...       ...    ...  \n",
       "67334  Vacunas CanSino, que requieren una sola dosis,...  nacional    NaN  \n",
       "67335  Briones y ausencia en anuncio en La Moneda: No...  nacional    NaN  \n",
       "67336  Permiso único uniformará regulación de matrimo...  nacional    NaN  \n",
       "67337  Aprobación de Presidente Piñera llega al 9%, e...  nacional    NaN  \n",
       "67338  Oposición critica que el Gobierno \"llega tarde...  nacional    NaN  \n",
       "\n",
       "[67339 rows x 6 columns]"
      ]
     },
     "execution_count": 5,
     "metadata": {},
     "output_type": "execute_result"
    }
   ],
   "source": [
    "df = pd.read_csv(\"topics.csv\",sep=',',error_bad_lines=False)\n",
    "df = df.drop(['Unnamed: 0'], axis = 1) # Para suprimir la columna ID\n",
    "df"
   ]
  },
  {
   "cell_type": "code",
   "execution_count": 6,
   "id": "7f795e73",
   "metadata": {},
   "outputs": [
    {
     "data": {
      "text/plain": [
       "0.0    9913\n",
       "6.0    9609\n",
       "3.0    5689\n",
       "2.0    5020\n",
       "1.0    1774\n",
       "9.0    1133\n",
       "8.0     727\n",
       "5.0     179\n",
       "7.0     168\n",
       "Name: label, dtype: int64"
      ]
     },
     "execution_count": 6,
     "metadata": {},
     "output_type": "execute_result"
    }
   ],
   "source": [
    "df['label'].value_counts()"
   ]
  },
  {
   "cell_type": "code",
   "execution_count": 7,
   "id": "b316b578",
   "metadata": {},
   "outputs": [],
   "source": [
    "valid, test, train = np.split(df, [int(.15*len(df)), int(.3*len(df))])"
   ]
  },
  {
   "cell_type": "code",
   "execution_count": 9,
   "id": "4b1c8d1a",
   "metadata": {},
   "outputs": [
    {
     "data": {
      "text/plain": [
       "10100"
      ]
     },
     "metadata": {},
     "output_type": "display_data"
    },
    {
     "data": {
      "text/plain": [
       "10101"
      ]
     },
     "metadata": {},
     "output_type": "display_data"
    },
    {
     "data": {
      "text/plain": [
       "47138"
      ]
     },
     "metadata": {},
     "output_type": "display_data"
    }
   ],
   "source": [
    "display(len(valid),len(test),len(train))"
   ]
  }
 ],
 "metadata": {
  "kernelspec": {
   "display_name": "Python 3 (ipykernel)",
   "language": "python",
   "name": "python3"
  },
  "language_info": {
   "codemirror_mode": {
    "name": "ipython",
    "version": 3
   },
   "file_extension": ".py",
   "mimetype": "text/x-python",
   "name": "python",
   "nbconvert_exporter": "python",
   "pygments_lexer": "ipython3",
   "version": "3.9.7"
  }
 },
 "nbformat": 4,
 "nbformat_minor": 5
}

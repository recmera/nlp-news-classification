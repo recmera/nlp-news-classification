{
 "cells": [
  {
   "cell_type": "markdown",
   "id": "02c3e123",
   "metadata": {},
   "source": [
    "# Discusión de los resultados\n",
    "\n",
    "## CNN vs RandomForest\n",
    "\n",
    "hola\n",
    "\n",
    "## Nuevos acercamientos \n",
    "\n",
    "### 1. Utilización de APIs para generar el dataset de entrenamiento y traducción\n",
    "\n",
    "Una posibilidad de mejora en la generación del dataset de entrenamiento puede ser mediante la utilización de las APIs de Google News, puesto que permiten extraer fácilmente un gran número de noticias ya clasificadas.\n",
    "\n",
    "- https://gnews.io/\n",
    "- https://newsapi.org/s/google-news-api\n",
    "\n",
    "Sin embargo, estas presentan el inconveniente que entregan noticias en inglés. \n",
    "\n",
    "Esta situación nos hace replantear nuestro acercamiento del proyecto. Creemos factible realizar la clasificación en inglés, con embeddings más robustos.\n",
    "\n",
    "El procedimiento sería el siguiente:\n",
    "\n",
    "Primero, generamos el dataset de entrenamiento realizando consultas a la API sobre las categorías de interés. Podemos extraerlas del ny-times, bbc-news o cualquier otro medio comunicacional. Luego, realizamos el entrenamiento con un modelo CNN o Naive Bayes, debido a que presentan una mejor precisión frente al regresor logístico.\n",
    "\n",
    "Finalmente, mediante la utilización de transformers o, mediante el uso de la API de google translate (https://cloud.google.com/translate/), se traduce la noticia que queremos clasificar al inglés para que nuestro modelo la clasifique. \n",
    "\n"
   ]
  }
 ],
 "metadata": {
  "kernelspec": {
   "display_name": "Python 3 (ipykernel)",
   "language": "python",
   "name": "python3"
  },
  "language_info": {
   "codemirror_mode": {
    "name": "ipython",
    "version": 3
   },
   "file_extension": ".py",
   "mimetype": "text/x-python",
   "name": "python",
   "nbconvert_exporter": "python",
   "pygments_lexer": "ipython3",
   "version": "3.9.7"
  }
 },
 "nbformat": 4,
 "nbformat_minor": 5
}

{
 "cells": [
  {
   "cell_type": "markdown",
   "id": "d7f650f8",
   "metadata": {
    "scrolled": false
   },
   "source": [
    "# TAL aplicado al análisis del discurso de los medios de prensa 📰🤓🔥\n",
    "\n",
    "\n",
    "El proyecto consiste en entrenar y evaluar varios modelos de clasificación supervisada capaz de clasificar una noticia.\n"
   ]
  },
  {
   "cell_type": "markdown",
   "id": "172a8e0a",
   "metadata": {},
   "source": [
    "- Hito Unidad 1 (29 de septiembre): Datasets de entrenamiento y test + primer modelo baseline\n",
    "\n",
    "- Hito Unidad 2 (27 de octubre): Implementación y experimentos de varios modelos de clasificación\n",
    "\n",
    "- Hito Proyecto (15 de diciembre): Evaluación y comparación de los modelos de los distintos equipos + integración de los mejores modelos en la arquitectura Sophia2.\n",
    "\n",
    "\n",
    "### índex\n",
    "\n",
    "1. [Importación del dataset](a)\n",
    "2. [Extracción de tópicos vía RE en URLs](b)\n",
    "3. [Extracción de términos clave de columnas title+text](b)\n",
    "4. [Clasificación del dataset de entrenamiento](c)\n",
    "\n",
    "## Generando dataset de entrenamiento\n",
    "El dataset se clasificará en función de las siguientes etiquetas:\n",
    "- mundo = 0 \n",
    "- economía = 1 \n",
    "- política y conflictos = 2 \n",
    "- ciencia y tecnología = 3\n",
    "- catástrofes y accidentes = 4 \n",
    "- cultura y arte = 5 \n",
    "- deporte = 6 \n",
    "- ecología y planeta = 7\n",
    "- crimen, delitos y justicia = 8 \n",
    "- salud = 9"
   ]
  },
  {
   "cell_type": "code",
   "execution_count": 1,
   "id": "22cb9fba",
   "metadata": {},
   "outputs": [
    {
     "name": "stdout",
     "output_type": "stream",
     "text": [
      "versión de Spacy:  3.1.3\n"
     ]
    }
   ],
   "source": [
    "import warnings\n",
    "warnings.filterwarnings('ignore')\n",
    "\n",
    "# Data manipulation\n",
    "import re\n",
    "import multiprocessing\n",
    "import matplotlib.pyplot as plt\n",
    "import pandas as pd\n",
    "import numpy as np\n",
    "from sklearn.model_selection import train_test_split\n",
    "\n",
    "# NLP\n",
    "import gensim\n",
    "import gensim.corpora as corpora\n",
    "from gensim.utils import simple_preprocess\n",
    "from gensim.models import Word2Vec, CoherenceModel\n",
    "#import pyLDAvis\n",
    "#import pyLDAvis.gensim_models  # don't skip this\n",
    "import nltk \n",
    "#nltk.download('stopwords') \n",
    "import spacy\n",
    "from spacy.matcher import Matcher\n",
    "nlp = spacy.load(\"es_core_news_sm\")\n",
    "print(\"versión de Spacy: \", spacy.__version__)"
   ]
  },
  {
   "cell_type": "markdown",
   "id": "f5fcb00f",
   "metadata": {},
   "source": [
    "### 1. Importación de dataset <a name=\"a\"></a>"
   ]
  },
  {
   "cell_type": "code",
   "execution_count": 2,
   "id": "786b14a1",
   "metadata": {
    "scrolled": true
   },
   "outputs": [
    {
     "name": "stdout",
     "output_type": "stream",
     "text": [
      "Largo de dataset:  69702\n"
     ]
    }
   ],
   "source": [
    "frames = [pd.read_csv(\"data/chile_2020-09.csv\"), pd.read_csv(\"data/chile_2020-10.csv\"),pd.read_csv(\"data/chile_2020-11.csv\"), pd.read_csv(\"data/chile_2020-12.csv\"), pd.read_csv(\"data/chile_2021-01.csv\"), pd.read_csv(\"data/chile_2021-02.csv\"), pd.read_csv(\"data/chile_2021-03.csv\"), pd.read_csv(\"data/chile_2021-04.csv\")]\n",
    "dataset = pd.concat(frames)\n",
    "#dataset = dataset[:2000]  #para reducir el coste computacional en desarrollo\n",
    "dataset['content'] = dataset['title'] + \" \" + dataset['text'] \n",
    "\n",
    "print(\"Largo de dataset: \", len(dataset))\n",
    "dataset= dataset[dataset['text'].notna()]\n",
    "        \n",
    "dataset.drop(columns=['country','year','date','id', 'id_journalist','title'], inplace=True)\n",
    "dataset['topic'] = \"\""
   ]
  },
  {
   "cell_type": "markdown",
   "id": "d15176f7",
   "metadata": {},
   "source": [
    "### 2.  Extracción de tópicos vía RE en URL <a name=\"b\"></a>"
   ]
  },
  {
   "cell_type": "code",
   "execution_count": 3,
   "id": "ff0bce3a",
   "metadata": {},
   "outputs": [
    {
     "data": {
      "text/plain": [
       "{'ahoranoticiasmega',\n",
       " 'biobiochile',\n",
       " 'elciudadano',\n",
       " 'elmostrador',\n",
       " 'emol',\n",
       " 'horas24',\n",
       " 'latercera'}"
      ]
     },
     "execution_count": 3,
     "metadata": {},
     "output_type": "execute_result"
    }
   ],
   "source": [
    "#identicando fuentes fuentes\n",
    "set(dataset[\"media_outlet\"])"
   ]
  },
  {
   "cell_type": "code",
   "execution_count": 4,
   "id": "14b7a43d",
   "metadata": {},
   "outputs": [
    {
     "name": "stdout",
     "output_type": "stream",
     "text": [
      "268    https://www.meganoticias.cl/nacional/312353-si...\n",
      "269    https://www.meganoticias.cl/nacional/312350-cy...\n",
      "Name: url, dtype: object\n",
      "0    https://www.24horas.cl/coronavirus/tia-pikachu...\n",
      "3    https://www.24horas.cl/nacional/rm-alcanza-sus...\n",
      "Name: url, dtype: object\n",
      "205    https://www.elciudadano.com/chile/el-avance-de...\n",
      "206    https://www.elciudadano.com/latinoamerica/colo...\n",
      "Name: url, dtype: object\n",
      "29    https://www.biobiochile.cl/noticias/nacional/c...\n",
      "30    https://www.biobiochile.cl/noticias/nacional/r...\n",
      "Name: url, dtype: object\n",
      "228    https://www.elmostrador.cl/noticias/pais/2020/...\n",
      "230    https://www.elmostrador.cl/dia/2020/09/01/dipu...\n",
      "Name: url, dtype: object\n",
      "496    https://www.emol.com/noticias/Economia/2020/09...\n",
      "497    https://www.emol.com/noticias/Economia/2020/09...\n",
      "Name: url, dtype: object\n",
      "209    https://www.latercera.com/politica/noticia/el-...\n",
      "210    https://www.latercera.com/politica/noticia/cam...\n",
      "Name: url, dtype: object\n"
     ]
    }
   ],
   "source": [
    "print(dataset[dataset.media_outlet==\"ahoranoticiasmega\"][\"url\"].head(2))\n",
    "print(dataset[dataset.media_outlet==\"horas24\"][\"url\"].head(2))\n",
    "print(dataset[dataset.media_outlet==\"elciudadano\"][\"url\"].head(2))\n",
    "print(dataset[dataset.media_outlet==\"biobiochile\"][\"url\"].head(2))\n",
    "print(dataset[dataset.media_outlet==\"elmostrador\"][\"url\"].head(2))\n",
    "print(dataset[dataset.media_outlet==\"emol\"][\"url\"].head(2))\n",
    "print(dataset[dataset.media_outlet==\"latercera\"][\"url\"].head(2))"
   ]
  },
  {
   "cell_type": "markdown",
   "id": "4a38db2f",
   "metadata": {},
   "source": [
    "Las urls de _Ahoranoticiasmega, Horas24 y El Ciudadano_ son similares.\n",
    "La url de _La Tercera_ posee dos tópicos, sin embargo, el segundo tópico es irrelevante."
   ]
  },
  {
   "cell_type": "code",
   "execution_count": 5,
   "id": "5a659396",
   "metadata": {},
   "outputs": [],
   "source": [
    "#Generamos df1 concatenando ahoranoticiasmega, horas24 y elciudadano\n",
    "medios = [dataset.loc[dataset['media_outlet']==\"ahoranoticiasmega\"],\n",
    "          dataset.loc[dataset['media_outlet']==\"horas24\"],\n",
    "          dataset.loc[dataset['media_outlet']==\"elciudadano\"],\n",
    "          dataset.loc[dataset['media_outlet']==\"latercera\"]]\n",
    "df1 = pd.concat(medios)\n",
    "for index, row in df1.iterrows():\n",
    "    url=row['url']\n",
    "    obj = re.findall('(\\w+)://([\\w\\-\\.]+)/([\\w\\-]+).([\\w\\-]+)', url) \n",
    "    topic=obj[0][2]\n",
    "    df1.loc[index,'topic'] = topic.lower()"
   ]
  },
  {
   "cell_type": "markdown",
   "id": "efc8a6ac",
   "metadata": {},
   "source": [
    "Las urls de _Biobiochile, El Mostrador, Emol_ poseen dos columnas de tópicos. La primera columna entrega información irrelevante. "
   ]
  },
  {
   "cell_type": "code",
   "execution_count": 6,
   "id": "88547a4d",
   "metadata": {
    "scrolled": true
   },
   "outputs": [],
   "source": [
    "medios2 = [dataset.loc[dataset['media_outlet']==\"biobiochile\"],\n",
    "           dataset.loc[dataset['media_outlet']==\"elmostrador\"],\n",
    "           dataset.loc[dataset['media_outlet']==\"emol\"]] \n",
    "df2 = pd.concat(medios2)\n",
    "for index, row in df2.iterrows():\n",
    "    url=row['url']\n",
    "    obj = re.findall('(\\w+)://([\\w\\-\\.]+)/([\\w\\-]+).([\\w\\-]+)', url)\n",
    "    topic = obj[0][3]\n",
    "    df2.loc[index,'topic'] = topic.lower()"
   ]
  },
  {
   "cell_type": "code",
   "execution_count": 7,
   "id": "23f43571",
   "metadata": {},
   "outputs": [
    {
     "data": {
      "text/plain": [
       "array(['2020', '2021', 'actualidad', 'animal', 'artes', 'autos',\n",
       "       'calidad-de-vida', 'cartas-ciudadanas', 'chile',\n",
       "       'ciencia-tecnologia', 'ciudadanos-al-poder', 'columnas',\n",
       "       'conversacioneslt', 'coronavirus', 'culto', 'data', 'deportes',\n",
       "       'derechos-humanos', 'destacados-cultura', 'economia', 'educacion',\n",
       "       'el-deportivo', 'especiales', 'espectaculos', 'genero',\n",
       "       'internacional', 'justicia', 'la-tercera-domingo', 'la-tercera-pm',\n",
       "       'la-tercera-tv', 'latinoamerica', 'mapuche', 'masdeco',\n",
       "       'medio-ambiente', 'mexico', 'mineria', 'mouse', 'multimedia',\n",
       "       'mundo', 'nacional', 'noticiasbbc', 'opinion', 'pais', 'paula',\n",
       "       'peru', 'plebiscito-chile-elige', 'politica', 'portada',\n",
       "       'portada-tv', 'proceso-constituyente', 'programas', 'pueblos',\n",
       "       'pulso', 'pulso-trader', 'que-pasa', 'reconstitucion',\n",
       "       'redes-sociales', 'regiones', 'reportaje-investigacion',\n",
       "       'revista-que-pasa', 'salud', 'sociedad', 'tecnologia',\n",
       "       'tecnologia-2', 'tendencias', 'tesirve', 'trabajo', 'wires'],\n",
       "      dtype=object)"
      ]
     },
     "execution_count": 7,
     "metadata": {},
     "output_type": "execute_result"
    }
   ],
   "source": [
    "df = pd.concat([df1,df2])\n",
    "np.sort(df['topic'].unique())"
   ]
  },
  {
   "cell_type": "code",
   "execution_count": 8,
   "id": "5d752e7e",
   "metadata": {},
   "outputs": [
    {
     "data": {
      "text/plain": [
       "     34315\n",
       "0     9913\n",
       "6     9609\n",
       "3     5689\n",
       "2     5020\n",
       "1     1774\n",
       "8      428\n",
       "9      244\n",
       "5      179\n",
       "7      168\n",
       "Name: label, dtype: int64"
      ]
     },
     "metadata": {},
     "output_type": "display_data"
    }
   ],
   "source": [
    "df['label'] = \"\"\n",
    "# mundo\n",
    "df.loc[df['topic'] == 'mundo',                  'label'] = 0\n",
    "df.loc[df['topic'] == 'noticiasbbc',            'label'] = 0\n",
    "df.loc[df['topic'] == 'internacional',          'label'] = 0\n",
    "# economia\n",
    "df.loc[df['topic'] == 'economia',               'label'] = 1\n",
    "df.loc[df['topic'] == 'pulso-trader',           'label'] = 1\n",
    "# política y conflictos\n",
    "df.loc[df['topic'] == 'politica',               'label'] = 2\n",
    "df.loc[df['topic'] == 'plebiscito-chile-elige', 'label'] = 2\n",
    "df.loc[df['topic'] == 'ciudadanos-al-poder',    'label'] = 2\n",
    "df.loc[df['topic'] == 'proceso-constituyente',  'label'] = 2\n",
    "# ciencia y tecnologia\n",
    "df.loc[df['topic'] == 'tecnologia',             'label'] = 3\n",
    "df.loc[df['topic'] == 'tecnologia-2',           'label'] = 3\n",
    "df.loc[df['topic'] == 'ciencia-tecnologia',     'label'] = 3\n",
    "df.loc[df['topic'] == 'mouse',                  'label'] = 3\n",
    "df.loc[df['topic'] == 'redes-sociales',         'label'] = 3\n",
    "# accidentes \n",
    "df.loc[df['topic'] == 'accidentes',             'label'] = 4\n",
    "# arte y cultura\n",
    "df.loc[df['topic'] == 'cultura',                'label'] = 5\n",
    "df.loc[df['topic'] == 'artes',                  'label'] = 5\n",
    "# deportes\n",
    "df.loc[df['topic'] == 'deportes',               'label'] = 6\n",
    "df.loc[df['topic'] == 'el-deportivo',           'label'] = 6\n",
    "# ecologia y planeta\n",
    "df.loc[df['topic'] == 'medio-ambiente',         'label'] = 7\n",
    "df.loc[df['topic'] == 'animal',                 'label'] = 7\n",
    "# crimen, delitos y justicia\n",
    "df.loc[df['topic'] == 'justicia',               'label'] = 8\n",
    "df.loc[df['topic'] == 'reportaje-investigacion','label'] = 8\n",
    "# salud\n",
    "df.loc[df['topic'] == 'salud',                  'label'] = 9\n",
    "df.loc[df['topic'] == 'calidad-de-vida',        'label'] = 9\n",
    "df.loc[df['topic'] == 'coronavirus',            'label'] = 9\n",
    "\n",
    "display(df['label'].value_counts())\n",
    "# nos quedamos sólo con las noticias etiquetadas. para clasificar df1 utilizaremos otro metodo\n",
    "df1 = df.loc[df['label']==''] \n",
    "df = df[df['label']!='']\n",
    "\n"
   ]
  },
  {
   "cell_type": "markdown",
   "id": "53c5733e",
   "metadata": {},
   "source": [
    "Tenemos muchas noticias no clasificadas, por lo que es necesario utilizar otro mecanísmo para clasificar las noticias restantes."
   ]
  },
  {
   "cell_type": "markdown",
   "id": "45ab702c",
   "metadata": {},
   "source": [
    "### 3.  Extracción de términos clave de columna title+text <a name=\"b\"></a>"
   ]
  },
  {
   "cell_type": "code",
   "execution_count": 9,
   "id": "e6eb9634",
   "metadata": {},
   "outputs": [],
   "source": [
    "matcher = Matcher(nlp.vocab)\n",
    "\n",
    "# Pattern 1: NOUN de NOUN\n",
    "pattern_1 = [{\"POS\": \"NOUN\"},{\"LOWER\": \"de\"}, {\"POS\": \"NOUN\"}]\n",
    "matcher.add(\"NOUN-de-NOUN\", [pattern_1])\n",
    "\n",
    "# Pattern 2: NOUN ADJ\n",
    "pattern_2 = [{\"POS\": \"NOUN\"}, {\"POS\": \"ADJ\"}]\n",
    "matcher.add(\"NOUN-ADJ\", [pattern_2])\n",
    "\n",
    "# Pattern 3: \n",
    "pattern_3 = [{\"POS\": \"NOUN\"}]\n",
    "matcher.add(\"NOUN\", [pattern_3])"
   ]
  },
  {
   "cell_type": "markdown",
   "id": "8a110d7e",
   "metadata": {},
   "source": [
    "    Bloque de alto coste computacional ⬇️"
   ]
  },
  {
   "cell_type": "code",
   "execution_count": 10,
   "id": "f3e12b1d",
   "metadata": {},
   "outputs": [
    {
     "data": {
      "text/html": [
       "<div>\n",
       "<style scoped>\n",
       "    .dataframe tbody tr th:only-of-type {\n",
       "        vertical-align: middle;\n",
       "    }\n",
       "\n",
       "    .dataframe tbody tr th {\n",
       "        vertical-align: top;\n",
       "    }\n",
       "\n",
       "    .dataframe thead th {\n",
       "        text-align: right;\n",
       "    }\n",
       "</style>\n",
       "<table border=\"1\" class=\"dataframe\">\n",
       "  <thead>\n",
       "    <tr style=\"text-align: right;\">\n",
       "      <th></th>\n",
       "      <th>media_outlet</th>\n",
       "      <th>url</th>\n",
       "      <th>text</th>\n",
       "      <th>content</th>\n",
       "      <th>topic</th>\n",
       "      <th>label</th>\n",
       "      <th>terms</th>\n",
       "    </tr>\n",
       "  </thead>\n",
       "  <tbody>\n",
       "    <tr>\n",
       "      <th>268</th>\n",
       "      <td>ahoranoticiasmega</td>\n",
       "      <td>https://www.meganoticias.cl/nacional/312353-si...</td>\n",
       "      <td>La noche de este martes 01 de septiembre, a la...</td>\n",
       "      <td>Temblor de menor intensidad afecta nuevamente ...</td>\n",
       "      <td>nacional</td>\n",
       "      <td></td>\n",
       "      <td>temblor; intensidad; noche; martes; septiembre...</td>\n",
       "    </tr>\n",
       "    <tr>\n",
       "      <th>269</th>\n",
       "      <td>ahoranoticiasmega</td>\n",
       "      <td>https://www.meganoticias.cl/nacional/312350-cy...</td>\n",
       "      <td>En la presente edición del CyberDay, el rubro ...</td>\n",
       "      <td>CyberDay 2020: Consolas y videojuegos son los ...</td>\n",
       "      <td>nacional</td>\n",
       "      <td></td>\n",
       "      <td>cyberday; 2020; consolas; videojuegos; product...</td>\n",
       "    </tr>\n",
       "    <tr>\n",
       "      <th>270</th>\n",
       "      <td>ahoranoticiasmega</td>\n",
       "      <td>https://www.meganoticias.cl/nacional/312347-on...</td>\n",
       "      <td>La Oficina Nacional de Emergencia del Minister...</td>\n",
       "      <td>Sismos en el norte: Expertos aclaran que exist...</td>\n",
       "      <td>nacional</td>\n",
       "      <td></td>\n",
       "      <td>norte; expertos; energía; energía acumulada; z...</td>\n",
       "    </tr>\n",
       "  </tbody>\n",
       "</table>\n",
       "</div>"
      ],
      "text/plain": [
       "          media_outlet                                                url  \\\n",
       "268  ahoranoticiasmega  https://www.meganoticias.cl/nacional/312353-si...   \n",
       "269  ahoranoticiasmega  https://www.meganoticias.cl/nacional/312350-cy...   \n",
       "270  ahoranoticiasmega  https://www.meganoticias.cl/nacional/312347-on...   \n",
       "\n",
       "                                                  text  \\\n",
       "268  La noche de este martes 01 de septiembre, a la...   \n",
       "269  En la presente edición del CyberDay, el rubro ...   \n",
       "270  La Oficina Nacional de Emergencia del Minister...   \n",
       "\n",
       "                                               content     topic label  \\\n",
       "268  Temblor de menor intensidad afecta nuevamente ...  nacional         \n",
       "269  CyberDay 2020: Consolas y videojuegos son los ...  nacional         \n",
       "270  Sismos en el norte: Expertos aclaran que exist...  nacional         \n",
       "\n",
       "                                                 terms  \n",
       "268  temblor; intensidad; noche; martes; septiembre...  \n",
       "269  cyberday; 2020; consolas; videojuegos; product...  \n",
       "270  norte; expertos; energía; energía acumulada; z...  "
      ]
     },
     "metadata": {},
     "output_type": "display_data"
    }
   ],
   "source": [
    "df1['terms'] = \"\"\n",
    "for index, row in df1.iterrows():\n",
    "    doc = nlp(row['content'].lower())\n",
    "\n",
    "    matches = matcher(doc)\n",
    "    categories = \"\"\n",
    "    for match_id, start, end in matches:\n",
    "        string_id = nlp.vocab.strings[match_id]  # Get string representation\n",
    "        span = doc[start:end]  # The matched span\n",
    "        categories = categories + span.text + \"; \"\n",
    "    \n",
    "    row['terms'] = categories\n",
    "    \n",
    "display(df1.head(3))"
   ]
  },
  {
   "cell_type": "code",
   "execution_count": 12,
   "id": "13c423a6",
   "metadata": {
    "scrolled": true
   },
   "outputs": [
    {
     "data": {
      "text/html": [
       "<div>\n",
       "<style scoped>\n",
       "    .dataframe tbody tr th:only-of-type {\n",
       "        vertical-align: middle;\n",
       "    }\n",
       "\n",
       "    .dataframe tbody tr th {\n",
       "        vertical-align: top;\n",
       "    }\n",
       "\n",
       "    .dataframe thead th {\n",
       "        text-align: right;\n",
       "    }\n",
       "</style>\n",
       "<table border=\"1\" class=\"dataframe\">\n",
       "  <thead>\n",
       "    <tr style=\"text-align: right;\">\n",
       "      <th></th>\n",
       "      <th>media_outlet</th>\n",
       "      <th>url</th>\n",
       "      <th>text</th>\n",
       "      <th>content</th>\n",
       "      <th>topic</th>\n",
       "      <th>label</th>\n",
       "      <th>terms</th>\n",
       "      <th>most_common</th>\n",
       "      <th>second_common</th>\n",
       "      <th>third_common</th>\n",
       "    </tr>\n",
       "  </thead>\n",
       "  <tbody>\n",
       "    <tr>\n",
       "      <th>268</th>\n",
       "      <td>ahoranoticiasmega</td>\n",
       "      <td>https://www.meganoticias.cl/nacional/312353-si...</td>\n",
       "      <td>La noche de este martes 01 de septiembre, a la...</td>\n",
       "      <td>Temblor de menor intensidad afecta nuevamente ...</td>\n",
       "      <td>nacional</td>\n",
       "      <td></td>\n",
       "      <td>temblor; intensidad; noche; martes; septiembre...</td>\n",
       "      <td>intensidad</td>\n",
       "      <td>sismo</td>\n",
       "      <td>región</td>\n",
       "    </tr>\n",
       "    <tr>\n",
       "      <th>269</th>\n",
       "      <td>ahoranoticiasmega</td>\n",
       "      <td>https://www.meganoticias.cl/nacional/312350-cy...</td>\n",
       "      <td>En la presente edición del CyberDay, el rubro ...</td>\n",
       "      <td>CyberDay 2020: Consolas y videojuegos son los ...</td>\n",
       "      <td>nacional</td>\n",
       "      <td></td>\n",
       "      <td>cyberday; 2020; consolas; videojuegos; product...</td>\n",
       "      <td>consolas</td>\n",
       "      <td>precios</td>\n",
       "      <td>cyberday</td>\n",
       "    </tr>\n",
       "    <tr>\n",
       "      <th>270</th>\n",
       "      <td>ahoranoticiasmega</td>\n",
       "      <td>https://www.meganoticias.cl/nacional/312347-on...</td>\n",
       "      <td>La Oficina Nacional de Emergencia del Minister...</td>\n",
       "      <td>Sismos en el norte: Expertos aclaran que exist...</td>\n",
       "      <td>nacional</td>\n",
       "      <td></td>\n",
       "      <td>norte; expertos; energía; energía acumulada; z...</td>\n",
       "      <td>réplicas</td>\n",
       "      <td>sismo</td>\n",
       "      <td>magnitud</td>\n",
       "    </tr>\n",
       "  </tbody>\n",
       "</table>\n",
       "</div>"
      ],
      "text/plain": [
       "          media_outlet                                                url  \\\n",
       "268  ahoranoticiasmega  https://www.meganoticias.cl/nacional/312353-si...   \n",
       "269  ahoranoticiasmega  https://www.meganoticias.cl/nacional/312350-cy...   \n",
       "270  ahoranoticiasmega  https://www.meganoticias.cl/nacional/312347-on...   \n",
       "\n",
       "                                                  text  \\\n",
       "268  La noche de este martes 01 de septiembre, a la...   \n",
       "269  En la presente edición del CyberDay, el rubro ...   \n",
       "270  La Oficina Nacional de Emergencia del Minister...   \n",
       "\n",
       "                                               content     topic label  \\\n",
       "268  Temblor de menor intensidad afecta nuevamente ...  nacional         \n",
       "269  CyberDay 2020: Consolas y videojuegos son los ...  nacional         \n",
       "270  Sismos en el norte: Expertos aclaran que exist...  nacional         \n",
       "\n",
       "                                                 terms most_common  \\\n",
       "268  temblor; intensidad; noche; martes; septiembre...  intensidad   \n",
       "269  cyberday; 2020; consolas; videojuegos; product...    consolas   \n",
       "270  norte; expertos; energía; energía acumulada; z...    réplicas   \n",
       "\n",
       "    second_common third_common  \n",
       "268         sismo       región  \n",
       "269       precios     cyberday  \n",
       "270         sismo     magnitud  "
      ]
     },
     "metadata": {},
     "output_type": "display_data"
    },
    {
     "data": {
      "text/plain": [
       "casos          889\n",
       "personas       654\n",
       "shared         627\n",
       "carabineros    562\n",
       "salud          460\n",
       "              ... \n",
       "phishing         1\n",
       "cadáver          1\n",
       "veredas          1\n",
       "críticos         1\n",
       "motel            1\n",
       "Name: most_common, Length: 4292, dtype: int64"
      ]
     },
     "metadata": {},
     "output_type": "display_data"
    },
    {
     "data": {
      "text/plain": [
       "personas                   514\n",
       "salud                      429\n",
       "años                       365\n",
       "casos                      346\n",
       "región                     310\n",
       "                          ... \n",
       "firmeza                      1\n",
       "subsecretario de redes       1\n",
       "condenados                   1\n",
       "cifra de hospitalizados      1\n",
       "caminos                      1\n",
       "Name: second_common, Length: 5812, dtype: int64"
      ]
     },
     "metadata": {},
     "output_type": "display_data"
    }
   ],
   "source": [
    "from collections import Counter\n",
    "df1[\"most_common\"] = \"\"\n",
    "df1[\"second_common\"] = \"\"\n",
    "\n",
    "for index, row in df1.iterrows():\n",
    "    split_it = row['terms'].split(\"; \")\n",
    "    counter = Counter(split_it)\n",
    "    row['most_common'] = counter.most_common()[0][0]\n",
    "    row['second_common'] = counter.most_common()[1][0]\n",
    "\n",
    "display(df1.head(3))\n",
    "display(df1['most_common'].value_counts())\n",
    "display(df1['second_common'].value_counts())\n"
   ]
  },
  {
   "cell_type": "code",
   "execution_count": 13,
   "id": "31890cfb",
   "metadata": {},
   "outputs": [
    {
     "data": {
      "text/plain": [
       "     33127\n",
       "9      889\n",
       "8      299\n",
       "Name: label, dtype: int64"
      ]
     },
     "execution_count": 13,
     "metadata": {},
     "output_type": "execute_result"
    }
   ],
   "source": [
    "df1.loc[df1['most_common'] == 'camioneros',             'label'] = 8\n",
    "df1.loc[df1['most_common'] == 'acusación',              'label'] = 8\n",
    "df1.loc[df1['most_common'] == 'casos',                  'label'] = 9\n",
    "df1.loc[df1['most_common'] == 'ley',                    'label'] = 8\n",
    "\n",
    "\n",
    "df1.loc[df1['second_common'] == 'gobierno'              'label'] = 2\n",
    "df1.loc[df1['second_common'] == 'paro'                  'label'] = 2\n",
    "\n",
    "\n",
    "# agregar mas...\n",
    "\n",
    "df1['label'].value_counts()"
   ]
  },
  {
   "cell_type": "code",
   "execution_count": 14,
   "id": "23a88962",
   "metadata": {},
   "outputs": [
    {
     "data": {
      "text/plain": [
       "     33127\n",
       "0     9913\n",
       "6     9609\n",
       "3     5689\n",
       "2     5020\n",
       "1     1774\n",
       "9     1133\n",
       "8      727\n",
       "5      179\n",
       "7      168\n",
       "Name: label, dtype: int64"
      ]
     },
     "execution_count": 14,
     "metadata": {},
     "output_type": "execute_result"
    }
   ],
   "source": [
    "df = pd.concat([df,df1])\n",
    "df.drop(columns=['most_common','second_common','third_common','terms'], inplace=True)\n",
    "df['label'].value_counts()"
   ]
  },
  {
   "cell_type": "code",
   "execution_count": 17,
   "id": "c6dff635",
   "metadata": {},
   "outputs": [],
   "source": [
    "df.to_csv(\"topics.csv\")"
   ]
  },
  {
   "cell_type": "markdown",
   "id": "387e5f1d",
   "metadata": {},
   "source": [
    "### 5.  Balance de clases dataset de entrenamiento <a name=\"d\"></a>\n",
    "Visualizamos la densidad de los tópicos con tal de combatir el sobreajuste si corresponde"
   ]
  },
  {
   "cell_type": "code",
   "execution_count": 16,
   "id": "7b5187e9",
   "metadata": {},
   "outputs": [],
   "source": [
    "#fig, ax = plt.subplots(1, figsize=(9,5), tight_layout=True)\n",
    "#ax.hist(dataset['category'],edgecolor = 'black',bins=dataset['category'].unique())\n",
    "#plt.xticks(rotation='vertical', fontsize=7)\n",
    "#plt.ylabel(\"densidad\")\n",
    "#plt.show()"
   ]
  },
  {
   "cell_type": "code",
   "execution_count": null,
   "id": "cb902858",
   "metadata": {},
   "outputs": [],
   "source": []
  },
  {
   "cell_type": "code",
   "execution_count": null,
   "id": "49017fdc",
   "metadata": {},
   "outputs": [],
   "source": []
  },
  {
   "cell_type": "code",
   "execution_count": null,
   "id": "f8a2834a",
   "metadata": {},
   "outputs": [],
   "source": []
  },
  {
   "cell_type": "code",
   "execution_count": null,
   "id": "50f8c862",
   "metadata": {},
   "outputs": [],
   "source": []
  },
  {
   "cell_type": "code",
   "execution_count": null,
   "id": "447d1964",
   "metadata": {},
   "outputs": [],
   "source": []
  },
  {
   "cell_type": "code",
   "execution_count": null,
   "id": "3340491c",
   "metadata": {},
   "outputs": [],
   "source": []
  },
  {
   "cell_type": "code",
   "execution_count": null,
   "id": "cb3894dc",
   "metadata": {},
   "outputs": [],
   "source": []
  },
  {
   "cell_type": "code",
   "execution_count": null,
   "id": "2cc9edd5",
   "metadata": {},
   "outputs": [],
   "source": []
  },
  {
   "cell_type": "code",
   "execution_count": null,
   "id": "c67841f9",
   "metadata": {},
   "outputs": [],
   "source": []
  }
 ],
 "metadata": {
  "kernelspec": {
   "display_name": "Python 3 (ipykernel)",
   "language": "python",
   "name": "python3"
  },
  "language_info": {
   "codemirror_mode": {
    "name": "ipython",
    "version": 3
   },
   "file_extension": ".py",
   "mimetype": "text/x-python",
   "name": "python",
   "nbconvert_exporter": "python",
   "pygments_lexer": "ipython3",
   "version": "3.9.7"
  }
 },
 "nbformat": 4,
 "nbformat_minor": 5
}

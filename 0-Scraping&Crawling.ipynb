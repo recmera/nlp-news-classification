{
 "cells": [
  {
   "cell_type": "code",
   "execution_count": 9,
   "id": "274a4ccf",
   "metadata": {},
   "outputs": [],
   "source": [
    "import requests\n",
    "from bs4 import BeautifulSoup"
   ]
  },
  {
   "cell_type": "markdown",
   "id": "aa9324c3",
   "metadata": {},
   "source": [
    "## 1. Web scraping "
   ]
  },
  {
   "cell_type": "code",
   "execution_count": 10,
   "id": "1b92ad97",
   "metadata": {},
   "outputs": [],
   "source": [
    "def getPage(url):\n",
    "\n",
    "    session = requests.Session()\n",
    "    headers = {'User-Agent': 'Mozilla/5.0 (Macintosh; Intel Mac OS X 10_9_5) AppleWebKit/537.36 (KHTML, like Gecko) Chrome/39.0.2171.95 Safari/537.36',\n",
    "               'Accept': 'text/html,application/xhtml+xml,application/xml;q=0.9,image/webp,*/*;q=0.8'}\n",
    "    try:\n",
    "        req = session.get(url, headers=headers)\n",
    "    except requests.exceptions.RequestException:\n",
    "        return None\n",
    "    bs = BeautifulSoup(req.text, 'html.parser')\n",
    "    return bs\n",
    "\n"
   ]
  },
  {
   "cell_type": "code",
   "execution_count": 13,
   "id": "606021d6",
   "metadata": {
    "scrolled": true
   },
   "outputs": [
    {
     "name": "stdout",
     "output_type": "stream",
     "text": [
      "Title: \n",
      "                        El día que Durero fue a ver una ballena y encontró la muerte\n",
      "        \n",
      "URL: https://www.eldiario.es/cultura/arte/dia-durero-ver-ballena-encontro-muerte_1_8571286.html\n",
      "\n",
      "\n",
      "        \"Hace quinientos años, Durero llegó a este lugar en busca de una ballena. Aquel fue el punto de inflexión de su vida\". Cinco siglos después, Philip Hoare (Southampton, Reino Unido, 63 años) y su pareja, Ellen, llegaban a Róterdam (Holanda) en coche persiguiendo el rastro de la leyenda, la última parte de la vida del artista alemán y, como él mismo dice, una gran aventura de arte, animales, decadencia, poesía y mar. La historia arranca donde lo hacen todas, en la falta de dinero. En 1519, el artista más famoso al norte de Italia estaba preocupado: ya no era joven y el cuerpo comenzaba a fallarle, temía perder la vista y la destreza. Y su mecenas, Maximiliano I, emperador del sacro Imperio Romano, había muerto. Se había quedado sin ingresos regulares y las garantías, de repente, habían desaparecido. \n",
      "    \n",
      "\n",
      "        La historia del arte es una historia materialista: \"Durero siempre había sido un asalariado y su diario está plagado de anotaciones sobre gastos e ingresos, algo en las antípodas de su imaginación desenfrenada\". Así la cuenta Hoare, protagonista de la escena punk londinense de los setenta, adicto al mar, el frío y la humedad, bautizado como uno de los escritores más fascinantes del Reino Unido y excelente cronista de los océanos y las costas del planeta. Su otra obsesión, los cetáceos, le abrieron las puertas del Premio Samuel Johnson de no ficción de 2008 con Leviatán (Ático de los Libros, 2015).\n",
      "    \n",
      "\n",
      "        En su nuevo libro, Alberto y la ballena. Durero y cómo el arte imagina nuestro mundo (Ático de los Libros), da una buena razón para confirmar la etiqueta de porteño empedernido: \"De niño, experimenté el carácter final de un lugar donde se iniciaban todas las demás cosas. La gente no hacía más que partir en busca de nuevas identidades, como si los que nos quedábamos atrás no dispusiéramos de una propia. Ningún puerto puede ser un hogar. Nadie es libre\". Esta descripción confirma cualquier loa que aplauda su capacidad para desmenuzar las identidades al borde del mar. Hoare nació en el puerto de Southampton cuando aún lucía las cicatrices de los bombardeos del 23 de noviembre de 1940, ordenados por el gobierno nazi a varios escuadrones, de un total de 250 aviones, que arrojaron 300 toneladas de explosivos y 1.200 bombas incendiarias sobre la ciudad. \"Intentaron destruir el mar\", escribe. \n",
      "    \n",
      "\n",
      "        Así que ahí está Hoare, persiguiendo a Alberto Durero, que está en los Países Bajos persiguiendo el dinero del heredero de Maximiliano, Carlos. Allí encontraría alimento para el fin de mes y para sus visiones monstruosas. También hallaría la muerte: había huido de su hogar en busca de un futuro menos precario y más saludable, lejos de la peste y contrajo una infección en una costa infestada por los despojos de una ballena varada. A pesar de sus miedos, Durero no llegó a palpar el declive de su talento, al contrario: las experiencias que vivió allí dieron pie a nuevas manifestaciones de su genio. Y fue en Países Bajos donde tuvo la visión del monstruo marino, él que apenas había visto el mar. \n",
      "    \n",
      "\n",
      "        \"Sobre el lugar donde lo vio o si llegó siquiera a verlo nada puedo contar, pese a los océanos que he surcado y las bibliotecas que he atravesado a nado\", dice Hoare antes de abrir una historia que se pierde en las disertaciones y los mil extraordinarios afluentes que despistan de la historia central. Cuando Durero tuvo las primeras noticias de aquel ser monstruoso, se le aceleró el corazón. Eso imagina el autor inglés, que introduce un símil para ubicar con exactitud el contexto histórico en el que surge la visión de la ballena: \"Tal y como sucedía con Dios, nadie se ponía de acuerdo sobre su verdadero aspecto, ni sobre aquello que serían capaces de hacer\". \n",
      "    \n",
      "\n",
      "        La ballena que Durero nunca vio es una excusa para hacer un recorrido más vital que biográfico –afortunadamente– para describir a un hombre nervioso, incapaz de estarse quieto. \"Su mano no podía cesar de dibujar, era algo automático, funcionaba de forma independiente al resto de su ser\". Philip Hoare cuenta que en una época de transacciones extraordinarias, Durero comerciaba con sus sueños (un carrusel disparatado de morsas, rinocerontes, unicornios, elefantes y gigantes) y que por ello no podía dejar de imaginar a aquella criatura como un golpe de suerte con mayor seguridad que cualquier pensión imperial. \n",
      "    \n",
      "\n",
      "        Aunque no vio a la ballena, creó una imagen de ella que se repitió masivamente y quedó grabada en la memoria colectiva hasta Melville, que tenía raíces holandesas y conocía la historia de Durero y su ballena, y Moby Dick. Lo interesante del libro es el vínculo que establece su autor entre la naturaleza y la imaginación artística, ubicando la narración en el proceso científico desencadenado por Durero, que se veía a sí mismo como un artista, pero también como un científico que investigaba el mundo natural (además de la alquimia y las matemáticas). Quizá un Colón de tierra adentro con ganas de saberlo todo, de colmar su curiosidad infinita. Hoare escribe: \"Durero era un niño pequeño que, sentado en el suelo de un museo, dibujaba un dinosaurio\". \n",
      "    \n",
      "\n",
      "        Llegó a las costas de la provincia de Zelanda para contemplar una ballena varada por la marea alta y las ventiscas, de mucho más de cien brazas de largo. Pero cuando le fue imposible contemplarla, porque el mar no permitió a su barcaza adentrarse hacia la costa, y al día siguiente ya no había rastro de la criatura, el mar había vuelto a engullir al animal. Hoare piensa que fueron esos aires ponzoñosos los que hicieron enfermar y mataron al primer pintor en autorretratarse. No importó, porque calmó su ansia de conocimiento con su imaginación y se imaginó una morsa a partir de un cráneo. No vio a todos aquellos animales, pero eso no iba a impedirle dibujarlos. De hecho, tampoco vio al rinoceronte y no fue hasta que llegó la televisión cuando la realidad acabó con el ejemplar imaginado por el artista. \"Antes de Durero, los dragones existían; después de él, ya no\", escribe Hoare.\n",
      "    \n",
      "\n",
      "Gracias a más de 61.000 socios y socias nadie nos dice qué podemos publicar y qué no. Es nuestra arma para acabar con la impunidad de los más poderosos. Hazte socio, hazte socia.\n",
      "    \n"
     ]
    }
   ],
   "source": [
    "import requests\n",
    "\n",
    "class Content:\n",
    "    def __init__(self, url, title, body):\n",
    "        self.url = url\n",
    "        self.title = title\n",
    "        self.body = body\n",
    "\n",
    "\n",
    "def getPage(url):\n",
    "    req = requests.get(url)\n",
    "    return BeautifulSoup(req.text, 'html.parser')\n",
    "\n",
    "\n",
    "def scrapeElDiario(url):\n",
    "    bs = getPage(url)\n",
    "    title = bs.find('h1').text\n",
    "    lines = bs.select('p.article-text')\n",
    "    body = '\\n'.join([line.text for line in lines])\n",
    "    return Content(url, title, body)\n",
    "\n",
    "\n",
    "url = 'https://www.eldiario.es/cultura/arte/dia-durero-ver-ballena-encontro-muerte_1_8571286.html'\n",
    "content = scrapeElDiario(url)\n",
    "print('Title: {}'.format(content.title))\n",
    "print('URL: {}\\n'.format(content.url))\n",
    "print(content.body)"
   ]
  },
  {
   "cell_type": "markdown",
   "id": "69b79f02",
   "metadata": {},
   "source": [
    "## 2. Web crawling"
   ]
  },
  {
   "cell_type": "code",
   "execution_count": 21,
   "id": "f25be203",
   "metadata": {},
   "outputs": [],
   "source": [
    "class Content:\n",
    "\n",
    "    def __init__(self, url, title, body):\n",
    "        self.url = url\n",
    "        self.title = title\n",
    "        self.body = body\n",
    "\n",
    "    def print(self):\n",
    "        print('URL: {}'.format(self.url))\n",
    "        print('TITLE: {}'.format(self.title))\n",
    "        print('BODY:\\n{}'.format(self.body))\n",
    "\n",
    "class Website:\n",
    "\n",
    "    def __init__(self, name, url, titleTag, bodyTag):\n",
    "        self.name = name\n",
    "        self.url = url\n",
    "        self.titleTag = titleTag\n",
    "        self.bodyTag = bodyTag"
   ]
  },
  {
   "cell_type": "code",
   "execution_count": 22,
   "id": "42cdbdeb",
   "metadata": {},
   "outputs": [],
   "source": [
    "class Crawler:\n",
    "\n",
    "    def getPage(self, url):\n",
    "        try:\n",
    "            req = requests.get(url)\n",
    "        except requests.exceptions.RequestException:\n",
    "            return None\n",
    "        return BeautifulSoup(req.text, 'html.parser')\n",
    "\n",
    "    def safeGet(self, pageObj, selector):\n",
    "        selectedElems = pageObj.select(selector)\n",
    "        if selectedElems is not None and len(selectedElems) > 0:\n",
    "            return '\\n'.join([elem.get_text() for elem in selectedElems])\n",
    "        return ''\n",
    "\n",
    "    def parse(self, site, url):\n",
    "        bs = self.getPage(url)\n",
    "        if bs is not None:\n",
    "            title = self.safeGet(bs, site.titleTag)\n",
    "            body = self.safeGet(bs, site.bodyTag)\n",
    "            if title != '' and body != '':\n",
    "                content = Content(url, title, body)\n",
    "                content.print()"
   ]
  },
  {
   "cell_type": "code",
   "execution_count": 25,
   "id": "10f5669c",
   "metadata": {},
   "outputs": [
    {
     "name": "stdout",
     "output_type": "stream",
     "text": [
      "URL: https://www.nytimes.com/2018/01/28/business/energy-environment/oil-boom.html\n",
      "TITLE: Oil Boom Gives the U.S. a New Edge in Energy and Diplomacy\n",
      "BODY:\n",
      "HOUSTON — A substantial rise in oil prices in recent months has led to a resurgence in American oil production, enabling the country to challenge the dominance of Saudi Arabia and dampen price pressures at the pump.\n",
      "The success has come in the face of efforts by Saudi Arabia and its oil allies to undercut the shale drilling spree in the United States. Those strategies backfired and ultimately ended up benefiting the oil industry.\n",
      "Overcoming three years of slumping prices proved the resiliency of the shale boom. Energy companies and their financial backers were able to weather market turmoil — and the maneuvers of the global oil cartel — by adjusting exploration and extraction techniques.\n",
      "After a painful shakeout in the industry that included scores of bankruptcies and a significant loss of jobs, a steadier shale-drilling industry is arising, anchored by better-financed companies.\n",
      "With the price of West Texas intermediate crude above $65 a barrel, a level not seen in almost three years, the United States is becoming a dominant producer. It is able to outflank competitors in supplying growing global markets, particularly China and India, while slashing imports from the Middle East and North Africa.\n",
      "This year, the United States is expected to surpass Saudi Arabia and to rival Russia as the world’s leader, with record output of over 10 million barrels a day, according to the International Energy Agency.\n",
      "“This is a 180-degree turn for the United States and the impacts are being felt around the world,” said Daniel Yergin, the economic historian and author of “The Prize: The Epic Quest for Oil, Money and Power.” “This not only contributes to U.S. energy security but also contributes to world energy security by bringing new supplies to the world.”\n",
      "At the same time, the United States is becoming a major exporter of natural gas, another outgrowth of the shale revolution, undercutting Russian energy dominance over Eastern Europe.\n",
      "The improving energy picture comes as the Trump administration is attempting to increase offshore drilling and loosen other regulations on fossil fuel development. But just as the surge in oil and gas production in shale fields during the Barack Obama administration had little to do with Washington, the current rise is the result of private companies responding to global markets.\n",
      "Shale fields can be developed relatively quickly and at modest costs relative to the giant projects, whether on land or offshore, that were once favored by big oil companies. That makes it easier to turn investment spigots on or off to adjust to market fluctuations. Companies like Exxon Mobil and Chevron are putting increasing amounts of capital in shale fields, particularly in West Texas and New Mexico.\n",
      "The results go far beyond the economic, offering Washington strategic weapons once unthinkable. The United States and its allies now have a supply cushion at a time when political turmoil in Venezuela, Libya and Nigeria is threatening to interrupt flows to markets.\n",
      "Only a few years ago, such threats — along with a recent pipeline failure in the North Sea and storms in the Gulf of Mexico — would have sent the price of crude soaring. Instead, the rise has been muted, and gasoline at the pump remains below $2.60 a gallon across most of the United States.\n",
      "The new energy power also relieves pressure on Washington to act militarily if tensions between Iran and Saudi Arabia break out into war. And it gives Washington the leeway to apply sanctions on other producers — as it has in Russia, and may in Iran or Venezuela — with far less risk to the global economy.\n",
      "It is a striking contrast to the 1970s, when Arab oil boycotts forced motorists to line up for blocks to fill their tanks and the economy went into a tailspin. Even more recently, during the presidency of George W. Bush, domestic oil output was declining so rapidly that the country set a course to replace oil with biofuels like ethanol.\n",
      "Many environmentalists argue that by increasing oil and gas supplies and lowering prices for consumers, shale drilling is extending the life of fossil fuels to the detriment of the environment and the development of cleaner energy.\n",
      "The shale drilling revolution has remade the global energy market, with imports from members of the Organization of the Petroleum Exporting Countries plunging by 20 percent from late 2016 to late 2017. At the same time, exports rose by hundreds of thousands of barrels a day.\n",
      "Nothing like the current situation was foreseen in late 2014, when rising domestic production began weighing on global oil prices.\n",
      "In response, Saudi Arabia led OPEC in a new direction. Instead of throttling back to support prices as the cartel had done so often, it left the market alone and even increased production for a time.\n",
      "Prices fell below $40 a barrel, as the Saudis and their allies hoped to drive American operations out of business by making shale drilling uneconomical. American exploration quickly dropped, but the price squeeze made companies more innovative in the use of drilling technologies, robotics and sensors to maximize output and reduce costs.\n",
      "While scores of smaller companies went out of business, the survivors lengthened horizontal wells to yield more oil, and used clever hedging and drilling strategies to maximize profits even when prices slumped.\n",
      "The response surprised the global oil community. OPEC, Russia and allied producing countries changed course and began cutting back again in 2016.\n",
      "“OPEC missed the point,” said René Ortiz, a former OPEC secretary general and former Ecuadorean energy minister. “They thought they could recover the U.S. market by bringing the prices down. Now the U.S. has gained the leading position in the world oil market regardless of what OPEC does.”\n",
      "“This displacement of Saudi oil, Nigerian oil, Libyan oil and Venezuelan oil,” Mr. Ortiz concluded, “was never anticipated.”\n",
      "A week ago, OPEC leaders met in Oman to discuss a probable extension of production cuts into 2019 to support prices. Their biggest obstacle is the United States.\n",
      "Technological advances unlocking oil from tight rocks like shale has led to a drilling frenzy enabling a doubling of output in a decade, transforming unlikely places like North Dakota and New Mexico into world class petroleum hubs. Pipelines are being built across Texas to serve ports where oil can be pumped onto tankers headed for China, India and other markets.\n",
      "Domestic production last year averaged 9.3 million barrels a day, and the Energy Department projects that the figure will climb to 10.3 million barrels a day this year, surpassing the record set in 1970. In the meantime, since a 40-year export ban was lifted in 2015, exports of American oil have risen to roughly two million barrels a day — more than many OPEC members.\n",
      "The department projects an additional increase in domestic production of 500,000 barrels a day in 2019.\n",
      "Concerns over climate change as well as the growing popularity of electric cars and the eventual aging of the best shale fields will probably curb production and demand over the next few decades. But in the short term, the boom has changed the landscape.\n",
      "The Energy Department projects that the recent surge will hold the price of Brent crude, the global benchmark, to $60 a barrel in 2018 and $61 a barrel in 2019 — a modest increase from $54 last year. (The Brent price rose above $70 a barrel this month, but few analysts see a return to $100-a-barrel oil.)\n",
      "The emerging order in the energy realm is a stable balance of power. Saudi Arabia, which essentially runs OPEC, has put a floor under the oil price — probably around $50 a barrel — with its limits on output and exports over the last four years. But now the United States, by the sheer force of its production, the supremacy of its technology, and an unmatched pipeline, refinery and storage structure, has put a ceiling to the price.\n",
      "Experts note that when oil climbs to $60 a barrel and higher, as it has lately, a drilling rush commences — the national rig count has climbed by over a third in the last year — promising to refill domestic and even global energy inventories. Only a major war or other disruption is likely to send prices soaring.\n",
      "“We have all suffered these depressed prices over the last two years and we are excited to see the new prices and we will respond accordingly,” said Harald Jordan, vice president for engineering at Peak Energy, a Colorado-based producer. “You will see rig activity continue to increase.”\n"
     ]
    }
   ],
   "source": [
    "crawler = Crawler()\n",
    "\n",
    "siteData = [\n",
    "    ['New York Times', 'http://nytimes.com', 'h1', 'div.StoryBodyCompanionColumn div p']\n",
    "]\n",
    "websites = []\n",
    "for row in siteData:\n",
    "    websites.append(Website(row[0], row[1], row[2], row[3]))\n",
    "\n",
    "crawler.parse(websites[0], \n",
    "    'https://www.nytimes.com/2018/01/28/business/energy-environment/oil-boom.html')"
   ]
  },
  {
   "cell_type": "code",
   "execution_count": null,
   "id": "e75b0292",
   "metadata": {},
   "outputs": [],
   "source": []
  }
 ],
 "metadata": {
  "kernelspec": {
   "display_name": "Python 3 (ipykernel)",
   "language": "python",
   "name": "python3"
  },
  "language_info": {
   "codemirror_mode": {
    "name": "ipython",
    "version": 3
   },
   "file_extension": ".py",
   "mimetype": "text/x-python",
   "name": "python",
   "nbconvert_exporter": "python",
   "pygments_lexer": "ipython3",
   "version": "3.9.7"
  }
 },
 "nbformat": 4,
 "nbformat_minor": 5
}

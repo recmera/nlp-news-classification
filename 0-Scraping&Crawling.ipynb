{
 "cells": [
  {
   "cell_type": "code",
   "execution_count": 9,
   "id": "274a4ccf",
   "metadata": {
    "scrolled": true
   },
   "outputs": [],
   "source": [
    "import random\n",
    "import requests\n",
    "#!pip install requests-html\n",
    "from requests_html import HTMLSession\n",
    "from requests_html import HTML\n",
    "import os\n",
    "import json\n",
    "#!pip install validators\n",
    "import validators"
   ]
  },
  {
   "cell_type": "markdown",
   "id": "2a8a4403",
   "metadata": {},
   "source": [
    "Se busca obtener noticias de las siguientes categorías:\n",
    "\n",
    "\n",
    "- catástrofes y accidentes = 4\n",
    "- cultura y arte = 5\n",
    "- ecología y planeta = 7\n",
    "\n",
    "### 1. Crawling"
   ]
  },
  {
   "cell_type": "code",
   "execution_count": 10,
   "id": "1338f423",
   "metadata": {},
   "outputs": [],
   "source": [
    "SEED_CRAWL = 'https://www.emol.com/tag/cultura/194/todas.aspx'"
   ]
  },
  {
   "cell_type": "code",
   "execution_count": 11,
   "id": "dbb824ca",
   "metadata": {},
   "outputs": [],
   "source": [
    "QUERY_URL = \"//*[@id='LinkNoticia']\""
   ]
  },
  {
   "cell_type": "code",
   "execution_count": 14,
   "id": "d797b88d",
   "metadata": {},
   "outputs": [],
   "source": [
    "class Crawler:\n",
    "    \n",
    "    USER_AGENT_LIST = [\n",
    "        \"Mozilla/5.0 (Windows NT 6.1; WOW64) AppleWebKit/537.1 (KHTML, like Gecko) Chrome/22.0.1207.1 Safari/537.1\",\n",
    "        \"Mozilla/5.0 (X11; CrOS i686 2268.111.0) AppleWebKit/536.11 (KHTML, like Gecko) Chrome/20.0.1132.57 Safari/536.11\",\n",
    "        \"Mozilla/5.0 (Windows NT 6.1; WOW64) AppleWebKit/536.6 (KHTML, like Gecko) Chrome/20.0.1092.0 Safari/536.6\",\n",
    "        \"Mozilla/5.0 (Windows NT 6.2) AppleWebKit/536.6 (KHTML, like Gecko) Chrome/20.0.1090.0 Safari/536.6\",\n",
    "        \"Mozilla/5.0 (Windows NT 6.2; WOW64) AppleWebKit/537.1 (KHTML, like Gecko) Chrome/19.77.34.5 Safari/537.1\",\n",
    "        \"Mozilla/5.0 (X11; Linux x86_64) AppleWebKit/536.5 (KHTML, like Gecko) Chrome/19.0.1084.9 Safari/536.5\",\n",
    "        \"Mozilla/5.0 (Windows NT 6.0) AppleWebKit/536.5 (KHTML, like Gecko) Chrome/19.0.1084.36 Safari/536.5\",\n",
    "        \"Mozilla/5.0 (Windows NT 6.1; WOW64) AppleWebKit/536.3 (KHTML, like Gecko) Chrome/19.0.1063.0 Safari/536.3\",\n",
    "        \"Mozilla/5.0 (Windows NT 5.1) AppleWebKit/536.3 (KHTML, like Gecko) Chrome/19.0.1063.0 Safari/536.3\",\n",
    "        \"Mozilla/5.0 (Macintosh; Intel Mac OS X 10_8_0) AppleWebKit/536.3 (KHTML, like Gecko) Chrome/19.0.1063.0 Safari/536.3\",\n",
    "        \"Mozilla/5.0 (Windows NT 6.2) AppleWebKit/536.3 (KHTML, like Gecko) Chrome/19.0.1062.0 Safari/536.3\",\n",
    "        \"Mozilla/5.0 (Windows NT 6.1; WOW64) AppleWebKit/536.3 (KHTML, like Gecko) Chrome/19.0.1062.0 Safari/536.3\",\n",
    "        \"Mozilla/5.0 (Windows NT 6.2) AppleWebKit/536.3 (KHTML, like Gecko) Chrome/19.0.1061.1 Safari/536.3\",\n",
    "        \"Mozilla/5.0 (Windows NT 6.1; WOW64) AppleWebKit/536.3 (KHTML, like Gecko) Chrome/19.0.1061.1 Safari/536.3\",\n",
    "        \"Mozilla/5.0 (Windows NT 6.1) AppleWebKit/536.3 (KHTML, like Gecko) Chrome/19.0.1061.1 Safari/536.3\",\n",
    "        \"Mozilla/5.0 (Windows NT 6.2) AppleWebKit/536.3 (KHTML, like Gecko) Chrome/19.0.1061.0 Safari/536.3\",\n",
    "        \"Mozilla/5.0 (X11; Linux x86_64) AppleWebKit/535.24 (KHTML, like Gecko) Chrome/19.0.1055.1 Safari/535.24\",\n",
    "        \"Mozilla/5.0 (Windows NT 6.2; WOW64) AppleWebKit/535.24 (KHTML, like Gecko) Chrome/19.0.1055.1 Safari/535.24\"\n",
    "]\n",
    "\n",
    "    query_extract_all_href=QUERY_URL\n",
    "\n",
    "    all_json_to_send = []\n",
    "    \n",
    "    def _init_(self):\n",
    "        pass\n",
    "    \n",
    "    def start_request(self,url):\n",
    "        session = HTMLSession()\n",
    "        header = dict()\n",
    "        header['user-agent'] = random.choice(self.USER_AGENT_LIST)\n",
    "        response = session.get(url,headers=header)        \n",
    "        return response\n",
    "    \n",
    "    def parse(self, response):\n",
    "        self.all_json_to_send = []\n",
    "        all_extracted_href = response.html.xpath(self.query_extract_all_href)\n",
    "        for href in all_extracted_href:\n",
    "            json_to_send= dict()\n",
    "            path = \"https://www.emol.com\"\n",
    "            json_to_send[\"url\"]=path+href\n",
    "            #json_to_send[\"url\"]=href\n",
    "            self.all_json_to_send.append(json_to_send)"
   ]
  },
  {
   "cell_type": "code",
   "execution_count": 15,
   "id": "d7975505",
   "metadata": {},
   "outputs": [],
   "source": [
    "crawler = Crawler()\n",
    "\n",
    "response = crawler.start_request(SEED_CRAWL)"
   ]
  },
  {
   "cell_type": "code",
   "execution_count": 16,
   "id": "f7369703",
   "metadata": {},
   "outputs": [],
   "source": [
    "crawler.parse(response)"
   ]
  },
  {
   "cell_type": "code",
   "execution_count": 17,
   "id": "7e295c29",
   "metadata": {},
   "outputs": [
    {
     "data": {
      "text/plain": [
       "[]"
      ]
     },
     "execution_count": 17,
     "metadata": {},
     "output_type": "execute_result"
    }
   ],
   "source": [
    "crawler.all_json_to_send"
   ]
  },
  {
   "cell_type": "markdown",
   "id": "77f08d7b",
   "metadata": {},
   "source": [
    "### 2. Scraping"
   ]
  },
  {
   "cell_type": "code",
   "execution_count": null,
   "id": "b12357b4",
   "metadata": {},
   "outputs": [],
   "source": [
    "SEED_SCRAP = 'https://7news.com.au/lifestyle/personal-finance/temporary-changes-to-parental-leave-access-c-1368278'"
   ]
  },
  {
   "cell_type": "code",
   "execution_count": null,
   "id": "a09e2bee",
   "metadata": {},
   "outputs": [],
   "source": [
    "QUERY_CONTENT =  \"//p\""
   ]
  },
  {
   "cell_type": "code",
   "execution_count": null,
   "id": "8da8b66b",
   "metadata": {},
   "outputs": [],
   "source": [
    "DATE = crawler.all_json_to_send[0][\"date\"]\n",
    "TITLE = crawler.all_json_to_send[0][\"title\"]"
   ]
  },
  {
   "cell_type": "code",
   "execution_count": null,
   "id": "b00ce814",
   "metadata": {},
   "outputs": [],
   "source": [
    "import json\n",
    "import w3lib.html\n",
    "import random\n",
    "import os\n",
    "import datetime\n",
    "import requests\n",
    "import string\n",
    "import calendar\n",
    "import html\n",
    "import locale \n",
    "from requests_html import HTMLSession"
   ]
  },
  {
   "cell_type": "code",
   "execution_count": null,
   "id": "54f75257",
   "metadata": {},
   "outputs": [],
   "source": [
    "class Scraper:\n",
    "    \n",
    "    USER_AGENT_LIST = [\n",
    "        \"Mozilla/5.0 (Windows NT 6.1; WOW64) AppleWebKit/537.1 (KHTML, like Gecko) Chrome/22.0.1207.1 Safari/537.1\",\n",
    "        \"Mozilla/5.0 (X11; CrOS i686 2268.111.0) AppleWebKit/536.11 (KHTML, like Gecko) Chrome/20.0.1132.57 Safari/536.11\",\n",
    "        \"Mozilla/5.0 (Windows NT 6.1; WOW64) AppleWebKit/536.6 (KHTML, like Gecko) Chrome/20.0.1092.0 Safari/536.6\",\n",
    "        \"Mozilla/5.0 (Windows NT 6.2) AppleWebKit/536.6 (KHTML, like Gecko) Chrome/20.0.1090.0 Safari/536.6\",\n",
    "        \"Mozilla/5.0 (Windows NT 6.2; WOW64) AppleWebKit/537.1 (KHTML, like Gecko) Chrome/19.77.34.5 Safari/537.1\",\n",
    "        \"Mozilla/5.0 (X11; Linux x86_64) AppleWebKit/536.5 (KHTML, like Gecko) Chrome/19.0.1084.9 Safari/536.5\",\n",
    "        \"Mozilla/5.0 (Windows NT 6.0) AppleWebKit/536.5 (KHTML, like Gecko) Chrome/19.0.1084.36 Safari/536.5\",\n",
    "        \"Mozilla/5.0 (Windows NT 6.1; WOW64) AppleWebKit/536.3 (KHTML, like Gecko) Chrome/19.0.1063.0 Safari/536.3\",\n",
    "        \"Mozilla/5.0 (Windows NT 5.1) AppleWebKit/536.3 (KHTML, like Gecko) Chrome/19.0.1063.0 Safari/536.3\",\n",
    "        \"Mozilla/5.0 (Macintosh; Intel Mac OS X 10_8_0) AppleWebKit/536.3 (KHTML, like Gecko) Chrome/19.0.1063.0 Safari/536.3\",\n",
    "        \"Mozilla/5.0 (Windows NT 6.2) AppleWebKit/536.3 (KHTML, like Gecko) Chrome/19.0.1062.0 Safari/536.3\",\n",
    "        \"Mozilla/5.0 (Windows NT 6.1; WOW64) AppleWebKit/536.3 (KHTML, like Gecko) Chrome/19.0.1062.0 Safari/536.3\",\n",
    "        \"Mozilla/5.0 (Windows NT 6.2) AppleWebKit/536.3 (KHTML, like Gecko) Chrome/19.0.1061.1 Safari/536.3\",\n",
    "        \"Mozilla/5.0 (Windows NT 6.1; WOW64) AppleWebKit/536.3 (KHTML, like Gecko) Chrome/19.0.1061.1 Safari/536.3\",\n",
    "        \"Mozilla/5.0 (Windows NT 6.1) AppleWebKit/536.3 (KHTML, like Gecko) Chrome/19.0.1061.1 Safari/536.3\",\n",
    "        \"Mozilla/5.0 (Windows NT 6.2) AppleWebKit/536.3 (KHTML, like Gecko) Chrome/19.0.1061.0 Safari/536.3\",\n",
    "        \"Mozilla/5.0 (X11; Linux x86_64) AppleWebKit/535.24 (KHTML, like Gecko) Chrome/19.0.1055.1 Safari/535.24\",\n",
    "        \"Mozilla/5.0 (Windows NT 6.2; WOW64) AppleWebKit/535.24 (KHTML, like Gecko) Chrome/19.0.1055.1 Safari/535.24\"\n",
    "    ]\n",
    "\n",
    "\n",
    "    query_extract_text =  QUERY_CONTENT\n",
    "\n",
    "    news_title = TITLE\n",
    "    date = DATE\n",
    "\n",
    "    def _init_(self):\n",
    "        pass\n",
    "\n",
    "    def clean_text(self, html_text):\n",
    "        text_without_tags = w3lib.html.remove_tags(html_text)\n",
    "        text_without_escape_chars = w3lib.html.replace_escape_chars(text_without_tags)\n",
    "        text_without_escape_chars = html.unescape(text_without_escape_chars)\n",
    "        text_without_whitespace = text_without_escape_chars.strip()\n",
    "        return text_without_whitespace\n",
    "\n",
    "    def replace_month_name_to_number(self,date_string):\n",
    "        lower_string = date_string.lower()\n",
    "        for month_id in range(1, 13):\n",
    "            if(lower_string.find(calendar.month_name[month_id].lower())!=-1):\n",
    "                if(month_id>=10):\n",
    "                    return (lower_string.replace(calendar.month_name[month_id].lower(),str(month_id)))\n",
    "                else:\n",
    "                    return (lower_string.replace(calendar.month_name[month_id].lower(),\"0\"+str(month_id)))\n",
    "            if(lower_string.find(calendar.month_abbr[month_id].lower())!=-1):\n",
    "                if(month_id>=10):\n",
    "                    return (lower_string.replace(calendar.month_abbr[month_id].lower(),str(month_id)))\n",
    "                else:\n",
    "                    return (lower_string.replace(calendar.month_abbr[month_id].lower(),\"0\"+str(month_id)))\n",
    "                    \n",
    "    #Se puede modificar\n",
    "    def format_date(self,date):\n",
    "        date = date.split(\"T\")[0]\n",
    "        return(date)\n",
    "\n",
    "    #Se puede modificar\n",
    "    def parse(self, response):\n",
    "        self.news_text = []\n",
    "        self.message_to_send = []\n",
    "        self.scraped_url = response.url\n",
    "\n",
    "        self.news_title = self.clean_text(self.news_title)\n",
    "        self.date = self.clean_text(self.date)\n",
    "        self.date = self.format_date(self.date)\n",
    "        \n",
    "        news_text_extracted_response = response.html.xpath(self.query_extract_text)\n",
    "        for part_of_body in news_text_extracted_response:\n",
    "            stripped_html_tags = w3lib.html.remove_tags(part_of_body.text)\n",
    "            self.news_text.append(stripped_html_tags)\n",
    "\n",
    "    def start_request(self,url):\n",
    "        headers = {'user-agent':random.choice(self.USER_AGENT_LIST) }\n",
    "        session = HTMLSession()\n",
    "        response = session.get(url,headers=headers)        \n",
    "        return response      "
   ]
  },
  {
   "cell_type": "code",
   "execution_count": null,
   "id": "75b512b9",
   "metadata": {},
   "outputs": [],
   "source": [
    "scraper = Scraper()\n",
    "response =scraper.start_request(SEED_SCRAP)"
   ]
  },
  {
   "cell_type": "code",
   "execution_count": null,
   "id": "dedf0ed3",
   "metadata": {},
   "outputs": [],
   "source": [
    "scraper.parse(response)"
   ]
  },
  {
   "cell_type": "code",
   "execution_count": null,
   "id": "56679919",
   "metadata": {},
   "outputs": [],
   "source": [
    "scraper.news_title"
   ]
  }
 ],
 "metadata": {
  "kernelspec": {
   "display_name": "Python 3 (ipykernel)",
   "language": "python",
   "name": "python3"
  },
  "language_info": {
   "codemirror_mode": {
    "name": "ipython",
    "version": 3
   },
   "file_extension": ".py",
   "mimetype": "text/x-python",
   "name": "python",
   "nbconvert_exporter": "python",
   "pygments_lexer": "ipython3",
   "version": "3.9.7"
  }
 },
 "nbformat": 4,
 "nbformat_minor": 5
}

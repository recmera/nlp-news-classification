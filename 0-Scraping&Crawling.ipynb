{
 "cells": [
  {
   "cell_type": "code",
   "execution_count": 15,
   "id": "274a4ccf",
   "metadata": {
    "scrolled": true
   },
   "outputs": [],
   "source": [
    "import random\n",
    "import requests\n",
    "from requests_html import HTMLSession\n",
    "from requests_html import HTML\n",
    "import os\n",
    "import re\n",
    "import json\n",
    "import validators\n",
    "from tqdm.notebook import trange, tqdm\n",
    "from time import sleep\n",
    "from functools import partial"
   ]
  },
  {
   "cell_type": "markdown",
   "id": "2a8a4403",
   "metadata": {},
   "source": [
    "Se busca obtener noticias de las siguientes categorías:\n",
    "\n",
    "\n",
    "- catástrofes y accidentes = 4\n",
    "- cultura y arte = 5\n",
    "- ecología y planeta = 7\n",
    "\n",
    "### 1. Crawling"
   ]
  },
  {
   "cell_type": "code",
   "execution_count": 8,
   "id": "d797b88d",
   "metadata": {},
   "outputs": [],
   "source": [
    "class Crawler():\n",
    "    \n",
    "    USER_AGENT_LIST = [\n",
    "        \"Mozilla/5.0 (Windows NT 6.1; WOW64) AppleWebKit/537.1 (KHTML, like Gecko) Chrome/22.0.1207.1 Safari/537.1\",\n",
    "        \"Mozilla/5.0 (X11; CrOS i686 2268.111.0) AppleWebKit/536.11 (KHTML, like Gecko) Chrome/20.0.1132.57 Safari/536.11\",\n",
    "        \"Mozilla/5.0 (Windows NT 6.1; WOW64) AppleWebKit/536.6 (KHTML, like Gecko) Chrome/20.0.1092.0 Safari/536.6\",\n",
    "        \"Mozilla/5.0 (Windows NT 6.2) AppleWebKit/536.6 (KHTML, like Gecko) Chrome/20.0.1090.0 Safari/536.6\",\n",
    "        \"Mozilla/5.0 (Windows NT 6.2; WOW64) AppleWebKit/537.1 (KHTML, like Gecko) Chrome/19.77.34.5 Safari/537.1\",\n",
    "        \"Mozilla/5.0 (X11; Linux x86_64) AppleWebKit/536.5 (KHTML, like Gecko) Chrome/19.0.1084.9 Safari/536.5\",\n",
    "        \"Mozilla/5.0 (Windows NT 6.0) AppleWebKit/536.5 (KHTML, like Gecko) Chrome/19.0.1084.36 Safari/536.5\",\n",
    "        \"Mozilla/5.0 (Windows NT 6.1; WOW64) AppleWebKit/536.3 (KHTML, like Gecko) Chrome/19.0.1063.0 Safari/536.3\",\n",
    "        \"Mozilla/5.0 (Windows NT 5.1) AppleWebKit/536.3 (KHTML, like Gecko) Chrome/19.0.1063.0 Safari/536.3\",\n",
    "        \"Mozilla/5.0 (Macintosh; Intel Mac OS X 10_8_0) AppleWebKit/536.3 (KHTML, like Gecko) Chrome/19.0.1063.0 Safari/536.3\",\n",
    "        \"Mozilla/5.0 (Windows NT 6.2) AppleWebKit/536.3 (KHTML, like Gecko) Chrome/19.0.1062.0 Safari/536.3\",\n",
    "        \"Mozilla/5.0 (Windows NT 6.1; WOW64) AppleWebKit/536.3 (KHTML, like Gecko) Chrome/19.0.1062.0 Safari/536.3\",\n",
    "        \"Mozilla/5.0 (Windows NT 6.2) AppleWebKit/536.3 (KHTML, like Gecko) Chrome/19.0.1061.1 Safari/536.3\",\n",
    "        \"Mozilla/5.0 (Windows NT 6.1; WOW64) AppleWebKit/536.3 (KHTML, like Gecko) Chrome/19.0.1061.1 Safari/536.3\",\n",
    "        \"Mozilla/5.0 (Windows NT 6.1) AppleWebKit/536.3 (KHTML, like Gecko) Chrome/19.0.1061.1 Safari/536.3\",\n",
    "        \"Mozilla/5.0 (Windows NT 6.2) AppleWebKit/536.3 (KHTML, like Gecko) Chrome/19.0.1061.0 Safari/536.3\",\n",
    "        \"Mozilla/5.0 (X11; Linux x86_64) AppleWebKit/535.24 (KHTML, like Gecko) Chrome/19.0.1055.1 Safari/535.24\",\n",
    "        \"Mozilla/5.0 (Windows NT 6.2; WOW64) AppleWebKit/535.24 (KHTML, like Gecko) Chrome/19.0.1055.1 Safari/535.24\"\n",
    "    ]\n",
    "    \n",
    "    def __init__(self, query_url):\n",
    "        self.query_extract_all_href = query_url\n",
    "        self.all_json_to_send = []\n",
    "        \n",
    "    def new_session_get(self):\n",
    "        session = HTMLSession()\n",
    "        header = dict()\n",
    "        header['user-agent'] = random.choice(self.USER_AGENT_LIST)\n",
    "        return partial(session.get, headers=header)\n",
    "    \n",
    "    def start_request(self,url):\n",
    "        session_get = self.new_session_get()\n",
    "        response = session_get(url)\n",
    "        return response\n",
    "    \n",
    "    def parse(self, response):\n",
    "        self.all_json_to_send = []\n",
    "        all_extracted_href = response.html.xpath(self.query_extract_all_href)\n",
    "        for href in all_extracted_href:\n",
    "            json_to_send= dict()\n",
    "            json_to_send[\"url\"]=href\n",
    "            self.all_json_to_send.append(json_to_send)"
   ]
  },
  {
   "cell_type": "code",
   "execution_count": 9,
   "id": "1df58f7f",
   "metadata": {},
   "outputs": [],
   "source": [
    "def get_urls(seed_crawl, query_url, limit, start=0, leave=False, extra_validation=None):\n",
    "    crawler = Crawler(query_url)\n",
    "    url_noticias = []\n",
    "    for page in trange(start, limit, desc='url noticias', leave=leave):\n",
    "        response = crawler.start_request(seed_crawl + str(page))\n",
    "        crawler.parse(response)\n",
    "        if extra_validation is not None:\n",
    "            noticias = [obj['url']\n",
    "                        for obj in crawler.all_json_to_send if extra_validation in obj['url']]\n",
    "        else:\n",
    "            noticias = [obj['url'] for obj in crawler.all_json_to_send]\n",
    "        url_noticias += noticias\n",
    "\n",
    "    print('total url noticias recopiladas: ', len(url_noticias))\n",
    "    return url_noticias\n",
    "\n",
    "def scrap_cnn_news(urls, starting_id, category, sleep_time=0):\n",
    "    crawler = Crawler('')\n",
    "    noticias_dicts = []\n",
    "    for i, url in enumerate(urls):\n",
    "    # algunas noticias llevan a otros sitios (en planeta pasa)\n",
    "        if re.match(r'^.*//www.(\\w+)\\..*', url).groups()[0] == 'cnnchile':\n",
    "            response = crawler.start_request(url)\n",
    "            _dict = {'id': i + starting_id,\n",
    "                     'url': url}\n",
    "            try:\n",
    "                _dict['title'] = response.html.xpath(QUERY_TITLE)[0]\n",
    "                _dict['text'] = re.sub(u'\\xa0', u' ', response.html.xpath(QUERY_BAJADA)[0])\n",
    "                _dict['category'] = category\n",
    "                lines = [line.text for line in response.html.xpath(QUERY_CONTENT)]\n",
    "                new_lines = [re.sub(u'\\xa0', u' ', line)\n",
    "                             for line in lines if not line.startswith('Lee también:')]\n",
    "                new_lines[0] = re.match(r'^(.*– )?(.*)', new_lines[0]).groups()[1]\n",
    "                _dict['text'] += ' '.join(new_lines)\n",
    "                noticias_dicts.append(_dict)\n",
    "            except IndexError:\n",
    "                print(i, url)\n",
    "            sleep(sleep_time)\n",
    "    return noticias_dicts"
   ]
  },
  {
   "cell_type": "code",
   "execution_count": 10,
   "id": "b93e19b9",
   "metadata": {},
   "outputs": [],
   "source": [
    "QUERY_TITLE = \"//h1[@class='main-single-header__title']/text()\"\n",
    "QUERY_BAJADA = \"//div[@class='main-single-header__excerpt']//p/text()\"\n",
    "QUERY_CONTENT = \"//div[@class='main-single-body__content']//p\""
   ]
  },
  {
   "cell_type": "code",
   "execution_count": 11,
   "id": "186836b6",
   "metadata": {},
   "outputs": [],
   "source": [
    "SEED_CRAWL = 'https://www.cnnchile.com/category/cultura/page/'\n",
    "QUERY_URL = \"//h2[@class='inner-item__title']//a/@href\"\n",
    "STARTING_ID_CULTURA = 18001000"
   ]
  },
  {
   "cell_type": "code",
   "execution_count": 12,
   "id": "1fc9ea43",
   "metadata": {},
   "outputs": [
    {
     "data": {
      "application/vnd.jupyter.widget-view+json": {
       "model_id": "",
       "version_major": 2,
       "version_minor": 0
      },
      "text/plain": [
       "url noticias:   0%|          | 0/47 [00:00<?, ?it/s]"
      ]
     },
     "metadata": {},
     "output_type": "display_data"
    },
    {
     "name": "stdout",
     "output_type": "stream",
     "text": [
      "total url noticias recopiladas:  545\n"
     ]
    }
   ],
   "source": [
    "START = 71 # NOTICIAS DE AGOSTO 2020 HACIA ATRAS\n",
    "LIMIT = 118 # ULTIMA NOTICIA CON FECHA 31-12-2019 18:05\n",
    "url_noticias_cultura = get_urls(SEED_CRAWL, QUERY_URL,\n",
    "                                limit=LIMIT, start=71,\n",
    "                                extra_validation='cultura')"
   ]
  },
  {
   "cell_type": "code",
   "execution_count": 22,
   "id": "6bf9c68d",
   "metadata": {},
   "outputs": [],
   "source": [
    "import pandas as pd\n",
    "df_cultura = pd.DataFrame(scrap_cnn_news(url_noticias_cultura,18001000,'cultura'))"
   ]
  },
  {
   "cell_type": "code",
   "execution_count": 23,
   "id": "e9b70c4a",
   "metadata": {},
   "outputs": [
    {
     "data": {
      "text/html": [
       "<div>\n",
       "<style scoped>\n",
       "    .dataframe tbody tr th:only-of-type {\n",
       "        vertical-align: middle;\n",
       "    }\n",
       "\n",
       "    .dataframe tbody tr th {\n",
       "        vertical-align: top;\n",
       "    }\n",
       "\n",
       "    .dataframe thead th {\n",
       "        text-align: right;\n",
       "    }\n",
       "</style>\n",
       "<table border=\"1\" class=\"dataframe\">\n",
       "  <thead>\n",
       "    <tr style=\"text-align: right;\">\n",
       "      <th></th>\n",
       "      <th>id</th>\n",
       "      <th>url</th>\n",
       "      <th>title</th>\n",
       "      <th>text</th>\n",
       "      <th>category</th>\n",
       "    </tr>\n",
       "  </thead>\n",
       "  <tbody>\n",
       "    <tr>\n",
       "      <th>0</th>\n",
       "      <td>18001000</td>\n",
       "      <td>https://www.cnnchile.com/cultura/fechas-reprog...</td>\n",
       "      <td>Ya hay fechas confirmadas: La décima edición d...</td>\n",
       "      <td>Debido a la actual crisis sanitaria, la produc...</td>\n",
       "      <td>cultura</td>\n",
       "    </tr>\n",
       "    <tr>\n",
       "      <th>1</th>\n",
       "      <td>18001001</td>\n",
       "      <td>https://www.cnnchile.com/cultura/el-mix-lanzam...</td>\n",
       "      <td>El Mix: The Rolling Stones y Ozuna lideran los...</td>\n",
       "      <td>La música de Chile y el mundo se reactiva con ...</td>\n",
       "      <td>cultura</td>\n",
       "    </tr>\n",
       "    <tr>\n",
       "      <th>2</th>\n",
       "      <td>18001002</td>\n",
       "      <td>https://www.cnnchile.com/cultura/bronko-yotte-...</td>\n",
       "      <td>Bronko Yotte estrena “Piola”, su nuevo single ...</td>\n",
       "      <td>El tema forma parte de \"Fuero Interno\", el pró...</td>\n",
       "      <td>cultura</td>\n",
       "    </tr>\n",
       "    <tr>\n",
       "      <th>3</th>\n",
       "      <td>18001003</td>\n",
       "      <td>https://www.cnnchile.com/cultura/tan-cerca-el-...</td>\n",
       "      <td>“Tan cerca”, el primer sencillo original de Su...</td>\n",
       "      <td>Constanza Lewin (1° generación) y Constanza Lü...</td>\n",
       "      <td>cultura</td>\n",
       "    </tr>\n",
       "    <tr>\n",
       "      <th>4</th>\n",
       "      <td>18001004</td>\n",
       "      <td>https://www.cnnchile.com/cultura/britney-spear...</td>\n",
       "      <td>“El mundo está mirando”: Britney Spears se ref...</td>\n",
       "      <td>A través de su abogado defensor, la cantante s...</td>\n",
       "      <td>cultura</td>\n",
       "    </tr>\n",
       "  </tbody>\n",
       "</table>\n",
       "</div>"
      ],
      "text/plain": [
       "         id                                                url  \\\n",
       "0  18001000  https://www.cnnchile.com/cultura/fechas-reprog...   \n",
       "1  18001001  https://www.cnnchile.com/cultura/el-mix-lanzam...   \n",
       "2  18001002  https://www.cnnchile.com/cultura/bronko-yotte-...   \n",
       "3  18001003  https://www.cnnchile.com/cultura/tan-cerca-el-...   \n",
       "4  18001004  https://www.cnnchile.com/cultura/britney-spear...   \n",
       "\n",
       "                                               title  \\\n",
       "0  Ya hay fechas confirmadas: La décima edición d...   \n",
       "1  El Mix: The Rolling Stones y Ozuna lideran los...   \n",
       "2  Bronko Yotte estrena “Piola”, su nuevo single ...   \n",
       "3  “Tan cerca”, el primer sencillo original de Su...   \n",
       "4  “El mundo está mirando”: Britney Spears se ref...   \n",
       "\n",
       "                                                text category  \n",
       "0  Debido a la actual crisis sanitaria, la produc...  cultura  \n",
       "1  La música de Chile y el mundo se reactiva con ...  cultura  \n",
       "2  El tema forma parte de \"Fuero Interno\", el pró...  cultura  \n",
       "3  Constanza Lewin (1° generación) y Constanza Lü...  cultura  \n",
       "4  A través de su abogado defensor, la cantante s...  cultura  "
      ]
     },
     "execution_count": 23,
     "metadata": {},
     "output_type": "execute_result"
    }
   ],
   "source": [
    "df_cultura.head(5)"
   ]
  }
 ],
 "metadata": {
  "kernelspec": {
   "display_name": "Python 3 (ipykernel)",
   "language": "python",
   "name": "python3"
  },
  "language_info": {
   "codemirror_mode": {
    "name": "ipython",
    "version": 3
   },
   "file_extension": ".py",
   "mimetype": "text/x-python",
   "name": "python",
   "nbconvert_exporter": "python",
   "pygments_lexer": "ipython3",
   "version": "3.9.7"
  }
 },
 "nbformat": 4,
 "nbformat_minor": 5
}

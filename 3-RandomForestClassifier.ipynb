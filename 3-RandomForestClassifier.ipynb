{
 "cells": [
  {
   "cell_type": "code",
   "execution_count": 8,
   "id": "d09327df",
   "metadata": {},
   "outputs": [],
   "source": [
    "#NLP\n",
    "import spacy\n",
    "nlp = spacy.load(\"es_core_news_sm\")\n",
    "from spacy.lang.es.stop_words import STOP_WORDS\n",
    "from spacy.lang.es import Spanish\n",
    "import string\n",
    "\n",
    "#SKLEARN\n",
    "from sklearn.model_selection import train_test_split\n",
    "from sklearn.feature_extraction.text import CountVectorizer,TfidfVectorizer\n",
    "from sklearn.base import TransformerMixin\n",
    "from sklearn.pipeline import Pipeline\n",
    "from sklearn import metrics\n",
    "from sklearn.linear_model import LogisticRegression # Regresion Logística\n",
    "\n",
    "# Data manipulation\n",
    "from imblearn.under_sampling import RandomUnderSampler\n",
    "import pandas as pd\n",
    "import numpy as np\n",
    "\n",
    "# Plotting\n",
    "import matplotlib.pyplot as plt\n",
    "from tqdm import tqdm\n"
   ]
  },
  {
   "cell_type": "code",
   "execution_count": 2,
   "id": "53ee16af",
   "metadata": {},
   "outputs": [
    {
     "data": {
      "text/html": [
       "<div>\n",
       "<style scoped>\n",
       "    .dataframe tbody tr th:only-of-type {\n",
       "        vertical-align: middle;\n",
       "    }\n",
       "\n",
       "    .dataframe tbody tr th {\n",
       "        vertical-align: top;\n",
       "    }\n",
       "\n",
       "    .dataframe thead th {\n",
       "        text-align: right;\n",
       "    }\n",
       "</style>\n",
       "<table border=\"1\" class=\"dataframe\">\n",
       "  <thead>\n",
       "    <tr style=\"text-align: right;\">\n",
       "      <th></th>\n",
       "      <th>content</th>\n",
       "      <th>label</th>\n",
       "    </tr>\n",
       "  </thead>\n",
       "  <tbody>\n",
       "    <tr>\n",
       "      <th>0</th>\n",
       "      <td>Edificio se inunda tras rotura de piscina en C...</td>\n",
       "      <td>politica</td>\n",
       "    </tr>\n",
       "    <tr>\n",
       "      <th>1</th>\n",
       "      <td>Trump visita Kenosha y califica de \"terrorismo...</td>\n",
       "      <td>ciencia</td>\n",
       "    </tr>\n",
       "    <tr>\n",
       "      <th>2</th>\n",
       "      <td>El secreto detalle en la vestimenta de Pablo E...</td>\n",
       "      <td>ciencia</td>\n",
       "    </tr>\n",
       "    <tr>\n",
       "      <th>3</th>\n",
       "      <td>Extraño tiburón sin piel es avistado nadando e...</td>\n",
       "      <td>ciencia</td>\n",
       "    </tr>\n",
       "    <tr>\n",
       "      <th>4</th>\n",
       "      <td>\"Melania y yo\": La exmejor mejor amiga revela ...</td>\n",
       "      <td>ciencia</td>\n",
       "    </tr>\n",
       "    <tr>\n",
       "      <th>...</th>\n",
       "      <td>...</td>\n",
       "      <td>...</td>\n",
       "    </tr>\n",
       "    <tr>\n",
       "      <th>69308</th>\n",
       "      <td>Paris destaca caída \"moderada\" de casos, pero ...</td>\n",
       "      <td>salud</td>\n",
       "    </tr>\n",
       "    <tr>\n",
       "      <th>69309</th>\n",
       "      <td>Diputado Ilabaca (PS) critica al Gobierno por ...</td>\n",
       "      <td>politica</td>\n",
       "    </tr>\n",
       "    <tr>\n",
       "      <th>69310</th>\n",
       "      <td>Provoste se distancia de anuncio del President...</td>\n",
       "      <td>politica</td>\n",
       "    </tr>\n",
       "    <tr>\n",
       "      <th>69311</th>\n",
       "      <td>Vacunas CanSino, que requieren una sola dosis,...</td>\n",
       "      <td>salud</td>\n",
       "    </tr>\n",
       "    <tr>\n",
       "      <th>69312</th>\n",
       "      <td>Briones y ausencia en anuncio en La Moneda: No...</td>\n",
       "      <td>politica</td>\n",
       "    </tr>\n",
       "  </tbody>\n",
       "</table>\n",
       "<p>69313 rows × 2 columns</p>\n",
       "</div>"
      ],
      "text/plain": [
       "                                                 content     label\n",
       "0      Edificio se inunda tras rotura de piscina en C...  politica\n",
       "1      Trump visita Kenosha y califica de \"terrorismo...   ciencia\n",
       "2      El secreto detalle en la vestimenta de Pablo E...   ciencia\n",
       "3      Extraño tiburón sin piel es avistado nadando e...   ciencia\n",
       "4      \"Melania y yo\": La exmejor mejor amiga revela ...   ciencia\n",
       "...                                                  ...       ...\n",
       "69308  Paris destaca caída \"moderada\" de casos, pero ...     salud\n",
       "69309  Diputado Ilabaca (PS) critica al Gobierno por ...  politica\n",
       "69310  Provoste se distancia de anuncio del President...  politica\n",
       "69311  Vacunas CanSino, que requieren una sola dosis,...     salud\n",
       "69312  Briones y ausencia en anuncio en La Moneda: No...  politica\n",
       "\n",
       "[69313 rows x 2 columns]"
      ]
     },
     "execution_count": 2,
     "metadata": {},
     "output_type": "execute_result"
    }
   ],
   "source": [
    "df = pd.read_csv(\"topics.csv\",sep=',',error_bad_lines=False)\n",
    "df.drop(['Unnamed: 0'], axis = 1, inplace=True) # Para suprimir la columna ID\n",
    "df.drop(columns=['text','media_outlet', 'url','topic'], inplace=True)\n",
    "\n",
    "df = df.astype({\"label\": str})\n",
    "df.replace(\"0.0\",\"mundo\", inplace=True)\n",
    "df.replace(\"1.0\",\"economia\", inplace=True)\n",
    "df.replace(\"2.0\",\"politica\", inplace=True)\n",
    "df.replace(\"3.0\",\"ciencia\", inplace=True)\n",
    "df.replace(\"6.0\",\"deporte\", inplace=True)\n",
    "df.replace(\"8.0\",\"crimen\", inplace=True)\n",
    "df.replace(\"9.0\",\"salud\", inplace=True)\n",
    "\n",
    "df"
   ]
  },
  {
   "cell_type": "code",
   "execution_count": 6,
   "id": "54b3d5a4",
   "metadata": {
    "scrolled": true
   },
   "outputs": [
    {
     "data": {
      "image/png": "[encoded data removed]",
      "text/plain": [
       "<Figure size 288x288 with 1 Axes>"
      ]
     },
     "metadata": {},
     "output_type": "display_data"
    }
   ],
   "source": [
    "dfc = df[df['label']!=\"5.0\"]\n",
    "dfc = dfc[dfc['label']!=\"7.0\"]\n",
    "undersample = RandomUnderSampler(random_state=0)\n",
    "x_res,y_res = undersample.fit_resample(dfc,dfc['label'])\n",
    "fig, ax = plt.subplots(figsize=(4,4),tight_layout=True)\n",
    "ax = y_res.value_counts().plot.pie(autopct='%.2f')\n",
    "_ = ax.set_title(\"Undersampling\")\n",
    "plt.show()"
   ]
  },
  {
   "cell_type": "code",
   "execution_count": 23,
   "id": "823be67e",
   "metadata": {},
   "outputs": [],
   "source": [
    "from sklearn.model_selection import train_test_split\n",
    "X_train, X_test, y_train, y_test = train_test_split(x_res['content'],y_res, test_size=0.5)"
   ]
  },
  {
   "cell_type": "code",
   "execution_count": 24,
   "id": "363cdeff",
   "metadata": {},
   "outputs": [],
   "source": [
    "# Create our list of punctuation marks\n",
    "punctuations = [\".\",\",\",\"!\",\"?\", \"#\",\"&\"]\n",
    "\n",
    "# Create our list of stopwords\n",
    "stop_words=[\"\"]\n",
    "\n",
    "# Load English tokenizer, tagger, parser, NER and word vectors\n",
    "parser = Spanish()\n",
    "\n",
    "# Creating our tokenizer function\n",
    "def spacy_tokenizer(sentence):\n",
    "    # Creating our token object, which is used to create documents with linguistic annotations.\n",
    "    mytokens = parser(sentence)\n",
    "\n",
    "    # Lemmatizing each token and converting each token into lowercase\n",
    "    mytokens = [word.lower_ for word in mytokens]\n",
    "        \n",
    "    # Removing stop words\n",
    "    mytokens = [ word for word in mytokens if word not in stop_words and word not in punctuations ]\n",
    "\n",
    "    # return preprocessed list of tokens\n",
    "    return mytokens"
   ]
  },
  {
   "cell_type": "code",
   "execution_count": 25,
   "id": "30302d65",
   "metadata": {},
   "outputs": [
    {
     "data": {
      "text/plain": [
       "CountVectorizer(tokenizer=<function spacy_tokenizer at 0x7f9c82d75700>)"
      ]
     },
     "execution_count": 25,
     "metadata": {},
     "output_type": "execute_result"
    }
   ],
   "source": [
    "bow_vector = CountVectorizer(tokenizer = spacy_tokenizer, ngram_range=(1,1))\n",
    "bow_vector"
   ]
  },
  {
   "cell_type": "code",
   "execution_count": 26,
   "id": "2a0a6dc2",
   "metadata": {},
   "outputs": [],
   "source": [
    "tfidf_vector = TfidfVectorizer(tokenizer = spacy_tokenizer, ngram_range=(1,1))"
   ]
  },
  {
   "cell_type": "code",
   "execution_count": 28,
   "id": "e410cee7",
   "metadata": {},
   "outputs": [
    {
     "data": {
      "text/plain": [
       "Pipeline(steps=[('preprocessing',\n",
       "                 CountVectorizer(tokenizer=<function spacy_tokenizer at 0x7f9c82d75700>)),\n",
       "                ('regression-ML', RandomForestClassifier(random_state=0))])"
      ]
     },
     "execution_count": 28,
     "metadata": {},
     "output_type": "execute_result"
    }
   ],
   "source": [
    "from sklearn.ensemble import RandomForestClassifier\n",
    "modelRF = RandomForestClassifier(random_state=0)\n",
    "\n",
    "model3 = Pipeline([('preprocessing', bow_vector),\n",
    "                 ('regression-ML', modelRF)])\n",
    "\n",
    "# model generation\n",
    "model3.fit(X_train,y_train)"
   ]
  },
  {
   "cell_type": "code",
   "execution_count": 32,
   "id": "578de660",
   "metadata": {},
   "outputs": [
    {
     "name": "stdout",
     "output_type": "stream",
     "text": [
      "['economia' 'crimen' 'politica' ... 'politica' 'ciencia' 'economia']\n",
      "Logistic Regression Accuracy: 0.6249832641585219\n",
      "Logistic Regression Precision: 0.6249832641585219\n",
      "Logistic Regression Recall: 0.6249832641585219\n"
     ]
    }
   ],
   "source": [
    "# Predicting with a test dataset\n",
    "predicted = model3.predict(X_test)\n",
    "print(predicted)\n",
    "\n",
    "# Model Accuracy\n",
    "print(\"Logistic Regression Accuracy:\",metrics.accuracy_score(y_test, predicted))\n",
    "print(\"Logistic Regression Precision:\",metrics.precision_score(y_test, predicted, \n",
    "                                           average='micro'))\n",
    "print(\"Logistic Regression Recall:\",metrics.recall_score(y_test, predicted, \n",
    "                                           average='micro'))"
   ]
  },
  {
   "cell_type": "code",
   "execution_count": 33,
   "id": "e975ae91",
   "metadata": {},
   "outputs": [
    {
     "name": "stdout",
     "output_type": "stream",
     "text": [
      "[[568 115 123  74  59  92  68]\n",
      " [ 13 918  36   9  12  51  12]\n",
      " [ 26 104 551 131  59  90 100]\n",
      " [ 28  83 119 610  58  83  73]\n",
      " [111 115 153  96 357 107 143]\n",
      " [ 83 105  60  41  63 687  35]\n",
      " [ 13  14   9   7  14  14 977]]\n",
      "              precision    recall  f1-score   support\n",
      "\n",
      "     ciencia       0.67      0.52      0.59      1099\n",
      "      crimen       0.63      0.87      0.73      1051\n",
      "     deporte       0.52      0.52      0.52      1061\n",
      "    economia       0.63      0.58      0.60      1054\n",
      "       mundo       0.57      0.33      0.42      1082\n",
      "    politica       0.61      0.64      0.63      1074\n",
      "       salud       0.69      0.93      0.80      1048\n",
      "\n",
      "    accuracy                           0.62      7469\n",
      "   macro avg       0.62      0.63      0.61      7469\n",
      "weighted avg       0.62      0.62      0.61      7469\n",
      "\n"
     ]
    }
   ],
   "source": [
    "#Evaluación del rendimiento del clasificador\n",
    "from sklearn.metrics import confusion_matrix\n",
    "confusion_matrix = confusion_matrix(y_test, predicted)\n",
    "print(confusion_matrix)\n",
    "\n",
    "#Print de la matriz de confusión\n",
    "from sklearn.metrics import classification_report\n",
    "print(classification_report(y_test, predicted))\n",
    "\n"
   ]
  },
  {
   "cell_type": "code",
   "execution_count": 37,
   "id": "dbb9d957",
   "metadata": {},
   "outputs": [
    {
     "name": "stdout",
     "output_type": "stream",
     "text": [
      "              precision    recall  f1-score   support\n",
      "\n",
      "     ciencia      0.675     0.517     0.585      1099\n",
      "      crimen      0.631     0.873     0.733      1051\n",
      "     deporte      0.524     0.519     0.522      1061\n",
      "    economia      0.630     0.579     0.603      1054\n",
      "       mundo      0.574     0.330     0.419      1082\n",
      "    politica      0.611     0.640     0.625      1074\n",
      "       salud      0.694     0.932     0.796      1048\n",
      "\n",
      "    accuracy                          0.625      7469\n",
      "   macro avg      0.620     0.627     0.612      7469\n",
      "weighted avg      0.620     0.625     0.611      7469\n",
      "\n"
     ]
    },
    {
     "data": {
      "image/png": "[encoded data removed]",
      "text/plain": [
       "<Figure size 360x360 with 1 Axes>"
      ]
     },
     "metadata": {
      "needs_background": "light"
     },
     "output_type": "display_data"
    }
   ],
   "source": [
    "from sklearn.metrics import confusion_matrix, classification_report\n",
    "\n",
    "def plot_confusion_matrix(cm, labels, cmap=plt.cm.Blues):\n",
    "    fig, ax = plt.subplots(figsize=(5, 5), tight_layout=True)\n",
    "    ax.imshow(cm, interpolation='nearest', cmap=cmap)\n",
    "    for i in range(cm.shape[1]):\n",
    "        for j in range(cm.shape[0]):\n",
    "            ax.text(j, i, \"{:,}\".format(cm[i, j]), \n",
    "                    horizontalalignment=\"center\", verticalalignment=\"center\",\n",
    "                    color=\"white\" if cm[i, j] > np.amax(cm)/2 else \"black\")\n",
    "    ax.set_title(\"Matriz de confusión\")\n",
    "    tick_marks = np.arange(len(labels))\n",
    "    plt.xticks(tick_marks, labels)\n",
    "    plt.yticks(tick_marks, labels)\n",
    "    plt.ylabel('Etiqueta real')\n",
    "    plt.xlabel('Predicción')\n",
    "\n",
    "cm = confusion_matrix(y_true=y_test, y_pred=predicted)\n",
    "plot_confusion_matrix(cm, labels=[str(i) for i in range(10)])\n",
    "print(classification_report(y_test, predicted, digits=3))"
   ]
  },
  {
   "cell_type": "code",
   "execution_count": null,
   "id": "c94c8ef7",
   "metadata": {},
   "outputs": [],
   "source": []
  }
 ],
 "metadata": {
  "kernelspec": {
   "display_name": "Python 3 (ipykernel)",
   "language": "python",
   "name": "python3"
  },
  "language_info": {
   "codemirror_mode": {
    "name": "ipython",
    "version": 3
   },
   "file_extension": ".py",
   "mimetype": "text/x-python",
   "name": "python",
   "nbconvert_exporter": "python",
   "pygments_lexer": "ipython3",
   "version": "3.8.10"
  }
 },
 "nbformat": 4,
 "nbformat_minor": 5
}

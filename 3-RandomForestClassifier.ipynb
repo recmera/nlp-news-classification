{
 "cells": [
  {
   "cell_type": "markdown",
   "id": "64cf4d99",
   "metadata": {},
   "source": [
    "# TAL aplicado al análisis del discurso de los medios de prensa 📰🤓🔥\n",
    "\n",
    "\n",
    "Random forest es un algoritmo de aprendizaje supervisado. Se puede utilizar tanto para clasificación como para regresión. También es el algoritmo más flexible y fácil de usar. Random forest está compuesto por árboles. Se dice que cuantos más árboles tiene, más robusto es un bosque. Random forest crea árboles de decisión sobre muestras de datos seleccionadas al azar, obtienen predicciones de cada árbol y seleccionan la mejor solución mediante votación. También proporciona un indicador bastante bueno de la importancia de la función.\n",
    "\n",
    "\n",
    "\n",
    "### índex\n",
    "\n",
    "1. [Importación del dataset](a)\n",
    "2. [Preprocesamiento y representación vectorial](b)\n",
    "3. [Entrenamiento del modelo de clasificación](b)\n",
    "4. [Evaluación del modelo de clasificación](c)\n",
    "\n",
    "    4.4 [Matriz de confusión](d)\n"
   ]
  },
  {
   "cell_type": "code",
   "execution_count": null,
   "id": "e877b198",
   "metadata": {},
   "outputs": [],
   "source": [
    "from IPython.core.display import HTML\n",
    "HTML(\"\"\"\n",
    "<style>\n",
    ".output_png {\n",
    "    display: table-cell;\n",
    "    text-align: center;\n",
    "    vertical-align: middle;\n",
    "}\n",
    "</style>\n",
    "\"\"\")"
   ]
  },
  {
   "cell_type": "code",
   "execution_count": 2,
   "id": "54024000",
   "metadata": {},
   "outputs": [],
   "source": [
    "#NLP\n",
    "import spacy\n",
    "nlp = spacy.load(\"es_core_news_sm\")\n",
    "from spacy.lang.es.stop_words import STOP_WORDS\n",
    "from spacy.lang.es import Spanish\n",
    "import string\n",
    "\n",
    "#SKLEARN\n",
    "from sklearn.model_selection import train_test_split\n",
    "from sklearn.feature_extraction.text import CountVectorizer,TfidfVectorizer\n",
    "from sklearn.base import TransformerMixin\n",
    "from sklearn.pipeline import Pipeline\n",
    "from sklearn import metrics\n",
    "from sklearn.linear_model import LogisticRegression # Regresion Logística\n",
    "\n",
    "# Data manipulation\n",
    "from imblearn.under_sampling import RandomUnderSampler\n",
    "import pandas as pd\n",
    "import numpy as np\n",
    "\n",
    "# Plotting\n",
    "import matplotlib.pyplot as plt\n",
    "from tqdm import tqdm\n"
   ]
  },
  {
   "cell_type": "markdown",
   "id": "18e6d362",
   "metadata": {},
   "source": [
    "### 1. Importación del dataset\n"
   ]
  },
  {
   "cell_type": "code",
   "execution_count": 3,
   "id": "53ee16af",
   "metadata": {
    "scrolled": true
   },
   "outputs": [
    {
     "data": {
      "text/html": [
       "<div>\n",
       "<style scoped>\n",
       "    .dataframe tbody tr th:only-of-type {\n",
       "        vertical-align: middle;\n",
       "    }\n",
       "\n",
       "    .dataframe tbody tr th {\n",
       "        vertical-align: top;\n",
       "    }\n",
       "\n",
       "    .dataframe thead th {\n",
       "        text-align: right;\n",
       "    }\n",
       "</style>\n",
       "<table border=\"1\" class=\"dataframe\">\n",
       "  <thead>\n",
       "    <tr style=\"text-align: right;\">\n",
       "      <th></th>\n",
       "      <th>text</th>\n",
       "      <th>label</th>\n",
       "    </tr>\n",
       "  </thead>\n",
       "  <tbody>\n",
       "    <tr>\n",
       "      <th>0</th>\n",
       "      <td>Francia superó este martes el umbral de los 42...</td>\n",
       "      <td>catástrofes y accidentes</td>\n",
       "    </tr>\n",
       "    <tr>\n",
       "      <th>1</th>\n",
       "      <td>Carmen Balcazar, madre de Luis Morales Balcaza...</td>\n",
       "      <td>catástrofes y accidentes</td>\n",
       "    </tr>\n",
       "    <tr>\n",
       "      <th>2</th>\n",
       "      <td>La pandemia de nuevo coronavirus ha provocado ...</td>\n",
       "      <td>catástrofes y accidentes</td>\n",
       "    </tr>\n",
       "    <tr>\n",
       "      <th>3</th>\n",
       "      <td>Este jueves se registró un temblor magnitud 7....</td>\n",
       "      <td>catástrofes y accidentes</td>\n",
       "    </tr>\n",
       "    <tr>\n",
       "      <th>4</th>\n",
       "      <td>Fue durante el rodaje de la segunda temporada ...</td>\n",
       "      <td>catástrofes y accidentes</td>\n",
       "    </tr>\n",
       "  </tbody>\n",
       "</table>\n",
       "</div>"
      ],
      "text/plain": [
       "                                                text                     label\n",
       "0  Francia superó este martes el umbral de los 42...  catástrofes y accidentes\n",
       "1  Carmen Balcazar, madre de Luis Morales Balcaza...  catástrofes y accidentes\n",
       "2  La pandemia de nuevo coronavirus ha provocado ...  catástrofes y accidentes\n",
       "3  Este jueves se registró un temblor magnitud 7....  catástrofes y accidentes\n",
       "4  Fue durante el rodaje de la segunda temporada ...  catástrofes y accidentes"
      ]
     },
     "metadata": {},
     "output_type": "display_data"
    },
    {
     "data": {
      "text/html": [
       "<div>\n",
       "<style scoped>\n",
       "    .dataframe tbody tr th:only-of-type {\n",
       "        vertical-align: middle;\n",
       "    }\n",
       "\n",
       "    .dataframe tbody tr th {\n",
       "        vertical-align: top;\n",
       "    }\n",
       "\n",
       "    .dataframe thead th {\n",
       "        text-align: right;\n",
       "    }\n",
       "</style>\n",
       "<table border=\"1\" class=\"dataframe\">\n",
       "  <thead>\n",
       "    <tr style=\"text-align: right;\">\n",
       "      <th></th>\n",
       "      <th>text</th>\n",
       "      <th>label</th>\n",
       "    </tr>\n",
       "  </thead>\n",
       "  <tbody>\n",
       "    <tr>\n",
       "      <th>0</th>\n",
       "      <td>La Fiscalía de Arica y detectives de la Brigad...</td>\n",
       "      <td>crimen, delitos y justicia</td>\n",
       "    </tr>\n",
       "    <tr>\n",
       "      <th>1</th>\n",
       "      <td>Miles de turistas que viajaron al sur de Chile...</td>\n",
       "      <td>ecología y planeta</td>\n",
       "    </tr>\n",
       "    <tr>\n",
       "      <th>2</th>\n",
       "      <td>Crédito: @dw_espanolLas autoridades decidieron...</td>\n",
       "      <td>ecología y planeta</td>\n",
       "    </tr>\n",
       "    <tr>\n",
       "      <th>3</th>\n",
       "      <td>Luego de que la Unidad de Investigación de Rad...</td>\n",
       "      <td>crimen, delitos y justicia</td>\n",
       "    </tr>\n",
       "    <tr>\n",
       "      <th>4</th>\n",
       "      <td>golagol('/especiales/2020/deportes/gol-gol/Pri...</td>\n",
       "      <td>deporte</td>\n",
       "    </tr>\n",
       "  </tbody>\n",
       "</table>\n",
       "</div>"
      ],
      "text/plain": [
       "                                                text  \\\n",
       "0  La Fiscalía de Arica y detectives de la Brigad...   \n",
       "1  Miles de turistas que viajaron al sur de Chile...   \n",
       "2  Crédito: @dw_espanolLas autoridades decidieron...   \n",
       "3  Luego de que la Unidad de Investigación de Rad...   \n",
       "4  golagol('/especiales/2020/deportes/gol-gol/Pri...   \n",
       "\n",
       "                        label  \n",
       "0  crimen, delitos y justicia  \n",
       "1          ecología y planeta  \n",
       "2          ecología y planeta  \n",
       "3  crimen, delitos y justicia  \n",
       "4                     deporte  "
      ]
     },
     "metadata": {},
     "output_type": "display_data"
    },
    {
     "data": {
      "text/html": [
       "<div>\n",
       "<style scoped>\n",
       "    .dataframe tbody tr th:only-of-type {\n",
       "        vertical-align: middle;\n",
       "    }\n",
       "\n",
       "    .dataframe tbody tr th {\n",
       "        vertical-align: top;\n",
       "    }\n",
       "\n",
       "    .dataframe thead th {\n",
       "        text-align: right;\n",
       "    }\n",
       "</style>\n",
       "<table border=\"1\" class=\"dataframe\">\n",
       "  <thead>\n",
       "    <tr style=\"text-align: right;\">\n",
       "      <th></th>\n",
       "      <th>text</th>\n",
       "      <th>label</th>\n",
       "    </tr>\n",
       "  </thead>\n",
       "  <tbody>\n",
       "    <tr>\n",
       "      <th>0</th>\n",
       "      <td>El Tribunal Constitucional (TC) resolvió este ...</td>\n",
       "      <td>política y conflictos</td>\n",
       "    </tr>\n",
       "    <tr>\n",
       "      <th>1</th>\n",
       "      <td>El 25° Juzgado Civil de Santiago condenó al fi...</td>\n",
       "      <td>catástrofes y accidentes</td>\n",
       "    </tr>\n",
       "    <tr>\n",
       "      <th>2</th>\n",
       "      <td>Desde su creación en la ciudad de Valparaíso e...</td>\n",
       "      <td>cultura y arte</td>\n",
       "    </tr>\n",
       "    <tr>\n",
       "      <th>3</th>\n",
       "      <td>Un escándalo. El volante marfileño Yaya Touré ...</td>\n",
       "      <td>cultura y arte</td>\n",
       "    </tr>\n",
       "    <tr>\n",
       "      <th>4</th>\n",
       "      <td>Durante la versión más reciente de “War Table”...</td>\n",
       "      <td>política y conflictos</td>\n",
       "    </tr>\n",
       "  </tbody>\n",
       "</table>\n",
       "</div>"
      ],
      "text/plain": [
       "                                                text                     label\n",
       "0  El Tribunal Constitucional (TC) resolvió este ...     política y conflictos\n",
       "1  El 25° Juzgado Civil de Santiago condenó al fi...  catástrofes y accidentes\n",
       "2  Desde su creación en la ciudad de Valparaíso e...            cultura y arte\n",
       "3  Un escándalo. El volante marfileño Yaya Touré ...            cultura y arte\n",
       "4  Durante la versión más reciente de “War Table”...     política y conflictos"
      ]
     },
     "metadata": {},
     "output_type": "display_data"
    }
   ],
   "source": [
    "train = pd.read_csv(\"CNN_train.csv\")\n",
    "test = pd.read_csv(\"CNN_test.csv\")\n",
    "display(train.head(5), valid.head(5), test.head(5))"
   ]
  },
  {
   "cell_type": "code",
   "execution_count": 4,
   "id": "37cf7a8e",
   "metadata": {
    "scrolled": true
   },
   "outputs": [
    {
     "data": {
      "text/plain": [
       "economía                      3927\n",
       "catástrofes y accidentes      3927\n",
       "ciencia y tecnología          3927\n",
       "cultura y arte                3927\n",
       "política y conflictos         3927\n",
       "deporte                       3927\n",
       "mundo                         3927\n",
       "ecología y planeta            3927\n",
       "salud                         3927\n",
       "crimen, delitos y justicia    3927\n",
       "Name: label, dtype: int64"
      ]
     },
     "execution_count": 4,
     "metadata": {},
     "output_type": "execute_result"
    }
   ],
   "source": [
    "train['label'].value_counts()"
   ]
  },
  {
   "cell_type": "code",
   "execution_count": 5,
   "id": "c4465851",
   "metadata": {},
   "outputs": [],
   "source": [
    "X_train = train['text']\n",
    "y_train = train['label']\n",
    "X_test = test['text']\n",
    "y_test = test['label']"
   ]
  },
  {
   "cell_type": "markdown",
   "id": "6ef678f2",
   "metadata": {},
   "source": [
    "### 2. Preprocesamiento y representación vectorial"
   ]
  },
  {
   "cell_type": "code",
   "execution_count": 6,
   "id": "363cdeff",
   "metadata": {},
   "outputs": [],
   "source": [
    "# Create our list of punctuation marks\n",
    "punctuations = [\".\",\",\",\"!\",\"?\", \"#\",\"&\"]\n",
    "\n",
    "# Create our list of stopwords\n",
    "stop_words=[\"\"]\n",
    "\n",
    "# Load English tokenizer, tagger, parser, NER and word vectors\n",
    "parser = Spanish()\n",
    "\n",
    "# Creating our tokenizer function\n",
    "def spacy_tokenizer(sentence):\n",
    "    # Creating our token object, which is used to create documents with linguistic annotations.\n",
    "    mytokens = parser(sentence)\n",
    "\n",
    "    # Lemmatizing each token and converting each token into lowercase\n",
    "    mytokens = [word.lower_ for word in mytokens]\n",
    "        \n",
    "    # Removing stop words\n",
    "    mytokens = [ word for word in mytokens if word not in stop_words and word not in punctuations ]\n",
    "\n",
    "    # return preprocessed list of tokens\n",
    "    return mytokens"
   ]
  },
  {
   "cell_type": "code",
   "execution_count": 7,
   "id": "30302d65",
   "metadata": {},
   "outputs": [
    {
     "data": {
      "text/plain": [
       "CountVectorizer(tokenizer=<function spacy_tokenizer at 0x7fe2e92a81f0>)"
      ]
     },
     "execution_count": 7,
     "metadata": {},
     "output_type": "execute_result"
    }
   ],
   "source": [
    "bow_vector = CountVectorizer(tokenizer = spacy_tokenizer, ngram_range=(1,1))\n",
    "bow_vector"
   ]
  },
  {
   "cell_type": "code",
   "execution_count": 8,
   "id": "2a0a6dc2",
   "metadata": {},
   "outputs": [],
   "source": [
    "tfidf_vector = TfidfVectorizer(tokenizer = spacy_tokenizer, ngram_range=(1,1))"
   ]
  },
  {
   "cell_type": "markdown",
   "id": "59c92da1",
   "metadata": {},
   "source": [
    "### 3. Entrenamiento del modelo de clasificación"
   ]
  },
  {
   "cell_type": "code",
   "execution_count": 9,
   "id": "e410cee7",
   "metadata": {
    "scrolled": true
   },
   "outputs": [
    {
     "data": {
      "text/plain": [
       "Pipeline(steps=[('preprocessing',\n",
       "                 CountVectorizer(tokenizer=<function spacy_tokenizer at 0x7fe2e92a81f0>)),\n",
       "                ('regression-ML', RandomForestClassifier(random_state=0))])"
      ]
     },
     "execution_count": 9,
     "metadata": {},
     "output_type": "execute_result"
    }
   ],
   "source": [
    "from sklearn.ensemble import RandomForestClassifier\n",
    "modelRF = RandomForestClassifier(random_state=0)\n",
    "\n",
    "model3 = Pipeline([('preprocessing', bow_vector),\n",
    "                 ('regression-ML', modelRF)])\n",
    "\n",
    "# model generation\n",
    "model3.fit(X_train,y_train)"
   ]
  },
  {
   "cell_type": "markdown",
   "id": "36f35c29",
   "metadata": {},
   "source": [
    "\n",
    "### 4. Evaluación del modelo de clasificación\n"
   ]
  },
  {
   "cell_type": "code",
   "execution_count": 10,
   "id": "578de660",
   "metadata": {
    "scrolled": true
   },
   "outputs": [
    {
     "name": "stdout",
     "output_type": "stream",
     "text": [
      "['política y conflictos' 'catástrofes y accidentes' 'cultura y arte' ...\n",
      " 'mundo' 'salud' 'crimen, delitos y justicia']\n",
      "Logistic Regression Accuracy: 0.6887743145066791\n",
      "Logistic Regression Precision: 0.6887743145066791\n",
      "Logistic Regression Recall: 0.6887743145066791\n"
     ]
    }
   ],
   "source": [
    "# Predicting with a test dataset\n",
    "predicted = model3.predict(X_test)\n",
    "print(predicted)\n",
    "\n",
    "# Model Accuracy\n",
    "print(\"Logistic Regression Accuracy:\",metrics.accuracy_score(y_test, predicted))\n",
    "print(\"Logistic Regression Precision:\",metrics.precision_score(y_test, predicted, \n",
    "                                           average='micro'))\n",
    "print(\"Logistic Regression Recall:\",metrics.recall_score(y_test, predicted, \n",
    "                                           average='micro'))"
   ]
  },
  {
   "cell_type": "markdown",
   "id": "66b000d2",
   "metadata": {},
   "source": [
    "\n",
    "### 4.1. Matriz de confusión\n"
   ]
  },
  {
   "cell_type": "code",
   "execution_count": 14,
   "id": "dbb9d957",
   "metadata": {},
   "outputs": [
    {
     "data": {
      "image/png": "[encoded data removed]",
      "text/plain": [
       "<Figure size 504x504 with 1 Axes>"
      ]
     },
     "metadata": {
      "needs_background": "light"
     },
     "output_type": "display_data"
    },
    {
     "name": "stdout",
     "output_type": "stream",
     "text": [
      "                            precision    recall  f1-score   support\n",
      "\n",
      "  catástrofes y accidentes      0.774     0.875     0.821       894\n",
      "      ciencia y tecnología      0.565     0.501     0.531       845\n",
      "crimen, delitos y justicia      0.657     0.824     0.731       867\n",
      "            cultura y arte      0.818     0.935     0.873       857\n",
      "                   deporte      0.588     0.478     0.528       836\n",
      "        ecología y planeta      0.857     0.925     0.890       852\n",
      "                  economía      0.717     0.748     0.732       813\n",
      "                     mundo      0.488     0.282     0.358       861\n",
      "     política y conflictos      0.543     0.425     0.477       836\n",
      "                     salud      0.688     0.875     0.771       873\n",
      "\n",
      "                  accuracy                          0.689      8534\n",
      "                 macro avg      0.670     0.687     0.671      8534\n",
      "              weighted avg      0.670     0.689     0.672      8534\n",
      "\n"
     ]
    }
   ],
   "source": [
    "from sklearn.metrics import confusion_matrix, classification_report\n",
    "\n",
    "def plot_confusion_matrix(cm, labels, cmap=plt.cm.Blues):\n",
    "    fig, ax = plt.subplots(figsize=(7, 7), tight_layout=True)\n",
    "    ax.imshow(cm, interpolation='nearest', cmap=cmap)\n",
    "    for i in range(cm.shape[1]):\n",
    "        for j in range(cm.shape[0]):\n",
    "            ax.text(j, i, \"{:,}\".format(cm[i, j]), \n",
    "                    horizontalalignment=\"center\", verticalalignment=\"center\",\n",
    "                    color=\"white\" if cm[i, j] > np.amax(cm)/2 else \"black\")\n",
    "    ax.set_title(\"Matriz de confusión\")\n",
    "    tick_marks = np.arange(len(labels))\n",
    "    plt.xticks(tick_marks, labels, rotation='vertical')\n",
    "    plt.yticks(tick_marks, labels)\n",
    "    plt.ylabel('Etiqueta real')\n",
    "    plt.xlabel('Predicción')\n",
    "    plt.show()\n",
    "\n",
    "cm = confusion_matrix(y_true=y_test, y_pred=predicted)\n",
    "plot_confusion_matrix(cm, labels=list(test['label'].unique()))\n",
    "print(classification_report(y_test, predicted, digits=3))"
   ]
  },
  {
   "cell_type": "code",
   "execution_count": null,
   "id": "c94c8ef7",
   "metadata": {},
   "outputs": [],
   "source": []
  },
  {
   "cell_type": "code",
   "execution_count": null,
   "id": "569cc080",
   "metadata": {},
   "outputs": [],
   "source": []
  },
  {
   "cell_type": "code",
   "execution_count": null,
   "id": "6dabb2e2",
   "metadata": {},
   "outputs": [],
   "source": []
  }
 ],
 "metadata": {
  "kernelspec": {
   "display_name": "Python 3 (ipykernel)",
   "language": "python",
   "name": "python3"
  },
  "language_info": {
   "codemirror_mode": {
    "name": "ipython",
    "version": 3
   },
   "file_extension": ".py",
   "mimetype": "text/x-python",
   "name": "python",
   "nbconvert_exporter": "python",
   "pygments_lexer": "ipython3",
   "version": "3.8.10"
  }
 },
 "nbformat": 4,
 "nbformat_minor": 5
}
